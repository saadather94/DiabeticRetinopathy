{
 "cells": [
  {
   "cell_type": "code",
   "execution_count": null,
   "id": "35bcac70-0ba0-4838-a5a9-16cdc0109b60",
   "metadata": {},
   "outputs": [],
   "source": []
  },
  {
   "cell_type": "code",
   "execution_count": 1,
   "id": "81ae7a91",
   "metadata": {
    "tags": []
   },
   "outputs": [
    {
     "name": "stdout",
     "output_type": "stream",
     "text": [
      "WARNING:tensorflow:There are non-GPU devices in `tf.distribute.Strategy`, not using nccl allreduce.\n",
      "INFO:tensorflow:Using MirroredStrategy with devices ('/job:localhost/replica:0/task:0/device:CPU:0',)\n",
      "DEVICES AVAILABLE: 1\n"
     ]
    }
   ],
   "source": [
    "from matplotlib import pyplot as plt\n",
    "import cv2, numpy as np, pathlib, os, PIL, PIL.Image, glob\n",
    "import numpy as np\n",
    "from skimage import data\n",
    "from skimage import io, morphology\n",
    "import tensorflow as tf\n",
    "import time\n",
    "from PIL import Image\n",
    "import math\n",
    "import timeit\n",
    "import pywt\n",
    "from sklearn.metrics import accuracy_score as acc, auc, f1_score\n",
    "import warnings\n",
    "from sklearn import metrics\n",
    "\n",
    "width = 512\n",
    "height = 512\n",
    "dim = (width, height)\n",
    "sharpen = np.array([\n",
    "    [0, -1, 0],\n",
    "    [-1, 5, -1],\n",
    "    [0, -1, 0]\n",
    "])\n",
    "\n",
    "strategy = tf.distribute.MirroredStrategy()\n",
    "print('DEVICES AVAILABLE: {}'.format(strategy.num_replicas_in_sync))"
   ]
  },
  {
   "cell_type": "code",
   "execution_count": null,
   "id": "b6f30255",
   "metadata": {},
   "outputs": [],
   "source": []
  },
  {
   "cell_type": "code",
   "execution_count": 38,
   "id": "387e52e1",
   "metadata": {
    "execution": {
     "iopub.execute_input": "2023-05-02T14:52:51.696591Z",
     "iopub.status.busy": "2023-05-02T14:52:51.695940Z",
     "iopub.status.idle": "2023-05-02T14:53:41.030586Z",
     "shell.execute_reply": "2023-05-02T14:53:41.029482Z",
     "shell.execute_reply.started": "2023-05-02T14:52:51.696550Z"
    }
   },
   "outputs": [],
   "source": [
    "data_dir = pathlib.Path('/kaggle/input/exu-dataset/IMG_EXU_SET').with_suffix('')\n",
    "data_dir2 = pathlib.Path('/kaggle/input/exu-dataset/IMG_EXU_SET/AbNR').with_suffix('')\n",
    "\n",
    "\n",
    "NR = data_dir.glob('NR/*.*')\n",
    "ABNOR = data_dir.glob('ABNOR/*.*')\n",
    "\n",
    "EX = data_dir2.glob('EX/*.*')\n",
    "NO_EX =data_dir2.glob('NO_EX/*.*')\n",
    "\n",
    "\n",
    "data = []\n",
    "labels = []\n",
    "\n",
    "data_ex = []\n",
    "labels_ex = []\n",
    "\n",
    "\n",
    "\n",
    "for i in NR:   \n",
    "    \n",
    "    im1 = cv2.imread(str(i))\n",
    "    im1 = im1[:,:,1]\n",
    "    im1 = cv2.resize(im1,dim, interpolation = cv2.INTER_AREA).reshape(dim[0],dim[1])\n",
    "    data.append(im1)\n",
    "    labels.append(0)\n",
    "    \n",
    "for i in ABNOR:   \n",
    "    \n",
    "    im1 = cv2.imread(str(i))\n",
    "    im1 = im1[:,:,1]\n",
    "    im1 = cv2.resize(im1,dim, interpolation = cv2.INTER_AREA).reshape(dim[0],dim[1])\n",
    "    data.append(im1)\n",
    "    labels.append(1)\n",
    "    \n",
    "\n",
    "data = np.array(data)\n",
    "labels = np.array(labels)\n",
    "\n",
    "for i in NO_EX:   \n",
    "    \n",
    "    im1 = cv2.imread(str(i))\n",
    "    im1 = im1[:,:,1]\n",
    "    im1 = cv2.resize(im1,dim, interpolation = cv2.INTER_AREA).reshape(dim[0],dim[1])\n",
    "    data_ex.append(im1)\n",
    "    labels_ex.append(0)\n",
    "    \n",
    "\n",
    "for i in EX:   \n",
    "    \n",
    "    im1 = cv2.imread(str(i))\n",
    "    im1 = im1[:,:,1]\n",
    "    im1 = cv2.resize(im1,dim, interpolation = cv2.INTER_AREA).reshape(dim[0],dim[1])\n",
    "    data_ex.append(im1)\n",
    "    labels_ex.append(1)\n",
    "    \n",
    "\n",
    "data_ex = np.array(data_ex)\n",
    "labels_ex = np.array(labels_ex)\n",
    "\n",
    "\n"
   ]
  },
  {
   "cell_type": "code",
   "execution_count": 39,
   "id": "313b792a",
   "metadata": {
    "execution": {
     "iopub.execute_input": "2023-05-02T14:53:47.867013Z",
     "iopub.status.busy": "2023-05-02T14:53:47.866262Z",
     "iopub.status.idle": "2023-05-02T14:53:47.873775Z",
     "shell.execute_reply": "2023-05-02T14:53:47.872499Z",
     "shell.execute_reply.started": "2023-05-02T14:53:47.866971Z"
    }
   },
   "outputs": [
    {
     "data": {
      "text/plain": [
       "(150, 512, 512)"
      ]
     },
     "execution_count": 39,
     "metadata": {},
     "output_type": "execute_result"
    }
   ],
   "source": [
    "data_ex.shape"
   ]
  },
  {
   "cell_type": "code",
   "execution_count": 2,
   "id": "fa79a990",
   "metadata": {
    "tags": []
   },
   "outputs": [],
   "source": [
    "def encode(labels):\n",
    "\n",
    "    from sklearn.preprocessing import OneHotEncoder\n",
    "    onehot_encoder = OneHotEncoder(sparse=False)\n",
    "    integer_encoded = labels.reshape(len(labels), 1)           #before labels_batch\n",
    "    label_encoded = onehot_encoder.fit_transform(integer_encoded)\n",
    "    return label_encoded\n"
   ]
  },
  {
   "cell_type": "code",
   "execution_count": null,
   "id": "fc89c97d",
   "metadata": {},
   "outputs": [],
   "source": []
  },
  {
   "cell_type": "code",
   "execution_count": 41,
   "id": "b6f53aaf",
   "metadata": {
    "execution": {
     "iopub.execute_input": "2023-05-02T14:53:57.307851Z",
     "iopub.status.busy": "2023-05-02T14:53:57.307433Z",
     "iopub.status.idle": "2023-05-02T14:53:57.353503Z",
     "shell.execute_reply": "2023-05-02T14:53:57.352384Z",
     "shell.execute_reply.started": "2023-05-02T14:53:57.307813Z"
    },
    "tags": []
   },
   "outputs": [],
   "source": [
    "from sklearn.model_selection import train_test_split\n",
    "X_train, X_test, ytrain, ytest = train_test_split(data, encode(labels), test_size=0.15,\n",
    "                                                random_state=42)\n",
    "\n",
    "\n",
    "X_train_ex, X_test_ex, ytrain_ex, ytest_ex = train_test_split(data_ex, encode(labels_ex), test_size=0.15,\n",
    "                                                random_state=42)\n"
   ]
  },
  {
   "cell_type": "code",
   "execution_count": null,
   "id": "a5b7ea5a",
   "metadata": {},
   "outputs": [],
   "source": []
  },
  {
   "cell_type": "code",
   "execution_count": 3,
   "id": "33c0f7b2",
   "metadata": {
    "tags": []
   },
   "outputs": [],
   "source": [
    "import tensorflow as tf\n",
    "\n",
    "# with strategy.scope():\n",
    "\n",
    "def get_model_1(width, height):\n",
    "\n",
    "    inputs = tf.keras.Input((width, height, 1))\n",
    "    conv1 = tf.keras.layers.Conv2D(filters=16, kernel_size=5, strides=1)(inputs)\n",
    "    BN1 = tf.keras.layers.BatchNormalization()(conv1)\n",
    "    relu1 = tf.keras.layers.Activation(activation='relu')(BN1)\n",
    "\n",
    "    conv2 = tf.keras.layers.Conv2D(filters=32, kernel_size=3, strides=2,padding='same')(relu1)\n",
    "    BN2 = tf.keras.layers.BatchNormalization()(conv2)\n",
    "    relu2 = tf.keras.layers.Activation(activation='relu')(BN2)\n",
    "\n",
    "    conv3 = tf.keras.layers.Conv2D(filters=32, kernel_size=3, strides=1,padding='same')(relu2)\n",
    "    BN3 = tf.keras.layers.BatchNormalization()(conv3)\n",
    "    relu3 = tf.keras.layers.Activation(activation='relu')(BN3)\n",
    "\n",
    "    skipconv = tf.keras.layers.Conv2D(filters=32, kernel_size=1, strides=2)(relu1)\n",
    "\n",
    "    Add = tf.keras.layers.Add()([skipconv,relu3])\n",
    "    AvgPool = tf.keras.layers.AveragePooling2D(pool_size=(2,2), strides=2)(Add)\n",
    "    FC = tf.keras.layers.Flatten()(AvgPool)\n",
    "\n",
    "    output = tf.keras.layers.Dense(2,activation='softmax')(FC)\n",
    "\n",
    "\n",
    "\n",
    "    model = tf.keras.Model(inputs, output,name='BASE_MODEL')\n",
    "\n",
    "    return model\n",
    "\n",
    "\n",
    "\n"
   ]
  },
  {
   "cell_type": "code",
   "execution_count": null,
   "id": "9ec882c6",
   "metadata": {},
   "outputs": [],
   "source": []
  },
  {
   "cell_type": "code",
   "execution_count": 42,
   "id": "9b74b3a9",
   "metadata": {
    "execution": {
     "iopub.execute_input": "2023-05-02T14:54:02.995778Z",
     "iopub.status.busy": "2023-05-02T14:54:02.994624Z",
     "iopub.status.idle": "2023-05-02T14:54:03.286654Z",
     "shell.execute_reply": "2023-05-02T14:54:03.285881Z",
     "shell.execute_reply.started": "2023-05-02T14:54:02.995729Z"
    },
    "tags": []
   },
   "outputs": [
    {
     "name": "stdout",
     "output_type": "stream",
     "text": [
      "Model: \"BASE_MODEL\"\n",
      "__________________________________________________________________________________________________\n",
      " Layer (type)                   Output Shape         Param #     Connected to                     \n",
      "==================================================================================================\n",
      " input_4 (InputLayer)           [(None, 512, 512, 1  0           []                               \n",
      "                                )]                                                                \n",
      "                                                                                                  \n",
      " conv2d_12 (Conv2D)             (None, 508, 508, 16  416         ['input_4[0][0]']                \n",
      "                                )                                                                 \n",
      "                                                                                                  \n",
      " batch_normalization_9 (BatchNo  (None, 508, 508, 16  64         ['conv2d_12[0][0]']              \n",
      " rmalization)                   )                                                                 \n",
      "                                                                                                  \n",
      " activation_9 (Activation)      (None, 508, 508, 16  0           ['batch_normalization_9[0][0]']  \n",
      "                                )                                                                 \n",
      "                                                                                                  \n",
      " conv2d_13 (Conv2D)             (None, 254, 254, 32  4640        ['activation_9[0][0]']           \n",
      "                                )                                                                 \n",
      "                                                                                                  \n",
      " batch_normalization_10 (BatchN  (None, 254, 254, 32  128        ['conv2d_13[0][0]']              \n",
      " ormalization)                  )                                                                 \n",
      "                                                                                                  \n",
      " activation_10 (Activation)     (None, 254, 254, 32  0           ['batch_normalization_10[0][0]'] \n",
      "                                )                                                                 \n",
      "                                                                                                  \n",
      " conv2d_14 (Conv2D)             (None, 254, 254, 32  9248        ['activation_10[0][0]']          \n",
      "                                )                                                                 \n",
      "                                                                                                  \n",
      " batch_normalization_11 (BatchN  (None, 254, 254, 32  128        ['conv2d_14[0][0]']              \n",
      " ormalization)                  )                                                                 \n",
      "                                                                                                  \n",
      " conv2d_15 (Conv2D)             (None, 254, 254, 32  544         ['activation_9[0][0]']           \n",
      "                                )                                                                 \n",
      "                                                                                                  \n",
      " activation_11 (Activation)     (None, 254, 254, 32  0           ['batch_normalization_11[0][0]'] \n",
      "                                )                                                                 \n",
      "                                                                                                  \n",
      " add_3 (Add)                    (None, 254, 254, 32  0           ['conv2d_15[0][0]',              \n",
      "                                )                                 'activation_11[0][0]']          \n",
      "                                                                                                  \n",
      " average_pooling2d_3 (AveragePo  (None, 127, 127, 32  0          ['add_3[0][0]']                  \n",
      " oling2D)                       )                                                                 \n",
      "                                                                                                  \n",
      " flatten_3 (Flatten)            (None, 516128)       0           ['average_pooling2d_3[0][0]']    \n",
      "                                                                                                  \n",
      " dense_3 (Dense)                (None, 2)            1032258     ['flatten_3[0][0]']              \n",
      "                                                                                                  \n",
      "==================================================================================================\n",
      "Total params: 1,047,426\n",
      "Trainable params: 1,047,266\n",
      "Non-trainable params: 160\n",
      "__________________________________________________________________________________________________\n"
     ]
    }
   ],
   "source": [
    "\n",
    "# Build model.\n",
    "width = data[0][0].shape[0]\n",
    "height = data[0][1].shape[0]\n",
    "\n",
    "with strategy.scope():\n",
    "    model1 = get_model_1(width, height)\n",
    "\n",
    "model1.summary()\n"
   ]
  },
  {
   "cell_type": "code",
   "execution_count": 48,
   "id": "2b314339",
   "metadata": {
    "execution": {
     "iopub.execute_input": "2023-05-02T14:57:29.242336Z",
     "iopub.status.busy": "2023-05-02T14:57:29.241961Z",
     "iopub.status.idle": "2023-05-02T14:57:55.875955Z",
     "shell.execute_reply": "2023-05-02T14:57:55.874475Z",
     "shell.execute_reply.started": "2023-05-02T14:57:29.242301Z"
    }
   },
   "outputs": [
    {
     "name": "stdout",
     "output_type": "stream",
     "text": [
      "Epoch 1/10\n",
      "5/5 [==============================] - 9s 163ms/step - loss: 1.9606e-04 - acc: 1.0000 - precision_2: 1.0000 - recall_2: 1.0000\n",
      "Epoch 2/10\n",
      "5/5 [==============================] - 1s 146ms/step - loss: 0.0036 - acc: 1.0000 - precision_2: 1.0000 - recall_2: 1.0000\n",
      "Epoch 3/10\n",
      "5/5 [==============================] - 1s 155ms/step - loss: 0.0102 - acc: 1.0000 - precision_2: 1.0000 - recall_2: 1.0000\n",
      "Epoch 4/10\n",
      "5/5 [==============================] - 1s 166ms/step - loss: 0.0065 - acc: 1.0000 - precision_2: 1.0000 - recall_2: 1.0000\n",
      "Epoch 5/10\n",
      "5/5 [==============================] - 2s 336ms/step - loss: 7.4960e-05 - acc: 1.0000 - precision_2: 1.0000 - recall_2: 1.0000 - val_loss: 1.7282 - val_acc: 0.8750 - val_precision_2: 0.8750 - val_recall_2: 0.8750\n",
      "Epoch 6/10\n",
      "5/5 [==============================] - 1s 132ms/step - loss: 0.0029 - acc: 1.0000 - precision_2: 1.0000 - recall_2: 1.0000\n",
      "Epoch 7/10\n",
      "5/5 [==============================] - 1s 161ms/step - loss: 2.7429e-04 - acc: 1.0000 - precision_2: 1.0000 - recall_2: 1.0000\n",
      "Epoch 8/10\n",
      "5/5 [==============================] - 1s 135ms/step - loss: 1.8414e-04 - acc: 1.0000 - precision_2: 1.0000 - recall_2: 1.0000\n",
      "Epoch 9/10\n",
      "5/5 [==============================] - 1s 141ms/step - loss: 6.4796e-05 - acc: 1.0000 - precision_2: 1.0000 - recall_2: 1.0000\n",
      "Epoch 10/10\n",
      "5/5 [==============================] - 1s 175ms/step - loss: 4.7501e-06 - acc: 1.0000 - precision_2: 1.0000 - recall_2: 1.0000 - val_loss: 0.7721 - val_acc: 0.8750 - val_precision_2: 0.8750 - val_recall_2: 0.8750\n"
     ]
    },
    {
     "data": {
      "text/plain": [
       "<keras.callbacks.History at 0x753af2b81e90>"
      ]
     },
     "execution_count": 48,
     "metadata": {},
     "output_type": "execute_result"
    }
   ],
   "source": [
    "# model1.load_weights('/kaggle/working/No_Process_model1.h5')\n",
    "\n",
    "lr_schedule = tf.keras.optimizers.schedules.ExponentialDecay(\n",
    "    initial_learning_rate=1e-4,\n",
    "    decay_steps=10000,\n",
    "    decay_rate=0.9)\n",
    "\n",
    "with strategy.scope():\n",
    "    model1.compile(\n",
    "        loss=\"binary_crossentropy\",\n",
    "        optimizer=tf.keras.optimizers.Adam(learning_rate=1e-4),\n",
    "        metrics=['acc',tf.keras.metrics.Precision(),\n",
    "                          tf.keras.metrics.Recall()],\n",
    "    )\n",
    "\n",
    "# Define callbacks.\n",
    "checkpoint_cb = tf.keras.callbacks.ModelCheckpoint(\n",
    "    \"image_classification.h5\", save_best_only=True\n",
    ")\n",
    "\n",
    "early_stopping_cb = tf.keras.callbacks.EarlyStopping(monitor=\"acc\", patience=4)\n",
    "\n",
    "\n",
    "epochs = 10\n",
    "model1.fit(\n",
    "    x=X_train,\n",
    "    y=ytrain,\n",
    "    validation_split=0.1,\n",
    "    validation_freq=5,\n",
    "    epochs=epochs,\n",
    "    shuffle=True,\n",
    "    batch_size=32,\n",
    "    \n",
    "    # callbacks=[checkpoint_cb, early_stopping_cb],\n",
    ")"
   ]
  },
  {
   "cell_type": "code",
   "execution_count": null,
   "id": "8843547d",
   "metadata": {},
   "outputs": [],
   "source": []
  },
  {
   "cell_type": "code",
   "execution_count": 49,
   "id": "317a8282",
   "metadata": {
    "execution": {
     "iopub.execute_input": "2023-05-02T14:57:55.878619Z",
     "iopub.status.busy": "2023-05-02T14:57:55.878199Z",
     "iopub.status.idle": "2023-05-02T14:57:57.428769Z",
     "shell.execute_reply": "2023-05-02T14:57:57.427459Z",
     "shell.execute_reply.started": "2023-05-02T14:57:55.878576Z"
    }
   },
   "outputs": [
    {
     "name": "stdout",
     "output_type": "stream",
     "text": [
      "1/1 [==============================] - 1s 1s/step\n",
      "Model Classification report \n",
      "\n",
      "               precision    recall  f1-score   support\n",
      "\n",
      "           0       0.92      0.73      0.81        15\n",
      "           1       0.75      0.92      0.83        13\n",
      "\n",
      "   micro avg       0.82      0.82      0.82        28\n",
      "   macro avg       0.83      0.83      0.82        28\n",
      "weighted avg       0.84      0.82      0.82        28\n",
      " samples avg       0.82      0.82      0.82        28\n",
      "\n",
      "Model accuracy  82.14285714285714 %\n"
     ]
    }
   ],
   "source": [
    "# model1.load_weights('/kaggle/working/No_Process_model1.h5')\n",
    "pred = model1.predict(X_test).round()\n",
    "print('Model Classification report \\n\\n {}'.format(metrics.classification_report(ytest,pred)))\n",
    "print('Model accuracy  {} %'.format(metrics.accuracy_score(ytest,pred)*100))\n"
   ]
  },
  {
   "cell_type": "code",
   "execution_count": 50,
   "id": "160b962f",
   "metadata": {
    "execution": {
     "iopub.execute_input": "2023-05-02T14:58:04.416469Z",
     "iopub.status.busy": "2023-05-02T14:58:04.415342Z",
     "iopub.status.idle": "2023-05-02T14:58:04.915221Z",
     "shell.execute_reply": "2023-05-02T14:58:04.914191Z",
     "shell.execute_reply.started": "2023-05-02T14:58:04.416397Z"
    }
   },
   "outputs": [
    {
     "data": {
      "image/png": "[encoded data removed]",
      "text/plain": [
       "<Figure size 640x480 with 2 Axes>"
      ]
     },
     "metadata": {},
     "output_type": "display_data"
    }
   ],
   "source": [
    "import seaborn as sns\n",
    "class_names = ['NR','AbNR']  \n",
    "ax= plt.subplot()\n",
    "cm = metrics.confusion_matrix(ytest.argmax(axis=1), pred.argmax(axis=1))\n",
    "sns.heatmap(cm, annot=True, fmt='g', ax=ax);  #annot=True to annotate cells, ftm='g' to disable scientific notation\n",
    "# labels, title and ticks\n",
    "ax.set_xlabel('Predicted labels');ax.set_ylabel('True labels'); \n",
    "ax.set_title('Confusion Matrix'); \n",
    "ax.xaxis.set_ticklabels(class_names); ax.yaxis.set_ticklabels(class_names);\n"
   ]
  },
  {
   "cell_type": "code",
   "execution_count": 51,
   "id": "124b585b",
   "metadata": {
    "execution": {
     "iopub.execute_input": "2023-05-02T14:58:09.754327Z",
     "iopub.status.busy": "2023-05-02T14:58:09.753165Z",
     "iopub.status.idle": "2023-05-02T14:58:09.854908Z",
     "shell.execute_reply": "2023-05-02T14:58:09.853717Z",
     "shell.execute_reply.started": "2023-05-02T14:58:09.754276Z"
    }
   },
   "outputs": [],
   "source": [
    "model1.save('No_Process_model1.h5')"
   ]
  },
  {
   "cell_type": "code",
   "execution_count": 66,
   "id": "b5f224ee",
   "metadata": {
    "tags": []
   },
   "outputs": [],
   "source": [
    "import tensorflow as tf\n",
    "\n",
    "# with strategy.scope():\n",
    "\n",
    "def get_model_2(width, height):\n",
    "\n",
    "    inputs = tf.keras.Input((width, height, 1))\n",
    "    conv1 = tf.keras.layers.Conv2D(filters=16, kernel_size=5, strides=1)(inputs)\n",
    "    BN1 = tf.keras.layers.BatchNormalization()(conv1)\n",
    "    relu1 = tf.keras.layers.Activation(activation='relu')(BN1)\n",
    "\n",
    "    conv2 = tf.keras.layers.Conv2D(filters=32, kernel_size=3, strides=2,padding='same')(relu1)\n",
    "    BN2 = tf.keras.layers.BatchNormalization()(conv2)\n",
    "    relu2 = tf.keras.layers.Activation(activation='relu')(BN2)\n",
    "\n",
    "    conv3 = tf.keras.layers.Conv2D(filters=32, kernel_size=3, strides=1,padding='same')(relu2)\n",
    "    BN3 = tf.keras.layers.BatchNormalization()(conv3)\n",
    "    relu3 = tf.keras.layers.Activation(activation='relu')(BN3)\n",
    "\n",
    "    skipconv = tf.keras.layers.Conv2D(filters=32, kernel_size=1, strides=2)(relu1)\n",
    "\n",
    "    Add = tf.keras.layers.Add()([skipconv,relu3])\n",
    "    AvgPool = tf.keras.layers.AveragePooling2D(pool_size=(2,2), strides=2)(Add)\n",
    "    FC = tf.keras.layers.Flatten()(AvgPool)\n",
    "\n",
    "    output = tf.keras.layers.Dense(2,activation='softmax')(FC)\n",
    "\n",
    "\n",
    "\n",
    "    model = tf.keras.Model(inputs, output,name='BASE_MODEL')\n",
    "\n",
    "    return model\n",
    "\n",
    "\n",
    "\n"
   ]
  },
  {
   "cell_type": "code",
   "execution_count": 53,
   "id": "e7ce3cc3",
   "metadata": {
    "execution": {
     "iopub.execute_input": "2023-05-02T14:58:14.427364Z",
     "iopub.status.busy": "2023-05-02T14:58:14.424613Z",
     "iopub.status.idle": "2023-05-02T14:58:14.663386Z",
     "shell.execute_reply": "2023-05-02T14:58:14.662541Z",
     "shell.execute_reply.started": "2023-05-02T14:58:14.427322Z"
    },
    "tags": []
   },
   "outputs": [
    {
     "name": "stdout",
     "output_type": "stream",
     "text": [
      "Model: \"BASE_MODEL\"\n",
      "__________________________________________________________________________________________________\n",
      " Layer (type)                   Output Shape         Param #     Connected to                     \n",
      "==================================================================================================\n",
      " input_5 (InputLayer)           [(None, 512, 512, 1  0           []                               \n",
      "                                )]                                                                \n",
      "                                                                                                  \n",
      " conv2d_16 (Conv2D)             (None, 508, 508, 16  416         ['input_5[0][0]']                \n",
      "                                )                                                                 \n",
      "                                                                                                  \n",
      " batch_normalization_12 (BatchN  (None, 508, 508, 16  64         ['conv2d_16[0][0]']              \n",
      " ormalization)                  )                                                                 \n",
      "                                                                                                  \n",
      " activation_12 (Activation)     (None, 508, 508, 16  0           ['batch_normalization_12[0][0]'] \n",
      "                                )                                                                 \n",
      "                                                                                                  \n",
      " conv2d_17 (Conv2D)             (None, 254, 254, 32  4640        ['activation_12[0][0]']          \n",
      "                                )                                                                 \n",
      "                                                                                                  \n",
      " batch_normalization_13 (BatchN  (None, 254, 254, 32  128        ['conv2d_17[0][0]']              \n",
      " ormalization)                  )                                                                 \n",
      "                                                                                                  \n",
      " activation_13 (Activation)     (None, 254, 254, 32  0           ['batch_normalization_13[0][0]'] \n",
      "                                )                                                                 \n",
      "                                                                                                  \n",
      " conv2d_18 (Conv2D)             (None, 254, 254, 32  9248        ['activation_13[0][0]']          \n",
      "                                )                                                                 \n",
      "                                                                                                  \n",
      " batch_normalization_14 (BatchN  (None, 254, 254, 32  128        ['conv2d_18[0][0]']              \n",
      " ormalization)                  )                                                                 \n",
      "                                                                                                  \n",
      " conv2d_19 (Conv2D)             (None, 254, 254, 32  544         ['activation_12[0][0]']          \n",
      "                                )                                                                 \n",
      "                                                                                                  \n",
      " activation_14 (Activation)     (None, 254, 254, 32  0           ['batch_normalization_14[0][0]'] \n",
      "                                )                                                                 \n",
      "                                                                                                  \n",
      " add_4 (Add)                    (None, 254, 254, 32  0           ['conv2d_19[0][0]',              \n",
      "                                )                                 'activation_14[0][0]']          \n",
      "                                                                                                  \n",
      " average_pooling2d_4 (AveragePo  (None, 127, 127, 32  0          ['add_4[0][0]']                  \n",
      " oling2D)                       )                                                                 \n",
      "                                                                                                  \n",
      " flatten_4 (Flatten)            (None, 516128)       0           ['average_pooling2d_4[0][0]']    \n",
      "                                                                                                  \n",
      " dense_4 (Dense)                (None, 2)            1032258     ['flatten_4[0][0]']              \n",
      "                                                                                                  \n",
      "==================================================================================================\n",
      "Total params: 1,047,426\n",
      "Trainable params: 1,047,266\n",
      "Non-trainable params: 160\n",
      "__________________________________________________________________________________________________\n"
     ]
    }
   ],
   "source": [
    "\n",
    "# Build model.\n",
    "width = data[0][0].shape[0]\n",
    "height = data[0][1].shape[0]\n",
    "\n",
    "with strategy.scope():\n",
    "    model2 = get_model_2(width, height)\n",
    "\n",
    "model2.summary()\n"
   ]
  },
  {
   "cell_type": "code",
   "execution_count": 61,
   "id": "1019e0f4",
   "metadata": {
    "execution": {
     "iopub.execute_input": "2023-05-02T15:00:18.139319Z",
     "iopub.status.busy": "2023-05-02T15:00:18.138281Z",
     "iopub.status.idle": "2023-05-02T15:00:34.728933Z",
     "shell.execute_reply": "2023-05-02T15:00:34.727928Z",
     "shell.execute_reply.started": "2023-05-02T15:00:18.139263Z"
    }
   },
   "outputs": [
    {
     "name": "stdout",
     "output_type": "stream",
     "text": [
      "Epoch 1/10\n",
      "4/4 [==============================] - 9s 160ms/step - loss: 0.3306 - acc: 0.9561 - precision_6: 0.9561 - recall_6: 0.9561\n",
      "Epoch 2/10\n",
      "4/4 [==============================] - 1s 142ms/step - loss: 0.1917 - acc: 0.9561 - precision_6: 0.9561 - recall_6: 0.9561\n",
      "Epoch 3/10\n",
      "4/4 [==============================] - 1s 143ms/step - loss: 0.4894 - acc: 0.9123 - precision_6: 0.9123 - recall_6: 0.9123\n",
      "Epoch 4/10\n",
      "4/4 [==============================] - 1s 130ms/step - loss: 0.1860 - acc: 0.9649 - precision_6: 0.9649 - recall_6: 0.9649\n",
      "Epoch 5/10\n",
      "4/4 [==============================] - 2s 756ms/step - loss: 0.0288 - acc: 0.9912 - precision_6: 0.9912 - recall_6: 0.9912 - val_loss: 2.4379 - val_acc: 0.5385 - val_precision_6: 0.5385 - val_recall_6: 0.5385\n",
      "Epoch 6/10\n",
      "4/4 [==============================] - 1s 184ms/step - loss: 0.1816 - acc: 0.9825 - precision_6: 0.9825 - recall_6: 0.9825\n",
      "Epoch 7/10\n",
      "4/4 [==============================] - 1s 143ms/step - loss: 0.1452 - acc: 0.9737 - precision_6: 0.9737 - recall_6: 0.9737\n",
      "Epoch 8/10\n",
      "4/4 [==============================] - 1s 158ms/step - loss: 0.1023 - acc: 0.9825 - precision_6: 0.9825 - recall_6: 0.9825\n",
      "Epoch 9/10\n",
      "4/4 [==============================] - 1s 141ms/step - loss: 0.0557 - acc: 0.9912 - precision_6: 0.9912 - recall_6: 0.9912\n",
      "Epoch 10/10\n",
      "4/4 [==============================] - 1s 224ms/step - loss: 0.0371 - acc: 0.9737 - precision_6: 0.9737 - recall_6: 0.9737 - val_loss: 1.3285 - val_acc: 0.7692 - val_precision_6: 0.7692 - val_recall_6: 0.7692\n"
     ]
    },
    {
     "data": {
      "text/plain": [
       "<keras.callbacks.History at 0x7533a426f690>"
      ]
     },
     "execution_count": 61,
     "metadata": {},
     "output_type": "execute_result"
    }
   ],
   "source": [
    "# model2.load_weights('/kaggle/working/No_Process_model2.h5')\n",
    "\n",
    "lr_schedule = tf.keras.optimizers.schedules.ExponentialDecay(\n",
    "    initial_learning_rate=1e-4,\n",
    "    decay_steps=10000,\n",
    "    decay_rate=0.9)\n",
    "\n",
    "with strategy.scope():\n",
    "    model2.compile(\n",
    "        loss=\"binary_crossentropy\",\n",
    "        optimizer=tf.keras.optimizers.Adam(learning_rate=1e-4),\n",
    "        metrics=['acc',tf.keras.metrics.Precision(),\n",
    "                          tf.keras.metrics.Recall()],\n",
    "    )\n",
    "\n",
    "# Define callbacks.\n",
    "checkpoint_cb = tf.keras.callbacks.ModelCheckpoint(\n",
    "    \"image_classification.h5\", save_best_only=True\n",
    ")\n",
    "\n",
    "early_stopping_cb = tf.keras.callbacks.EarlyStopping(monitor=\"acc\", patience=4)\n",
    "\n",
    "\n",
    "epochs = 10\n",
    "model2.fit(\n",
    "    x=X_train_ex,\n",
    "    y=ytrain_ex,\n",
    "    validation_split=0.1,\n",
    "    validation_freq=5,\n",
    "    epochs=epochs,\n",
    "    shuffle=True,\n",
    "    batch_size=32,\n",
    "    \n",
    "    # callbacks=[checkpoint_cb, early_stopping_cb],\n",
    ")"
   ]
  },
  {
   "cell_type": "code",
   "execution_count": null,
   "id": "0405594f",
   "metadata": {},
   "outputs": [],
   "source": []
  },
  {
   "cell_type": "code",
   "execution_count": 62,
   "id": "0a8714e4",
   "metadata": {
    "execution": {
     "iopub.execute_input": "2023-05-02T15:00:37.382465Z",
     "iopub.status.busy": "2023-05-02T15:00:37.382050Z",
     "iopub.status.idle": "2023-05-02T15:00:39.014360Z",
     "shell.execute_reply": "2023-05-02T15:00:39.013128Z",
     "shell.execute_reply.started": "2023-05-02T15:00:37.382407Z"
    }
   },
   "outputs": [
    {
     "name": "stdout",
     "output_type": "stream",
     "text": [
      "1/1 [==============================] - 1s 1s/step\n",
      "Model Classification report \n",
      "\n",
      "               precision    recall  f1-score   support\n",
      "\n",
      "           0       0.64      0.70      0.67        10\n",
      "           1       0.75      0.69      0.72        13\n",
      "\n",
      "   micro avg       0.70      0.70      0.70        23\n",
      "   macro avg       0.69      0.70      0.69        23\n",
      "weighted avg       0.70      0.70      0.70        23\n",
      " samples avg       0.70      0.70      0.70        23\n",
      "\n",
      "Model accuracy  69.56521739130434 %\n"
     ]
    }
   ],
   "source": [
    "pred2 = model2.predict(X_test_ex).round()\n",
    "print('Model Classification report \\n\\n {}'.format(metrics.classification_report(ytest_ex,pred2)))\n",
    "print('Model accuracy  {} %'.format(metrics.accuracy_score(ytest_ex,pred2)*100))\n"
   ]
  },
  {
   "cell_type": "code",
   "execution_count": 63,
   "id": "690aae43",
   "metadata": {
    "execution": {
     "iopub.execute_input": "2023-05-02T15:00:49.226237Z",
     "iopub.status.busy": "2023-05-02T15:00:49.225321Z",
     "iopub.status.idle": "2023-05-02T15:00:49.497733Z",
     "shell.execute_reply": "2023-05-02T15:00:49.496392Z",
     "shell.execute_reply.started": "2023-05-02T15:00:49.226196Z"
    }
   },
   "outputs": [
    {
     "data": {
      "image/png": "[encoded data removed]",
      "text/plain": [
       "<Figure size 640x480 with 2 Axes>"
      ]
     },
     "metadata": {},
     "output_type": "display_data"
    }
   ],
   "source": [
    "import seaborn as sns\n",
    "class_names = ['NO_EX','EX']  \n",
    "ax= plt.subplot()\n",
    "cm = metrics.confusion_matrix(ytest_ex.argmax(axis=1), pred2.argmax(axis=1))\n",
    "sns.heatmap(cm, annot=True, fmt='g', ax=ax);  #annot=True to annotate cells, ftm='g' to disable scientific notation\n",
    "# labels, title and ticks\n",
    "ax.set_xlabel('Predicted labels');ax.set_ylabel('True labels'); \n",
    "ax.set_title('Confusion Matrix'); \n",
    "ax.xaxis.set_ticklabels(class_names); ax.yaxis.set_ticklabels(class_names);\n"
   ]
  },
  {
   "cell_type": "code",
   "execution_count": 64,
   "id": "ba4dcfe9",
   "metadata": {
    "execution": {
     "iopub.execute_input": "2023-05-02T15:00:59.469492Z",
     "iopub.status.busy": "2023-05-02T15:00:59.468736Z",
     "iopub.status.idle": "2023-05-02T15:00:59.571215Z",
     "shell.execute_reply": "2023-05-02T15:00:59.570166Z",
     "shell.execute_reply.started": "2023-05-02T15:00:59.469445Z"
    }
   },
   "outputs": [],
   "source": [
    "model2.save('No_Process_model2.h5')"
   ]
  },
  {
   "cell_type": "code",
   "execution_count": null,
   "id": "a59f4ffe",
   "metadata": {
    "tags": []
   },
   "outputs": [],
   "source": [
    "data_dir = pathlib.Path('IMG_EXU_SET').with_suffix('')\n",
    "# data_dir2 = pathlib.Path('IMG_EXU_SET/AbNR').with_suffix('')\n",
    "\n",
    "\n",
    "NR = data_dir.glob('NR/*.*')\n",
    "# ABNOR = data_dir.glob('ABNOR/*.*')\n",
    "\n",
    "EX = data_dir.glob('AbNR/EX/*.*')\n",
    "NO_EX =data_dir.glob('AbNR/NO_EX/*.*')\n",
    "\n",
    "data_ex_ = []\n",
    "data_ = []\n",
    "labels_ = []\n",
    "labels_ex_ = []\n",
    "dim = (512,512)\n",
    "\n",
    "\n",
    "for i in NR:   \n",
    "    \n",
    "    im1 = cv2.imread(str(i))\n",
    "    im1 = im1[:,:,1]\n",
    "    im1 = cv2.resize(im1,dim, interpolation = cv2.INTER_AREA).reshape(dim[0],dim[1])\n",
    "    data_.append(im1)\n",
    "    labels_.append(0)\n",
    "    labels_ex_.append(0)\n",
    "    \n",
    "\n",
    "for i in EX:   \n",
    "    \n",
    "    im1 = cv2.imread(str(i))\n",
    "    im1 = im1[:,:,1]\n",
    "    im1 = cv2.resize(im1,dim, interpolation = cv2.INTER_AREA).reshape(dim[0],dim[1])\n",
    "    data_.append(im1)\n",
    "#     data_ex.append(im1)\n",
    "    labels_.append(1) #For abnormal\n",
    "    labels_ex_.append(1) #For abnormal with Exudate\n",
    "    \n",
    "for i in NO_EX:   \n",
    "    \n",
    "    im1 = cv2.imread(str(i))\n",
    "    im1 = im1[:,:,1]\n",
    "    im1 = cv2.resize(im1,dim, interpolation = cv2.INTER_AREA).reshape(dim[0],dim[1])\n",
    "    data_.append(im1)\n",
    "#     data_ex.append(im1)\n",
    "    labels_.append(2)\n",
    "    labels_ex_.append(0)\n",
    "    \n",
    "\n",
    "# data_ex = np.array(data_ex)\n",
    "labels_ex_ = encode(np.array(labels_ex_))\n",
    "data_ = np.array(data_)\n",
    "labels_ = encode(np.array(labels_))\n",
    "\n",
    "\n"
   ]
  },
  {
   "cell_type": "code",
   "execution_count": 7,
   "id": "0e1192e2",
   "metadata": {
    "tags": []
   },
   "outputs": [],
   "source": [
    "model1 = get_model_1(512, 512)\n",
    "model1.load_weights('No_Process_model1.h5')\n",
    "\n",
    "model2 = get_model_1(512, 512)\n",
    "model2.load_weights('No_Process_model2.h5')\n"
   ]
  },
  {
   "cell_type": "code",
   "execution_count": null,
   "id": "aa3216a4",
   "metadata": {},
   "outputs": [],
   "source": []
  },
  {
   "cell_type": "code",
   "execution_count": 72,
   "id": "53fad364",
   "metadata": {
    "execution": {
     "iopub.execute_input": "2023-05-02T15:05:35.074684Z",
     "iopub.status.busy": "2023-05-02T15:05:35.073597Z",
     "iopub.status.idle": "2023-05-02T15:05:35.090028Z",
     "shell.execute_reply": "2023-05-02T15:05:35.088000Z",
     "shell.execute_reply.started": "2023-05-02T15:05:35.074642Z"
    }
   },
   "outputs": [
    {
     "data": {
      "text/plain": [
       "((42, 512, 512), (42, 2), (42, 2))"
      ]
     },
     "execution_count": 72,
     "metadata": {},
     "output_type": "execute_result"
    }
   ],
   "source": [
    "#60:80 NR\n",
    "#115:135 EX\n",
    "#200:220 N\n",
    "data1 = data_[43:63]\n",
    "data2 = data_[171:183]\n",
    "data3 = data_[197:207]\n",
    "testdata = np.concatenate((data1, data2,data3))\n",
    "\n",
    "ex1 = labels_ex_[43:63]\n",
    "ex2 = labels_ex_[171:183]\n",
    "ex3 = labels_ex_[197:207]\n",
    "testlabels_ex = np.concatenate((ex1,ex2,ex3))\n",
    "\n",
    "l1 = labels_[43:63]\n",
    "l2 = labels_[171:183]\n",
    "l3 = labels_[197:207]\n",
    "testlabels = np.concatenate((l1,l2,l3))\n",
    "\n",
    "testdata.shape,testlabels.shape, testlabels_ex.shape"
   ]
  },
  {
   "cell_type": "code",
   "execution_count": 13,
   "id": "638558c1",
   "metadata": {
    "tags": []
   },
   "outputs": [],
   "source": [
    "from sklearn.model_selection import train_test_split\n",
    "X_train, X_test, ytrain, ytest = train_test_split(data_, labels_, test_size=0.15,\n",
    "                                                random_state=42)\n",
    "\n",
    "\n",
    "X_train_ex, X_test_ex, ytrain_ex, ytest_ex = train_test_split(data_[79:], labels_ex_[79:], test_size=0.15,\n",
    "                                                random_state=42)\n"
   ]
  },
  {
   "cell_type": "code",
   "execution_count": 17,
   "id": "9ac08ad4-6058-44d4-913b-8884675457f6",
   "metadata": {},
   "outputs": [
    {
     "data": {
      "text/plain": [
       "(35, 512, 512)"
      ]
     },
     "execution_count": 17,
     "metadata": {},
     "output_type": "execute_result"
    }
   ],
   "source": [
    "X_test.shape"
   ]
  },
  {
   "cell_type": "code",
   "execution_count": 18,
   "id": "0cd765a2",
   "metadata": {},
   "outputs": [
    {
     "data": {
      "text/plain": [
       "((58, 512, 512), (58, 2))"
      ]
     },
     "execution_count": 18,
     "metadata": {},
     "output_type": "execute_result"
    }
   ],
   "source": [
    "dtest =[X_test[i] for i in range(X_test.shape[0])]\n",
    "for i in range(X_test_ex.shape[0]):\n",
    "  dtest.append(X_test_ex[i])\n",
    "\n",
    "dtest = np.array(dtest)\n",
    "\n",
    "dytest = [ytest[i] for i in range(ytest.shape[0])]\n",
    "for i in range(ytest_ex.shape[0]):\n",
    "  dytest.append(ytest_ex[i])\n",
    "\n",
    "dytest = np.array(dytest)\n",
    "\n",
    "\n",
    "dtest.shape,dytest.shape\n",
    "\n"
   ]
  },
  {
   "cell_type": "code",
   "execution_count": 38,
   "id": "6a4a546c",
   "metadata": {
    "tags": []
   },
   "outputs": [
    {
     "name": "stdout",
     "output_type": "stream",
     "text": [
      "1/1 [==============================] - 0s 78ms/step\n",
      "1/1 [==============================] - 0s 75ms/step\n",
      "1/1 [==============================] - 0s 76ms/step\n",
      "1/1 [==============================] - 0s 81ms/step\n",
      "1/1 [==============================] - 0s 95ms/step\n",
      "1/1 [==============================] - 0s 78ms/step\n",
      "1/1 [==============================] - 0s 82ms/step\n",
      "1/1 [==============================] - 0s 82ms/step\n",
      "1/1 [==============================] - 0s 80ms/step\n",
      "1/1 [==============================] - 0s 80ms/step\n",
      "1/1 [==============================] - 0s 81ms/step\n",
      "1/1 [==============================] - 0s 82ms/step\n",
      "1/1 [==============================] - 0s 81ms/step\n",
      "1/1 [==============================] - 0s 82ms/step\n",
      "1/1 [==============================] - 0s 77ms/step\n",
      "1/1 [==============================] - 0s 80ms/step\n",
      "1/1 [==============================] - 0s 79ms/step\n",
      "1/1 [==============================] - 0s 78ms/step\n",
      "1/1 [==============================] - 0s 78ms/step\n",
      "1/1 [==============================] - 0s 73ms/step\n",
      "1/1 [==============================] - 0s 114ms/step\n",
      "1/1 [==============================] - 0s 81ms/step\n",
      "1/1 [==============================] - 0s 81ms/step\n",
      "1/1 [==============================] - 0s 75ms/step\n",
      "1/1 [==============================] - 0s 79ms/step\n",
      "1/1 [==============================] - 0s 77ms/step\n",
      "1/1 [==============================] - 0s 72ms/step\n",
      "1/1 [==============================] - 0s 76ms/step\n",
      "1/1 [==============================] - 0s 82ms/step\n",
      "1/1 [==============================] - 0s 95ms/step\n",
      "1/1 [==============================] - 0s 82ms/step\n",
      "1/1 [==============================] - 0s 76ms/step\n",
      "1/1 [==============================] - 0s 81ms/step\n",
      "1/1 [==============================] - 0s 82ms/step\n",
      "1/1 [==============================] - 0s 77ms/step\n",
      "1/1 [==============================] - 0s 82ms/step\n",
      "1/1 [==============================] - 0s 79ms/step\n",
      "1/1 [==============================] - 0s 84ms/step\n",
      "1/1 [==============================] - 0s 76ms/step\n",
      "1/1 [==============================] - 0s 74ms/step\n",
      "1/1 [==============================] - 0s 75ms/step\n",
      "1/1 [==============================] - 0s 81ms/step\n",
      "1/1 [==============================] - 0s 81ms/step\n",
      "1/1 [==============================] - 0s 82ms/step\n",
      "1/1 [==============================] - 0s 74ms/step\n",
      "1/1 [==============================] - 0s 75ms/step\n",
      "1/1 [==============================] - 0s 80ms/step\n",
      "1/1 [==============================] - 0s 79ms/step\n",
      "1/1 [==============================] - 0s 80ms/step\n",
      "1/1 [==============================] - 0s 77ms/step\n",
      "1/1 [==============================] - 0s 79ms/step\n",
      "1/1 [==============================] - 0s 78ms/step\n",
      "1/1 [==============================] - 0s 75ms/step\n",
      "1/1 [==============================] - 0s 81ms/step\n",
      "1/1 [==============================] - 0s 76ms/step\n",
      "1/1 [==============================] - 0s 79ms/step\n",
      "1/1 [==============================] - 0s 79ms/step\n",
      "1/1 [==============================] - 0s 77ms/step\n",
      "1/1 [==============================] - 0s 81ms/step\n",
      "1/1 [==============================] - 0s 81ms/step\n",
      "1/1 [==============================] - 0s 81ms/step\n",
      "1/1 [==============================] - 0s 77ms/step\n",
      "1/1 [==============================] - 0s 76ms/step\n",
      "1/1 [==============================] - 0s 79ms/step\n",
      "1/1 [==============================] - 0s 74ms/step\n",
      "1/1 [==============================] - 0s 81ms/step\n",
      "1/1 [==============================] - 0s 77ms/step\n",
      "1/1 [==============================] - 0s 75ms/step\n",
      "1/1 [==============================] - 0s 80ms/step\n",
      "1/1 [==============================] - 0s 81ms/step\n",
      "1/1 [==============================] - 0s 169ms/step\n",
      "1/1 [==============================] - 0s 72ms/step\n",
      "1/1 [==============================] - 0s 78ms/step\n",
      "1/1 [==============================] - 0s 77ms/step\n",
      "1/1 [==============================] - 0s 96ms/step\n",
      "1/1 [==============================] - 0s 81ms/step\n",
      "1/1 [==============================] - 0s 81ms/step\n",
      "1/1 [==============================] - 0s 82ms/step\n",
      "1/1 [==============================] - 0s 79ms/step\n",
      "1/1 [==============================] - 0s 81ms/step\n",
      "1/1 [==============================] - 0s 89ms/step\n",
      "1/1 [==============================] - 0s 81ms/step\n",
      "1/1 [==============================] - 0s 94ms/step\n",
      "1/1 [==============================] - 0s 75ms/step\n",
      "1/1 [==============================] - 0s 75ms/step\n",
      "1/1 [==============================] - 0s 82ms/step\n",
      "1/1 [==============================] - 0s 75ms/step\n",
      "1/1 [==============================] - 0s 96ms/step\n",
      "1/1 [==============================] - 0s 97ms/step\n",
      "1/1 [==============================] - 0s 76ms/step\n",
      "1/1 [==============================] - 0s 80ms/step\n",
      "1/1 [==============================] - 0s 82ms/step\n",
      "1/1 [==============================] - 0s 78ms/step\n",
      "1/1 [==============================] - 0s 79ms/step\n",
      "1/1 [==============================] - 0s 82ms/step\n",
      "1/1 [==============================] - 0s 82ms/step\n",
      "1/1 [==============================] - 0s 81ms/step\n",
      "1/1 [==============================] - 0s 92ms/step\n",
      "1/1 [==============================] - 0s 77ms/step\n",
      "1/1 [==============================] - 0s 81ms/step\n",
      "1/1 [==============================] - 0s 80ms/step\n",
      "1/1 [==============================] - 0s 78ms/step\n",
      "1/1 [==============================] - 0s 78ms/step\n",
      "1/1 [==============================] - 0s 81ms/step\n"
     ]
    }
   ],
   "source": [
    "Normal = [[1.,0.]]\n",
    "NotNormal = [[0.,1.]]\n",
    "Exudate = [[0.,1.]]\n",
    "NoExudate = [[1.,0.]]\n",
    "\n",
    "acc1 = []\n",
    "acc2 = []\n",
    "accu =[]\n",
    "P1= []\n",
    "\n",
    "# data_2.shape,labels_2.shape, labels_ex_2.shape\n",
    "\n",
    "for i in range(dtest.shape[0]):\n",
    "\n",
    "    pred1 = model1.predict(dtest[i].reshape(-1,512,512,1)).round()\n",
    "    \n",
    "    acc1.append(metrics.accuracy_score(dytest[i].reshape(1,2),pred1))\n",
    "    \n",
    "    \n",
    "    if (pred1 == Normal).all(): \n",
    "        accu.append(metrics.accuracy_score(dytest[i].reshape(1,2),pred1) )\n",
    "        P1.append(pred1)\n",
    "\n",
    "    if (pred1 != Normal).all():        \n",
    "        pred2 = model2.predict(dtest[i].reshape(-1,512,512,1)).round()\n",
    "        P1.append(pred2)\n",
    "        acc2.append(metrics.accuracy_score(dytest[i].reshape(1,2),pred2))\n",
    "        \n",
    "        accu.append(metrics.accuracy_score(dytest[i].reshape(1,2),pred2))\n",
    "        \n",
    "        \n",
    "\n"
   ]
  },
  {
   "cell_type": "code",
   "execution_count": 55,
   "id": "ed7f7e3e-a4da-4d03-ad67-035f9b523559",
   "metadata": {},
   "outputs": [
    {
     "data": {
      "text/plain": [
       "0.0"
      ]
     },
     "execution_count": 55,
     "metadata": {},
     "output_type": "execute_result"
    }
   ],
   "source": [
    "P1[0][0]"
   ]
  },
  {
   "cell_type": "code",
   "execution_count": 56,
   "id": "994ecc43-9af2-449e-aad1-58e02109d1fe",
   "metadata": {},
   "outputs": [],
   "source": [
    "prd=[]\n",
    "for i in range(len(P1)):\n",
    "    prd.append([P1[i][0][0],P1[i][0][1]])\n",
    "    \n",
    "prd = np.array(prd)"
   ]
  },
  {
   "cell_type": "code",
   "execution_count": null,
   "id": "fcf2cb71-29cd-43c8-8719-c460d2291bb3",
   "metadata": {},
   "outputs": [],
   "source": []
  },
  {
   "cell_type": "code",
   "execution_count": 26,
   "id": "3450a8b4",
   "metadata": {
    "tags": []
   },
   "outputs": [
    {
     "name": "stdout",
     "output_type": "stream",
     "text": [
      "Model1 acc:  0.8620689655172413\n",
      "Model2 acc:  0.7608695652173914\n",
      "Overall Model acc:  0.7758620689655172\n"
     ]
    }
   ],
   "source": [
    "from statistics import mean\n",
    "print('Model1 acc: ',mean(acc1))\n",
    "print('Model2 acc: ',mean(acc2))\n",
    "print('Overall Model acc: ',mean(accu))"
   ]
  },
  {
   "cell_type": "code",
   "execution_count": 63,
   "id": "3007beef-9b44-4a93-9dc2-37794f492a5a",
   "metadata": {},
   "outputs": [
    {
     "name": "stdout",
     "output_type": "stream",
     "text": [
      "Model Classification report \n",
      "\n",
      "               precision    recall  f1-score   support\n",
      "\n",
      "           0       0.55      1.00      0.71        16\n",
      "           1       1.00      0.69      0.82        42\n",
      "\n",
      "   micro avg       0.78      0.78      0.78        58\n",
      "   macro avg       0.78      0.85      0.76        58\n",
      "weighted avg       0.88      0.78      0.79        58\n",
      " samples avg       0.78      0.78      0.78        58\n",
      "\n",
      "Model accuracy  77.58620689655173 %\n"
     ]
    }
   ],
   "source": [
    "\n",
    "print('Model Classification report \\n\\n {}'.format(metrics.classification_report(dytest,prd)))\n",
    "print('Model accuracy  {} %'.format(metrics.accuracy_score(dytest,prd)*100))\n"
   ]
  },
  {
   "cell_type": "code",
   "execution_count": 61,
   "id": "bdc451e4-2987-406a-adb0-5062ff0dcd55",
   "metadata": {},
   "outputs": [
    {
     "data": {
      "image/png": "[encoded data removed]",
      "text/plain": [
       "<Figure size 432x288 with 2 Axes>"
      ]
     },
     "metadata": {
      "needs_background": "light"
     },
     "output_type": "display_data"
    }
   ],
   "source": [
    "import seaborn as sns\n",
    "class_names = ['NR','EX','NO EX']  \n",
    "ax= plt.subplot()\n",
    "cm = metrics.confusion_matrix(dytest.argmax(axis=1), prd.argmax(axis=1))\n",
    "sns.heatmap(cm, annot=True, fmt='g', ax=ax);  #annot=True to annotate cells, ftm='g' to disable scientific notation\n",
    "# labels, title and ticks\n",
    "ax.set_xlabel('Predicted labels');ax.set_ylabel('True labels'); \n",
    "ax.set_title('Confusion Matrix'); \n",
    "ax.xaxis.set_ticklabels(class_names); ax.yaxis.set_ticklabels(class_names);\n"
   ]
  },
  {
   "cell_type": "code",
   "execution_count": null,
   "id": "9f3f8001-5ac4-4904-8db7-257223487c36",
   "metadata": {},
   "outputs": [],
   "source": []
  },
  {
   "cell_type": "code",
   "execution_count": null,
   "id": "0934023f-3419-41a7-ac7f-47246413b6f8",
   "metadata": {},
   "outputs": [],
   "source": []
  },
  {
   "cell_type": "markdown",
   "id": "a2bfa788-3f62-424d-ab52-5521d45e8687",
   "metadata": {},
   "source": [
    "#### DATASET 2"
   ]
  },
  {
   "cell_type": "code",
   "execution_count": null,
   "id": "0abc188e",
   "metadata": {},
   "outputs": [],
   "source": []
  },
  {
   "cell_type": "code",
   "execution_count": 75,
   "id": "95e175b1",
   "metadata": {
    "execution": {
     "iopub.execute_input": "2023-05-02T15:16:48.770699Z",
     "iopub.status.busy": "2023-05-02T15:16:48.769919Z",
     "iopub.status.idle": "2023-05-02T15:16:54.857013Z",
     "shell.execute_reply": "2023-05-02T15:16:54.855961Z",
     "shell.execute_reply.started": "2023-05-02T15:16:48.770661Z"
    }
   },
   "outputs": [],
   "source": [
    "data_dir = pathlib.Path('/kaggle/input/img-ex2-dataset').with_suffix('')\n",
    "# data_dir2 = pathlib.Path('IMG_EXU_SET/AbNR').with_suffix('')\n",
    "\n",
    "\n",
    "NR = data_dir.glob('NR/*.*')\n",
    "# ABNOR = data_dir.glob('ABNOR/*.*')\n",
    "\n",
    "EX = data_dir.glob('EX/*.*')\n",
    "NO_EX =data_dir.glob('NO_EX/*.*')\n",
    "\n",
    "data_ex_2 = []\n",
    "data_2 = []\n",
    "labels_2 = []\n",
    "labels_ex_2 = []\n",
    "\n",
    "\n",
    "\n",
    "for i in NR:   \n",
    "    \n",
    "    im1 = cv2.imread(str(i))\n",
    "    im1 = im1[:,:,1]\n",
    "    im1 = cv2.resize(im1,dim, interpolation = cv2.INTER_AREA).reshape(dim[0],dim[1])\n",
    "    data_2.append(im1)\n",
    "    labels_2.append(0)\n",
    "    labels_ex_2.append(0)\n",
    "    \n",
    "\n",
    "for i in EX:   \n",
    "    \n",
    "    im1 = cv2.imread(str(i))\n",
    "    im1 = im1[:,:,1]\n",
    "    im1 = cv2.resize(im1,dim, interpolation = cv2.INTER_AREA).reshape(dim[0],dim[1])\n",
    "    data_2.append(im1)\n",
    "#     data_ex.append(im1)\n",
    "    labels_2.append(1) #For abnormal\n",
    "    labels_ex_2.append(1) #For abnormal with Exudate\n",
    "    \n",
    "for i in NO_EX:   \n",
    "    \n",
    "    im1 = cv2.imread(str(i))\n",
    "    im1 = im1[:,:,1]\n",
    "    im1 = cv2.resize(im1,dim, interpolation = cv2.INTER_AREA).reshape(dim[0],dim[1])\n",
    "    data_2.append(im1)\n",
    "#     data_ex.append(im1)\n",
    "    labels_2.append(1)\n",
    "    labels_ex_2.append(0)\n",
    "    \n",
    "\n",
    "# data_ex = np.array(data_ex)\n",
    "labels_ex_2 = encode(np.array(labels_ex_2))\n",
    "data_2 = np.array(data_2)\n",
    "labels_2 = encode(np.array(labels_2))\n",
    "\n",
    "\n"
   ]
  },
  {
   "cell_type": "code",
   "execution_count": null,
   "id": "94de9cb8",
   "metadata": {
    "tags": []
   },
   "outputs": [],
   "source": [
    "\n"
   ]
  },
  {
   "cell_type": "code",
   "execution_count": 85,
   "id": "0bcaa609",
   "metadata": {
    "execution": {
     "iopub.execute_input": "2023-05-02T15:21:35.750737Z",
     "iopub.status.busy": "2023-05-02T15:21:35.749967Z",
     "iopub.status.idle": "2023-05-02T15:22:05.471308Z",
     "shell.execute_reply": "2023-05-02T15:22:05.470101Z",
     "shell.execute_reply.started": "2023-05-02T15:21:35.750691Z"
    }
   },
   "outputs": [
    {
     "name": "stdout",
     "output_type": "stream",
     "text": [
      "1/1 [==============================] - 0s 124ms/step\n",
      "1/1 [==============================] - 0s 136ms/step\n",
      "1/1 [==============================] - 0s 134ms/step\n",
      "1/1 [==============================] - 0s 128ms/step\n",
      "1/1 [==============================] - 0s 122ms/step\n",
      "1/1 [==============================] - 0s 125ms/step\n",
      "1/1 [==============================] - 0s 127ms/step\n",
      "1/1 [==============================] - 0s 147ms/step\n",
      "1/1 [==============================] - 0s 140ms/step\n",
      "1/1 [==============================] - 0s 130ms/step\n",
      "1/1 [==============================] - 0s 135ms/step\n",
      "1/1 [==============================] - 0s 128ms/step\n",
      "1/1 [==============================] - 0s 135ms/step\n",
      "1/1 [==============================] - 0s 128ms/step\n",
      "1/1 [==============================] - 0s 135ms/step\n",
      "1/1 [==============================] - 0s 127ms/step\n",
      "1/1 [==============================] - 0s 128ms/step\n",
      "1/1 [==============================] - 0s 150ms/step\n",
      "1/1 [==============================] - 0s 161ms/step\n",
      "1/1 [==============================] - 0s 143ms/step\n",
      "1/1 [==============================] - 0s 133ms/step\n",
      "1/1 [==============================] - 0s 130ms/step\n",
      "1/1 [==============================] - 0s 128ms/step\n",
      "1/1 [==============================] - 0s 131ms/step\n",
      "1/1 [==============================] - 0s 125ms/step\n",
      "1/1 [==============================] - 0s 133ms/step\n",
      "1/1 [==============================] - 0s 125ms/step\n",
      "1/1 [==============================] - 0s 126ms/step\n",
      "1/1 [==============================] - 0s 131ms/step\n",
      "1/1 [==============================] - 0s 132ms/step\n",
      "1/1 [==============================] - 0s 122ms/step\n",
      "1/1 [==============================] - 0s 130ms/step\n",
      "1/1 [==============================] - 0s 133ms/step\n",
      "1/1 [==============================] - 0s 127ms/step\n",
      "1/1 [==============================] - 0s 135ms/step\n",
      "1/1 [==============================] - 0s 138ms/step\n",
      "1/1 [==============================] - 0s 126ms/step\n",
      "1/1 [==============================] - 0s 139ms/step\n",
      "1/1 [==============================] - 0s 137ms/step\n",
      "1/1 [==============================] - 0s 128ms/step\n",
      "1/1 [==============================] - 0s 123ms/step\n",
      "1/1 [==============================] - 0s 127ms/step\n",
      "1/1 [==============================] - 0s 127ms/step\n",
      "1/1 [==============================] - 0s 134ms/step\n",
      "1/1 [==============================] - 0s 133ms/step\n",
      "1/1 [==============================] - 0s 126ms/step\n",
      "1/1 [==============================] - 0s 121ms/step\n",
      "1/1 [==============================] - 0s 134ms/step\n",
      "1/1 [==============================] - 0s 128ms/step\n",
      "1/1 [==============================] - 0s 136ms/step\n",
      "1/1 [==============================] - 0s 122ms/step\n",
      "1/1 [==============================] - 0s 126ms/step\n",
      "1/1 [==============================] - 0s 135ms/step\n",
      "1/1 [==============================] - 0s 136ms/step\n",
      "1/1 [==============================] - 0s 125ms/step\n",
      "1/1 [==============================] - 0s 127ms/step\n",
      "1/1 [==============================] - 0s 127ms/step\n",
      "1/1 [==============================] - 0s 123ms/step\n",
      "1/1 [==============================] - 0s 146ms/step\n",
      "1/1 [==============================] - 0s 133ms/step\n",
      "1/1 [==============================] - 0s 123ms/step\n",
      "1/1 [==============================] - 0s 131ms/step\n",
      "1/1 [==============================] - 0s 131ms/step\n",
      "1/1 [==============================] - 0s 123ms/step\n",
      "1/1 [==============================] - 0s 125ms/step\n",
      "1/1 [==============================] - 0s 132ms/step\n",
      "1/1 [==============================] - 0s 125ms/step\n",
      "1/1 [==============================] - 0s 127ms/step\n",
      "1/1 [==============================] - 0s 141ms/step\n",
      "1/1 [==============================] - 0s 126ms/step\n",
      "1/1 [==============================] - 0s 134ms/step\n",
      "1/1 [==============================] - 0s 139ms/step\n",
      "1/1 [==============================] - 0s 131ms/step\n",
      "1/1 [==============================] - 0s 162ms/step\n",
      "1/1 [==============================] - 0s 161ms/step\n",
      "1/1 [==============================] - 0s 129ms/step\n",
      "1/1 [==============================] - 0s 132ms/step\n",
      "1/1 [==============================] - 0s 136ms/step\n",
      "1/1 [==============================] - 0s 134ms/step\n",
      "1/1 [==============================] - 0s 125ms/step\n",
      "1/1 [==============================] - 0s 132ms/step\n",
      "1/1 [==============================] - 0s 128ms/step\n",
      "1/1 [==============================] - 0s 134ms/step\n",
      "1/1 [==============================] - 0s 181ms/step\n",
      "1/1 [==============================] - 0s 194ms/step\n",
      "1/1 [==============================] - 0s 187ms/step\n",
      "1/1 [==============================] - 0s 176ms/step\n",
      "1/1 [==============================] - 0s 183ms/step\n",
      "1/1 [==============================] - 0s 150ms/step\n",
      "1/1 [==============================] - 0s 137ms/step\n",
      "1/1 [==============================] - 0s 126ms/step\n",
      "1/1 [==============================] - 0s 126ms/step\n",
      "1/1 [==============================] - 0s 133ms/step\n",
      "1/1 [==============================] - 0s 126ms/step\n",
      "1/1 [==============================] - 0s 130ms/step\n",
      "1/1 [==============================] - 0s 129ms/step\n",
      "1/1 [==============================] - 0s 127ms/step\n",
      "1/1 [==============================] - 0s 120ms/step\n",
      "1/1 [==============================] - 0s 130ms/step\n",
      "1/1 [==============================] - 0s 123ms/step\n",
      "1/1 [==============================] - 0s 122ms/step\n",
      "1/1 [==============================] - 0s 127ms/step\n",
      "1/1 [==============================] - 0s 130ms/step\n",
      "1/1 [==============================] - 0s 134ms/step\n",
      "1/1 [==============================] - 0s 126ms/step\n",
      "1/1 [==============================] - 0s 125ms/step\n",
      "1/1 [==============================] - 0s 144ms/step\n",
      "1/1 [==============================] - 0s 139ms/step\n",
      "1/1 [==============================] - 0s 124ms/step\n",
      "1/1 [==============================] - 0s 125ms/step\n",
      "1/1 [==============================] - 0s 124ms/step\n",
      "1/1 [==============================] - 0s 126ms/step\n",
      "1/1 [==============================] - 0s 135ms/step\n",
      "1/1 [==============================] - 0s 126ms/step\n",
      "1/1 [==============================] - 0s 123ms/step\n",
      "1/1 [==============================] - 0s 131ms/step\n",
      "1/1 [==============================] - 0s 132ms/step\n",
      "1/1 [==============================] - 0s 129ms/step\n",
      "1/1 [==============================] - 0s 139ms/step\n",
      "1/1 [==============================] - 0s 140ms/step\n",
      "1/1 [==============================] - 0s 124ms/step\n",
      "1/1 [==============================] - 0s 134ms/step\n",
      "1/1 [==============================] - 0s 138ms/step\n",
      "1/1 [==============================] - 0s 123ms/step\n",
      "1/1 [==============================] - 0s 133ms/step\n",
      "1/1 [==============================] - 0s 132ms/step\n",
      "1/1 [==============================] - 0s 125ms/step\n",
      "1/1 [==============================] - 0s 241ms/step\n",
      "1/1 [==============================] - 0s 133ms/step\n",
      "1/1 [==============================] - 0s 126ms/step\n",
      "1/1 [==============================] - 0s 123ms/step\n",
      "1/1 [==============================] - 0s 139ms/step\n",
      "1/1 [==============================] - 0s 130ms/step\n",
      "1/1 [==============================] - 0s 136ms/step\n",
      "1/1 [==============================] - 0s 128ms/step\n",
      "1/1 [==============================] - 0s 125ms/step\n",
      "1/1 [==============================] - 0s 135ms/step\n",
      "1/1 [==============================] - 0s 139ms/step\n",
      "1/1 [==============================] - 0s 125ms/step\n",
      "1/1 [==============================] - 0s 138ms/step\n",
      "1/1 [==============================] - 0s 132ms/step\n",
      "1/1 [==============================] - 0s 130ms/step\n",
      "1/1 [==============================] - 0s 142ms/step\n",
      "1/1 [==============================] - 0s 131ms/step\n",
      "1/1 [==============================] - 0s 126ms/step\n",
      "1/1 [==============================] - 0s 129ms/step\n",
      "1/1 [==============================] - 0s 124ms/step\n",
      "1/1 [==============================] - 0s 128ms/step\n"
     ]
    }
   ],
   "source": [
    "Normal = [[1.,0.]]\n",
    "NotNormal = [[0.,1.]]\n",
    "Exudate = [[0.,1.]]\n",
    "NoExudate = [[1.,0.]]\n",
    "\n",
    "acc1 = []\n",
    "acc2 = []\n",
    "\n",
    "for i in range(data_2.shape[0]):\n",
    "\n",
    "    pred1 = model1.predict(data_2[i].reshape(1,512,512)).round()\n",
    "    acc1.append(metrics.accuracy_score(labels_2[i].reshape(1,2),pred1))\n",
    "\n",
    "    if (pred1 != Normal).all():        \n",
    "        pred2 = model2.predict(data_2[i].reshape(1,512,512)).round()\n",
    "        acc2.append(metrics.accuracy_score(labels_ex_2[i].reshape(1,2),pred2))\n",
    "        \n",
    "        \n",
    "\n"
   ]
  },
  {
   "cell_type": "code",
   "execution_count": 86,
   "id": "daec7326",
   "metadata": {
    "execution": {
     "iopub.execute_input": "2023-05-02T15:22:09.041363Z",
     "iopub.status.busy": "2023-05-02T15:22:09.040203Z",
     "iopub.status.idle": "2023-05-02T15:22:09.049008Z",
     "shell.execute_reply": "2023-05-02T15:22:09.047695Z",
     "shell.execute_reply.started": "2023-05-02T15:22:09.041304Z"
    }
   },
   "outputs": [
    {
     "name": "stdout",
     "output_type": "stream",
     "text": [
      "Model1 acc:  0.7333333333333333\n",
      "Model2 acc:  0.5205479452054794\n",
      "Overall Model acc:  0.6269406392694064\n"
     ]
    }
   ],
   "source": [
    "from statistics import mean\n",
    "print('Model1 acc: ',mean(acc1))\n",
    "print('Model2 acc: ',mean(acc2))\n",
    "m = (mean(acc2) + mean(acc1))/2\n",
    "print('Overall Model acc: ',m)"
   ]
  },
  {
   "cell_type": "code",
   "execution_count": null,
   "id": "f66bb648",
   "metadata": {},
   "outputs": [],
   "source": []
  },
  {
   "cell_type": "code",
   "execution_count": null,
   "id": "42f62936",
   "metadata": {},
   "outputs": [],
   "source": []
  },
  {
   "cell_type": "code",
   "execution_count": null,
   "id": "185a25f7",
   "metadata": {},
   "outputs": [],
   "source": []
  },
  {
   "cell_type": "code",
   "execution_count": null,
   "id": "6ef7d4fd",
   "metadata": {},
   "outputs": [],
   "source": []
  }
 ],
 "metadata": {
  "kernelspec": {
   "display_name": "Python 3 (ipykernel)",
   "language": "python",
   "name": "python3"
  },
  "language_info": {
   "codemirror_mode": {
    "name": "ipython",
    "version": 3
   },
   "file_extension": ".py",
   "mimetype": "text/x-python",
   "name": "python",
   "nbconvert_exporter": "python",
   "pygments_lexer": "ipython3",
   "version": "3.9.7"
  }
 },
 "nbformat": 4,
 "nbformat_minor": 5
}
