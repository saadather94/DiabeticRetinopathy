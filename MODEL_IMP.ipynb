{
 "cells": [
  {
   "cell_type": "code",
   "execution_count": 1,
   "id": "b30a7247",
   "metadata": {
    "tags": []
   },
   "outputs": [],
   "source": [
    "from matplotlib import pyplot as plt\n",
    "import cv2, numpy as np, pathlib, os, PIL, PIL.Image, glob\n",
    "import numpy as np\n",
    "from skimage import data\n",
    "from skimage import io, morphology\n",
    "import tensorflow as tf\n",
    "import time\n",
    "from PIL import Image\n",
    "import math\n",
    "import timeit\n",
    "import pywt\n",
    "from sklearn.metrics import accuracy_score as acc, auc, f1_score\n",
    "import warnings\n",
    "from sklearn import metrics\n",
    "\n",
    "width = 1024\n",
    "height = 1024\n",
    "dim = (width, height)\n",
    "sharpen = np.array([\n",
    "    [0, -1, 0],\n",
    "    [-1, 5, -1],\n",
    "    [0, -1, 0]\n",
    "])\n"
   ]
  },
  {
   "cell_type": "code",
   "execution_count": 36,
   "id": "11342062",
   "metadata": {
    "execution": {
     "iopub.execute_input": "2023-05-01T07:32:30.473403Z",
     "iopub.status.busy": "2023-05-01T07:32:30.472296Z",
     "iopub.status.idle": "2023-05-01T07:32:30.479856Z",
     "shell.execute_reply": "2023-05-01T07:32:30.478673Z",
     "shell.execute_reply.started": "2023-05-01T07:32:30.473362Z"
    }
   },
   "outputs": [
    {
     "name": "stdout",
     "output_type": "stream",
     "text": [
      ": /physical_device:CPU:0\n",
      ": /physical_device:GPU:0\n",
      ": /physical_device:GPU:1\n"
     ]
    }
   ],
   "source": [
    "for device in tf.config.list_physical_devices():\n",
    "    print(\": {}\".format(device.name))\n"
   ]
  },
  {
   "cell_type": "code",
   "execution_count": null,
   "id": "d51e7a02",
   "metadata": {},
   "outputs": [],
   "source": []
  },
  {
   "cell_type": "code",
   "execution_count": 93,
   "id": "00efb3b6",
   "metadata": {
    "tags": []
   },
   "outputs": [],
   "source": [
    "m0 = np.array([[-5 ,3, 3],[-5,0,5],[-5,3,3]])\n",
    "m1 = np.array([[3 ,3, 3],[-5,0,3],[-5,-5,3]])\n",
    "m2 = np.array([[3 ,3, 3],[3,0,3],[-5,-5,-5]])\n",
    "m3 = np.array([[3 ,3, 3],[3,0,-5],[3,-5,-5]])\n",
    "m4 = np.array([[3 ,3,-5],[3,0,-5],[3,3,-5]])\n",
    "m5 = np.array([[3 ,-5, -5],[3,0,-5],[3,3,3]])\n",
    "m6 = np.array([[-5 ,-5, -5],[3,0,3],[3,3,3]])\n",
    "m7 = np.array([[-5 ,-5, 3],[-5,0,3],[3,3,3]])"
   ]
  },
  {
   "cell_type": "code",
   "execution_count": 94,
   "id": "f24c8caf",
   "metadata": {
    "tags": []
   },
   "outputs": [],
   "source": [
    "def calculate_target_size(img_size: int, kernel_size: int) -> int:\n",
    "    num_pixels = 0\n",
    "    \n",
    "    # From 0 up to img size (if img size = 224, then up to 223)\n",
    "    for i in range(img_size):\n",
    "        # Add the kernel size (let's say 3) to the current i\n",
    "        added = i + kernel_size\n",
    "        # It must be lower than the image size\n",
    "        if added <= img_size:\n",
    "            # Increment if so\n",
    "            num_pixels += 1\n",
    "            \n",
    "    return num_pixels\n"
   ]
  },
  {
   "cell_type": "code",
   "execution_count": 95,
   "id": "41df9a75",
   "metadata": {
    "tags": []
   },
   "outputs": [],
   "source": [
    "def convolve(img):\n",
    "    \n",
    "    _size = calculate_target_size(\n",
    "        img_size=img.shape[0],\n",
    "        kernel_size=3) #m0.shape[0]\n",
    "    \n",
    "    \n",
    "    k = m0.shape[0]\n",
    "    \n",
    "    # 2D array of zeros\n",
    "    convolved_img = np.zeros(shape=(width, height))\n",
    "    \n",
    "    # Iterate over the rows\n",
    "    for i in range(_size):\n",
    "        # Iterate over the columns\n",
    "        for j in range(_size):\n",
    "            # img[i, j] = individual pixel value\n",
    "            # Get the current matrix\n",
    "            \n",
    "            mat = img[i:i+k, j:j+k]\n",
    "            \n",
    "            # Apply the convolution - element-wise multiplication and summation of the result\n",
    "            # Store the result to i-th row and j-th column of our convolved_img array\n",
    "            \n",
    "            r0 = abs(np.sum(np.multiply(mat, m0)))\n",
    "            r1 = abs(np.sum(np.multiply(mat, m1)))\n",
    "            r2 = abs(np.sum(np.multiply(mat, m2)))\n",
    "            r3 = abs(np.sum(np.multiply(mat, m3)))\n",
    "            r4 = abs(np.sum(np.multiply(mat, m4)))\n",
    "            r5 = abs(np.sum(np.multiply(mat, m5)))\n",
    "            r6 = abs(np.sum(np.multiply(mat, m6)))\n",
    "            r7 = abs(np.sum(np.multiply(mat, m7)))\n",
    "\n",
    "            convolved_img[i, j] = max(r1,r2,r3,r4,r5,r6,r7)\n",
    "\n",
    "            \n",
    "    return convolved_img.astype('uint8')\n"
   ]
  },
  {
   "cell_type": "code",
   "execution_count": 96,
   "id": "00241fc4",
   "metadata": {
    "tags": []
   },
   "outputs": [],
   "source": [
    "\n",
    "\n",
    "# This function does the coefficient fusing according to the fusion method\n",
    "def fuseCoeff(cooef1, cooef2, method):\n",
    "\n",
    "    if (method == 'mean'):\n",
    "        cooef = (cooef1 + cooef2 ) / 3\n",
    "    # elif (method == 'min'):\n",
    "    #     cooef = np.minimum(cooef1,cooef2,cooef3)\n",
    "    # elif (method == 'max'):\n",
    "    #     cooef = np.maximum(cooef1,cooef2,cooef3)\n",
    "    # else:\n",
    "    #     cooef = []\n",
    "\n",
    "    return cooef\n",
    "\n",
    "\n",
    "def FUSION(I1,I2):\n",
    "\n",
    "    # Params\n",
    "    FUSION_METHOD = 'mean' # Can be 'min' || 'max || anything you choose according theory\n",
    "\n",
    "    # We need to have both images the same size\n",
    "    # I2 = cv2.resize(I2,I1.shape) # I do this just because i used two random images\n",
    "\n",
    "    ## Fusion algo\n",
    "\n",
    "    # First: Do wavelet transform on each image\n",
    "    wavelet = 'db1'\n",
    "    cooef1 = pywt.wavedec2(I1[:,:], wavelet)\n",
    "    cooef2 = pywt.wavedec2(I2[:,:], wavelet)\n",
    "    # cooef3 = pywt.wavedec2(I3[:,:], wavelet)\n",
    "\n",
    "    # Second: for each level in both image do the fusion according to the desire option\n",
    "    fusedCooef = []\n",
    "    for i in range(len(cooef1)-1):\n",
    "\n",
    "        # The first values in each decomposition is the apprximation values of the top level\n",
    "        if(i == 0):\n",
    "\n",
    "            fusedCooef.append(fuseCoeff(cooef1[0],cooef2[0],FUSION_METHOD))\n",
    "\n",
    "        else:\n",
    "\n",
    "            # For the rest of the levels we have tupels with 2 coeeficents\n",
    "            c1 = fuseCoeff(cooef1[i][0], cooef2[i][0],  FUSION_METHOD)\n",
    "            c2 = fuseCoeff(cooef1[i][1], cooef2[i][1],  FUSION_METHOD)\n",
    "            c3 = fuseCoeff(cooef1[i][2], cooef2[i][2], FUSION_METHOD)\n",
    "\n",
    "            # c3 = fuseCoeff(cooef1[i][2], cooef2[i][2], cooef3[i][2], FUSION_METHOD)\n",
    "\n",
    "            fusedCooef.append((c1,c2,c3))\n",
    "\n",
    "    # Third: After we fused the cooefficent we nned to transfor back to get the image\n",
    "    fusedImage = pywt.waverec2(fusedCooef, wavelet)\n",
    "\n",
    "    # Forth: normmalize values to be in uint8\n",
    "    fusedImage = np.multiply(np.divide(fusedImage - np.min(fusedImage),(np.max(fusedImage) - np.min(fusedImage))),255)\n",
    "    fusedImage = fusedImage.astype(np.uint8)\n",
    "\n",
    "    return fusedImage\n",
    "    \n",
    "\n"
   ]
  },
  {
   "cell_type": "code",
   "execution_count": 97,
   "id": "56680a9d",
   "metadata": {
    "tags": []
   },
   "outputs": [],
   "source": [
    "def toimage(cleaned, mask):\n",
    "    r,c = cleaned.shape\n",
    "    cleaned = cleaned.astype('uint8')\n",
    "    for i in range(1,r):\n",
    "        for j in range(1,c):\n",
    "            if cleaned[i][j]==1:\n",
    "                cleaned[i][j]=255\n",
    "                \n",
    "    kernel = np.ones((1,1),np.uint8)\n",
    "    cleaned = cv2.erode(cleaned,kernel,iterations = 1)\n",
    "    kernel = np.ones((1,1),np.uint8)\n",
    "    cleaned = cv2.morphologyEx(cleaned, cv2.MORPH_DILATE, kernel)\n",
    "    cleaned = cv2.bitwise_and(cleaned,cleaned,mask = mask)\n",
    "    \n",
    "    return cleaned"
   ]
  },
  {
   "cell_type": "code",
   "execution_count": null,
   "id": "73274cac",
   "metadata": {},
   "outputs": [],
   "source": []
  },
  {
   "cell_type": "code",
   "execution_count": 98,
   "id": "06df1974",
   "metadata": {
    "tags": []
   },
   "outputs": [],
   "source": [
    "def PROCESSING(path):\n",
    "\n",
    "    img = cv2.imread(path)\n",
    "    im1 = img[:,:,1]\n",
    "    im1 = cv2.resize(im1,dim, interpolation = cv2.INTER_AREA).reshape(width,height)\n",
    "\n",
    "\n",
    "    clahe = cv2.createCLAHE(clipLimit=2, tileGridSize=(8,8))\n",
    "    enh = clahe.apply(im1)\n",
    "\n",
    "    ret,bin = cv2.threshold(im1,18,255,cv2.THRESH_BINARY)\n",
    "    kernel = np.ones((3,3),np.uint8)\n",
    "    mask = cv2.erode(bin,kernel,iterations = 1)\n",
    "\n",
    "\n",
    "\n",
    "    img = convolve(im1)\n",
    "\n",
    "    edg = cv2.filter2D(src=img, ddepth=-1, kernel=sharpen)\n",
    "    th, edg = cv2.threshold(edg, 120, 255, cv2.THRESH_BINARY )\n",
    "    edg = cv2.filter2D(src=edg, ddepth=-1, kernel=sharpen)\n",
    "    edg= edg>0\n",
    "    edg = morphology.remove_small_objects(edg, min_size=10, connectivity=2)\n",
    "    img_sharpened2 = toimage(edg,mask)\n",
    "\n",
    "\n",
    "    # fusedimg = FUSION(img_sharpened2,enh)\n",
    "    \n",
    "    return img_sharpened2\n",
    "\n",
    "\n"
   ]
  },
  {
   "cell_type": "code",
   "execution_count": null,
   "id": "8ea0abad-1d6b-4f3a-bca9-ccf7b850133e",
   "metadata": {},
   "outputs": [],
   "source": []
  },
  {
   "cell_type": "code",
   "execution_count": null,
   "id": "204e498d-f54c-4868-807b-d9fd94ff1a06",
   "metadata": {},
   "outputs": [],
   "source": []
  },
  {
   "cell_type": "code",
   "execution_count": 37,
   "id": "67292b33-090a-4b97-88d4-5e9d01663c9e",
   "metadata": {},
   "outputs": [],
   "source": [
    "data_dir = pathlib.Path('T1/IM').with_suffix('')\n",
    "\n",
    "NR = data_dir.glob('Nr- (1).jpg')\n",
    "Path = r'C:\\Users\\RAPTOR\\Desktop\\Thesis\\CODE\\IMG\\NR_1.jpeg'"
   ]
  },
  {
   "cell_type": "code",
   "execution_count": 38,
   "id": "7b8d8aec-2194-4583-8fd0-3af3eddd6b68",
   "metadata": {},
   "outputs": [
    {
     "name": "stdout",
     "output_type": "stream",
     "text": [
      "T1\\IM\\Nr- (1).jpg\n"
     ]
    }
   ],
   "source": [
    "for i in NR:   \n",
    "    print(i)\n",
    "    im = PROCESSING(str(i))\n",
    "    cv2.imwrite(str(Path),im)  "
   ]
  },
  {
   "cell_type": "code",
   "execution_count": null,
   "id": "2fb1e65c-bc32-45cf-8f82-3aeecadafd3a",
   "metadata": {},
   "outputs": [],
   "source": []
  },
  {
   "cell_type": "code",
   "execution_count": null,
   "id": "18b7cdee",
   "metadata": {},
   "outputs": [],
   "source": []
  },
  {
   "cell_type": "code",
   "execution_count": 10,
   "id": "8099f82d",
   "metadata": {
    "execution": {
     "iopub.execute_input": "2023-05-01T07:03:02.427434Z",
     "iopub.status.busy": "2023-05-01T07:03:02.426709Z",
     "iopub.status.idle": "2023-05-01T07:03:07.364548Z",
     "shell.execute_reply": "2023-05-01T07:03:07.363298Z",
     "shell.execute_reply.started": "2023-05-01T07:03:02.427394Z"
    }
   },
   "outputs": [
    {
     "name": "stdout",
     "output_type": "stream",
     "text": [
      "DEVICES AVAILABLE: 2\n"
     ]
    }
   ],
   "source": [
    "strategy = tf.distribute.MirroredStrategy()\n",
    "print('DEVICES AVAILABLE: {}'.format(strategy.num_replicas_in_sync))"
   ]
  },
  {
   "cell_type": "code",
   "execution_count": 111,
   "id": "78f608bf",
   "metadata": {
    "execution": {
     "iopub.execute_input": "2023-05-01T09:18:50.388320Z",
     "iopub.status.busy": "2023-05-01T09:18:50.387166Z",
     "iopub.status.idle": "2023-05-01T09:18:50.937615Z",
     "shell.execute_reply": "2023-05-01T09:18:50.936479Z",
     "shell.execute_reply.started": "2023-05-01T09:18:50.388262Z"
    }
   },
   "outputs": [],
   "source": [
    "# with tf.device('/GPU:1'):\n",
    "# with strategy.scope():\n",
    "\n",
    "data_dir = pathlib.Path('/kaggle/input/base-img/Base_PreProcess').with_suffix('')\n",
    "\n",
    "NR = data_dir.glob('Normal/*.*')\n",
    "AbNR = data_dir.glob('AbNormal/*.*')\n",
    "\n",
    "data = []\n",
    "labels = []\n",
    "n=1\n",
    "\n",
    "for i in NR:   \n",
    "\n",
    "#   \n",
    "    s = str(n)\n",
    "#         Path = r'C:\\Users\\RAPTOR\\Desktop\\Thesis\\CODE\\Base_PreProcess\\Normal\\NR_'+s+'.jpeg'\n",
    "#     im = PROCESSING(str(i))\n",
    "\n",
    "#         cv2.imwrite(str(Path),im)\n",
    "#         cv2.waitKey(0)\n",
    "#     n+=1\n",
    "    if str(i) == '/kaggle/input/base-img/Base_PreProcess/Normal/.ipynb_checkpoints':\n",
    "        pass\n",
    "    else:\n",
    "        \n",
    "#         print(str(i))\n",
    "        im = cv2.imread(str(i)) \n",
    "        im = im[:,:,1]\n",
    "    #     im = im.astype(np.uint8)\n",
    "    #     print(type(im))\n",
    "\n",
    "    #     break\n",
    "        data.append(im)\n",
    "        labels.append(0)\n",
    "\n",
    "# n=1\n",
    "\n",
    "for i in AbNR:   \n",
    "    s = str(n)\n",
    "#         Path = r'C:\\Users\\RAPTOR\\Desktop\\Thesis\\CODE\\Base_PreProcess\\AbNormal\\AbNR_'+s+'.jpeg'\n",
    "#     im = PROCESSING(str(i))\n",
    "\n",
    "#         cv2.imwrite(str(Path),im)\n",
    "#         cv2.waitKey(0)\n",
    "#     n+=1\n",
    "    im = cv2.imread(str(i)) \n",
    "    im = im[:,:,1]\n",
    "    data.append(im)\n",
    "    labels.append(1)\n",
    "\n",
    "\n",
    "data = np.array(data)\n",
    "labels = np.array(labels)\n",
    "\n",
    "\n"
   ]
  },
  {
   "cell_type": "code",
   "execution_count": null,
   "id": "33d0c3ba",
   "metadata": {},
   "outputs": [],
   "source": []
  },
  {
   "cell_type": "code",
   "execution_count": 12,
   "id": "8700372b",
   "metadata": {
    "execution": {
     "iopub.execute_input": "2023-05-01T07:06:13.805836Z",
     "iopub.status.busy": "2023-05-01T07:06:13.805454Z",
     "iopub.status.idle": "2023-05-01T07:06:13.812822Z",
     "shell.execute_reply": "2023-05-01T07:06:13.811615Z",
     "shell.execute_reply.started": "2023-05-01T07:06:13.805802Z"
    }
   },
   "outputs": [],
   "source": [
    "def encode(labels):\n",
    "\n",
    "    from sklearn.preprocessing import OneHotEncoder\n",
    "    onehot_encoder = OneHotEncoder(sparse=False)\n",
    "    integer_encoded = labels.reshape(len(labels), 1)           #before labels_batch\n",
    "    label_encoded = onehot_encoder.fit_transform(integer_encoded)\n",
    "    return label_encoded\n"
   ]
  },
  {
   "cell_type": "code",
   "execution_count": null,
   "id": "63656357",
   "metadata": {},
   "outputs": [],
   "source": []
  },
  {
   "cell_type": "code",
   "execution_count": 114,
   "id": "b49bf18b",
   "metadata": {
    "execution": {
     "iopub.execute_input": "2023-05-01T09:19:16.264745Z",
     "iopub.status.busy": "2023-05-01T09:19:16.263708Z",
     "iopub.status.idle": "2023-05-01T09:19:16.275607Z",
     "shell.execute_reply": "2023-05-01T09:19:16.274473Z",
     "shell.execute_reply.started": "2023-05-01T09:19:16.264705Z"
    }
   },
   "outputs": [],
   "source": [
    "from sklearn.model_selection import train_test_split\n",
    "X_train, X_test, ytrain, ytest = train_test_split(data, encode(labels), test_size=0.15,\n",
    "                                                random_state=42)\n"
   ]
  },
  {
   "cell_type": "code",
   "execution_count": null,
   "id": "1b338bc8",
   "metadata": {},
   "outputs": [],
   "source": []
  },
  {
   "cell_type": "code",
   "execution_count": 28,
   "id": "f8745790",
   "metadata": {
    "execution": {
     "iopub.execute_input": "2023-05-01T07:25:39.840795Z",
     "iopub.status.busy": "2023-05-01T07:25:39.839789Z",
     "iopub.status.idle": "2023-05-01T07:25:39.853402Z",
     "shell.execute_reply": "2023-05-01T07:25:39.851757Z",
     "shell.execute_reply.started": "2023-05-01T07:25:39.840739Z"
    }
   },
   "outputs": [],
   "source": [
    "import tensorflow as tf\n",
    "\n",
    "# with strategy.scope():\n",
    "\n",
    "def get_model(width, height):\n",
    "\n",
    "    inputs = tf.keras.Input((width, height, 1))\n",
    "    conv1 = tf.keras.layers.Conv2D(filters=16, kernel_size=5, strides=1)(inputs)\n",
    "    BN1 = tf.keras.layers.BatchNormalization()(conv1)\n",
    "    relu1 = tf.keras.layers.Activation(activation='relu')(BN1)\n",
    "\n",
    "    conv2 = tf.keras.layers.Conv2D(filters=32, kernel_size=3, strides=2,padding='same')(relu1)\n",
    "    BN2 = tf.keras.layers.BatchNormalization()(conv2)\n",
    "    relu2 = tf.keras.layers.Activation(activation='relu')(BN2)\n",
    "\n",
    "    conv3 = tf.keras.layers.Conv2D(filters=32, kernel_size=3, strides=1,padding='same')(relu2)\n",
    "    BN3 = tf.keras.layers.BatchNormalization()(conv3)\n",
    "    relu3 = tf.keras.layers.Activation(activation='relu')(BN3)\n",
    "\n",
    "    skipconv = tf.keras.layers.Conv2D(filters=32, kernel_size=1, strides=2)(relu1)\n",
    "\n",
    "    Add = tf.keras.layers.Add()([skipconv,relu3])\n",
    "    AvgPool = tf.keras.layers.AveragePooling2D(pool_size=(2,2), strides=2)(Add)\n",
    "    FC = tf.keras.layers.Flatten()(AvgPool)\n",
    "\n",
    "    output = tf.keras.layers.Dense(2,activation='softmax')(FC)\n",
    "\n",
    "\n",
    "\n",
    "    model = tf.keras.Model(inputs, output,name='BASE_MODEL')\n",
    "\n",
    "    return model\n",
    "\n",
    "\n",
    "\n"
   ]
  },
  {
   "cell_type": "code",
   "execution_count": 115,
   "id": "09d2f4fa",
   "metadata": {
    "execution": {
     "iopub.execute_input": "2023-05-01T09:19:23.461953Z",
     "iopub.status.busy": "2023-05-01T09:19:23.461256Z",
     "iopub.status.idle": "2023-05-01T09:19:23.693698Z",
     "shell.execute_reply": "2023-05-01T09:19:23.692869Z",
     "shell.execute_reply.started": "2023-05-01T09:19:23.461911Z"
    }
   },
   "outputs": [
    {
     "name": "stdout",
     "output_type": "stream",
     "text": [
      "Model: \"BASE_MODEL\"\n",
      "__________________________________________________________________________________________________\n",
      " Layer (type)                   Output Shape         Param #     Connected to                     \n",
      "==================================================================================================\n",
      " input_8 (InputLayer)           [(None, 256, 256, 1  0           []                               \n",
      "                                )]                                                                \n",
      "                                                                                                  \n",
      " conv2d_28 (Conv2D)             (None, 252, 252, 16  416         ['input_8[0][0]']                \n",
      "                                )                                                                 \n",
      "                                                                                                  \n",
      " batch_normalization_21 (BatchN  (None, 252, 252, 16  64         ['conv2d_28[0][0]']              \n",
      " ormalization)                  )                                                                 \n",
      "                                                                                                  \n",
      " activation_21 (Activation)     (None, 252, 252, 16  0           ['batch_normalization_21[0][0]'] \n",
      "                                )                                                                 \n",
      "                                                                                                  \n",
      " conv2d_29 (Conv2D)             (None, 126, 126, 32  4640        ['activation_21[0][0]']          \n",
      "                                )                                                                 \n",
      "                                                                                                  \n",
      " batch_normalization_22 (BatchN  (None, 126, 126, 32  128        ['conv2d_29[0][0]']              \n",
      " ormalization)                  )                                                                 \n",
      "                                                                                                  \n",
      " activation_22 (Activation)     (None, 126, 126, 32  0           ['batch_normalization_22[0][0]'] \n",
      "                                )                                                                 \n",
      "                                                                                                  \n",
      " conv2d_30 (Conv2D)             (None, 126, 126, 32  9248        ['activation_22[0][0]']          \n",
      "                                )                                                                 \n",
      "                                                                                                  \n",
      " batch_normalization_23 (BatchN  (None, 126, 126, 32  128        ['conv2d_30[0][0]']              \n",
      " ormalization)                  )                                                                 \n",
      "                                                                                                  \n",
      " conv2d_31 (Conv2D)             (None, 126, 126, 32  544         ['activation_21[0][0]']          \n",
      "                                )                                                                 \n",
      "                                                                                                  \n",
      " activation_23 (Activation)     (None, 126, 126, 32  0           ['batch_normalization_23[0][0]'] \n",
      "                                )                                                                 \n",
      "                                                                                                  \n",
      " add_7 (Add)                    (None, 126, 126, 32  0           ['conv2d_31[0][0]',              \n",
      "                                )                                 'activation_23[0][0]']          \n",
      "                                                                                                  \n",
      " average_pooling2d_7 (AveragePo  (None, 63, 63, 32)  0           ['add_7[0][0]']                  \n",
      " oling2D)                                                                                         \n",
      "                                                                                                  \n",
      " flatten_7 (Flatten)            (None, 127008)       0           ['average_pooling2d_7[0][0]']    \n",
      "                                                                                                  \n",
      " dense_7 (Dense)                (None, 2)            254018      ['flatten_7[0][0]']              \n",
      "                                                                                                  \n",
      "==================================================================================================\n",
      "Total params: 269,186\n",
      "Trainable params: 269,026\n",
      "Non-trainable params: 160\n",
      "__________________________________________________________________________________________________\n"
     ]
    }
   ],
   "source": [
    "\n",
    "# Build model.\n",
    "width = data[0][0].shape[0]\n",
    "height = data[0][1].shape[0]\n",
    "\n",
    "with strategy.scope():\n",
    "    model = get_model(width, height)\n",
    "\n",
    "model.summary()\n"
   ]
  },
  {
   "cell_type": "code",
   "execution_count": 116,
   "id": "ed9b6d6a",
   "metadata": {
    "execution": {
     "iopub.execute_input": "2023-05-01T09:19:31.280268Z",
     "iopub.status.busy": "2023-05-01T09:19:31.279426Z",
     "iopub.status.idle": "2023-05-01T09:19:41.006394Z",
     "shell.execute_reply": "2023-05-01T09:19:41.005335Z",
     "shell.execute_reply.started": "2023-05-01T09:19:31.280222Z"
    }
   },
   "outputs": [
    {
     "name": "stdout",
     "output_type": "stream",
     "text": [
      "Epoch 1/10\n",
      "4/4 [==============================] - 7s 58ms/step - loss: 0.6808 - acc: 0.6953 - precision_11: 0.6953 - recall_11: 0.6953\n",
      "Epoch 2/10\n",
      "4/4 [==============================] - 0s 46ms/step - loss: 0.2620 - acc: 0.9219 - precision_11: 0.9219 - recall_11: 0.9219\n",
      "Epoch 3/10\n",
      "4/4 [==============================] - 0s 41ms/step - loss: 0.1302 - acc: 0.9844 - precision_11: 0.9844 - recall_11: 0.9844\n",
      "Epoch 4/10\n",
      "4/4 [==============================] - 0s 40ms/step - loss: 0.0829 - acc: 1.0000 - precision_11: 1.0000 - recall_11: 1.0000\n",
      "Epoch 5/10\n",
      "4/4 [==============================] - 1s 361ms/step - loss: 0.0414 - acc: 1.0000 - precision_11: 1.0000 - recall_11: 1.0000 - val_loss: 1.7186 - val_acc: 0.6000 - val_precision_11: 0.6000 - val_recall_11: 0.6000\n",
      "Epoch 6/10\n",
      "4/4 [==============================] - 0s 45ms/step - loss: 0.0291 - acc: 1.0000 - precision_11: 1.0000 - recall_11: 1.0000\n",
      "Epoch 7/10\n",
      "4/4 [==============================] - 0s 42ms/step - loss: 0.0176 - acc: 1.0000 - precision_11: 1.0000 - recall_11: 1.0000\n",
      "Epoch 8/10\n",
      "4/4 [==============================] - 0s 41ms/step - loss: 0.0112 - acc: 1.0000 - precision_11: 1.0000 - recall_11: 1.0000\n",
      "Epoch 9/10\n",
      "4/4 [==============================] - 0s 42ms/step - loss: 0.0098 - acc: 1.0000 - precision_11: 1.0000 - recall_11: 1.0000\n",
      "Epoch 10/10\n",
      "4/4 [==============================] - 0s 100ms/step - loss: 0.0084 - acc: 1.0000 - precision_11: 1.0000 - recall_11: 1.0000 - val_loss: 1.9919 - val_acc: 0.5333 - val_precision_11: 0.5333 - val_recall_11: 0.5333\n"
     ]
    },
    {
     "data": {
      "text/plain": [
       "<keras.callbacks.History at 0x75722fda0c50>"
      ]
     },
     "execution_count": 116,
     "metadata": {},
     "output_type": "execute_result"
    }
   ],
   "source": [
    "# model.load_weights('model.h5')\n",
    "\n",
    "lr_schedule = tf.keras.optimizers.schedules.ExponentialDecay(\n",
    "    initial_learning_rate=1e-4,\n",
    "    decay_steps=10000,\n",
    "    decay_rate=0.9)\n",
    "\n",
    "with strategy.scope():\n",
    "    model.compile(\n",
    "        loss=\"binary_crossentropy\",\n",
    "        optimizer=tf.keras.optimizers.Adam(learning_rate=1e-4),\n",
    "        metrics=['acc',tf.keras.metrics.Precision(),\n",
    "                          tf.keras.metrics.Recall()],\n",
    "    )\n",
    "\n",
    "# Define callbacks.\n",
    "checkpoint_cb = tf.keras.callbacks.ModelCheckpoint(\n",
    "    \"image_classification.h5\", save_best_only=True\n",
    ")\n",
    "\n",
    "early_stopping_cb = tf.keras.callbacks.EarlyStopping(monitor=\"acc\", patience=2)\n",
    "\n",
    "\n",
    "epochs = 10\n",
    "model.fit(\n",
    "    x=X_train,\n",
    "    y=ytrain,\n",
    "    validation_split=0.1,\n",
    "    validation_freq=5,\n",
    "    epochs=epochs,\n",
    "    shuffle=True,\n",
    "    batch_size=128,\n",
    "    \n",
    "    # callbacks=[checkpoint_cb, early_stopping_cb],\n",
    ")"
   ]
  },
  {
   "cell_type": "code",
   "execution_count": null,
   "id": "bfe88c17",
   "metadata": {},
   "outputs": [],
   "source": []
  },
  {
   "cell_type": "code",
   "execution_count": 117,
   "id": "0ed95a12",
   "metadata": {
    "execution": {
     "iopub.execute_input": "2023-05-01T09:19:48.265404Z",
     "iopub.status.busy": "2023-05-01T09:19:48.265034Z",
     "iopub.status.idle": "2023-05-01T09:19:49.937470Z",
     "shell.execute_reply": "2023-05-01T09:19:49.936164Z",
     "shell.execute_reply.started": "2023-05-01T09:19:48.265367Z"
    }
   },
   "outputs": [
    {
     "name": "stdout",
     "output_type": "stream",
     "text": [
      "1/1 [==============================] - 2s 2s/step\n",
      "Model Classification report \n",
      "\n",
      "               precision    recall  f1-score   support\n",
      "\n",
      "           0       0.68      1.00      0.81        13\n",
      "           1       1.00      0.54      0.70        13\n",
      "\n",
      "   micro avg       0.77      0.77      0.77        26\n",
      "   macro avg       0.84      0.77      0.76        26\n",
      "weighted avg       0.84      0.77      0.76        26\n",
      " samples avg       0.77      0.77      0.77        26\n",
      "\n",
      "Model accuracy  76.92307692307693 %\n"
     ]
    }
   ],
   "source": [
    "pred = model.predict(X_test).round()\n",
    "print('Model Classification report \\n\\n {}'.format(metrics.classification_report(ytest,pred)))\n",
    "print('Model accuracy  {} %'.format(metrics.accuracy_score(ytest,pred)*100))\n"
   ]
  },
  {
   "cell_type": "code",
   "execution_count": 118,
   "id": "e8703ce8",
   "metadata": {
    "execution": {
     "iopub.execute_input": "2023-05-01T09:19:56.780112Z",
     "iopub.status.busy": "2023-05-01T09:19:56.779033Z",
     "iopub.status.idle": "2023-05-01T09:19:57.047631Z",
     "shell.execute_reply": "2023-05-01T09:19:57.046619Z",
     "shell.execute_reply.started": "2023-05-01T09:19:56.780054Z"
    }
   },
   "outputs": [
    {
     "data": {
      "image/png": "[encoded data removed]",
      "text/plain": [
       "<Figure size 640x480 with 2 Axes>"
      ]
     },
     "metadata": {},
     "output_type": "display_data"
    }
   ],
   "source": [
    "import seaborn as sns\n",
    "class_names = ['NR','AbNR']  \n",
    "ax= plt.subplot()\n",
    "cm = metrics.confusion_matrix(ytest.argmax(axis=1), pred.argmax(axis=1))\n",
    "sns.heatmap(cm, annot=True, fmt='g', ax=ax);  #annot=True to annotate cells, ftm='g' to disable scientific notation\n",
    "# labels, title and ticks\n",
    "ax.set_xlabel('Predicted labels');ax.set_ylabel('True labels'); \n",
    "ax.set_title('Confusion Matrix'); \n",
    "ax.xaxis.set_ticklabels(class_names); ax.yaxis.set_ticklabels(class_names);\n"
   ]
  },
  {
   "cell_type": "code",
   "execution_count": null,
   "id": "3828bc2e",
   "metadata": {},
   "outputs": [],
   "source": []
  },
  {
   "cell_type": "code",
   "execution_count": null,
   "id": "54e10c6c",
   "metadata": {},
   "outputs": [],
   "source": []
  },
  {
   "cell_type": "code",
   "execution_count": null,
   "id": "2c9d766b",
   "metadata": {},
   "outputs": [],
   "source": []
  },
  {
   "cell_type": "code",
   "execution_count": null,
   "id": "00b6f894",
   "metadata": {},
   "outputs": [],
   "source": []
  },
  {
   "cell_type": "code",
   "execution_count": null,
   "id": "79ceeb56",
   "metadata": {},
   "outputs": [],
   "source": []
  },
  {
   "cell_type": "code",
   "execution_count": 20,
   "id": "15d50999",
   "metadata": {
    "execution": {
     "iopub.execute_input": "2023-05-01T07:12:54.375889Z",
     "iopub.status.busy": "2023-05-01T07:12:54.374703Z",
     "iopub.status.idle": "2023-05-01T07:12:54.388648Z",
     "shell.execute_reply": "2023-05-01T07:12:54.387357Z",
     "shell.execute_reply.started": "2023-05-01T07:12:54.375830Z"
    }
   },
   "outputs": [],
   "source": [
    "def toimage(cleaned, mask):\n",
    "    r,c = cleaned.shape\n",
    "    cleaned = cleaned.astype('uint8')\n",
    "    for i in range(1,r):\n",
    "        for j in range(1,c):\n",
    "            if cleaned[i][j]==1:\n",
    "                cleaned[i][j]=255\n",
    "                \n",
    "    kernel = np.ones((1,1),np.uint8)\n",
    "    cleaned = cv2.erode(cleaned,kernel,iterations = 1)\n",
    "    kernel = np.ones((1,1),np.uint8)\n",
    "    cleaned = cv2.morphologyEx(cleaned, cv2.MORPH_DILATE, kernel)\n",
    "    cleaned = cv2.bitwise_and(cleaned,cleaned,mask = mask)\n",
    "    \n",
    "    return cleaned\n",
    "\n",
    "def pre_process(img, NORMAL= True):\n",
    "    \n",
    "    # clahe = cv2.createCLAHE(clipLimit=1, tileGridSize=(3,3))\n",
    "    # im1 = clahe.apply(im1)\n",
    "\n",
    "    dst = cv2.adaptiveThreshold(img, 255, cv2.ADAPTIVE_THRESH_MEAN_C, cv2.THRESH_BINARY, 9, 2)\n",
    "    dst=cv2.threshold(dst, 100, 255, cv2.THRESH_OTSU )[1]\n",
    "    dst = cv2.medianBlur(dst,1)\n",
    "\n",
    "    kernel = cv2.getStructuringElement(cv2.MORPH_ELLIPSE,(1,1))\n",
    "    dst = cv2.morphologyEx(dst, cv2.MORPH_CLOSE, kernel)\n",
    "\n",
    "\n",
    "    dst = cv2.morphologyEx(dst, cv2.MORPH_CLOSE, kernel)\n",
    "    dst = 255 - dst\n",
    "\n",
    "    dst2 = cv2.morphologyEx(dst, cv2.MORPH_DILATE, kernel)\n",
    "\n",
    "\n",
    "    dst2 = dst > 0\n",
    "\n",
    "    if NORMAL:\n",
    "\n",
    "        cleaned = morphology.remove_small_objects(dst2, min_size=120) #For Normal = 120\n",
    "        cleaned = morphology.remove_small_holes(cleaned, 2)\n",
    "    \n",
    "    else:\n",
    "        \n",
    "        cleaned = morphology.remove_small_objects(dst2, min_size=40) #For Abnormal = 40\n",
    "        cleaned = morphology.remove_small_holes(cleaned, 2)\n",
    "        \n",
    "    return cleaned\n",
    "    \n",
    "    \n",
    "\n"
   ]
  },
  {
   "cell_type": "code",
   "execution_count": 21,
   "id": "c54b8ff4",
   "metadata": {
    "execution": {
     "iopub.execute_input": "2023-05-01T07:12:55.884544Z",
     "iopub.status.busy": "2023-05-01T07:12:55.884057Z",
     "iopub.status.idle": "2023-05-01T07:12:55.896290Z",
     "shell.execute_reply": "2023-05-01T07:12:55.895162Z",
     "shell.execute_reply.started": "2023-05-01T07:12:55.884502Z"
    }
   },
   "outputs": [],
   "source": [
    "def PROCESSING(path):\n",
    "\n",
    "    img = cv2.imread(path)\n",
    "    im1 = img[:,:,1]\n",
    "    im1 = cv2.resize(im1,dim, interpolation = cv2.INTER_AREA).reshape(width,height)\n",
    "\n",
    "    clahe = cv2.createCLAHE(clipLimit=2, tileGridSize=(8,8))\n",
    "    enh = clahe.apply(im1)\n",
    "\n",
    "    ret,bin = cv2.threshold(im1,18,255,cv2.THRESH_BINARY)\n",
    "    kernel = np.ones((3,3),np.uint8)\n",
    "    mask = cv2.erode(bin,kernel,iterations = 1)\n",
    "\n",
    "    img = pre_process(im1) \n",
    "    img = toimage(img,mask)\n",
    "\n",
    "    fusedimg = FUSION(img,enh)\n",
    "    \n",
    "    return fusedimg\n",
    "\n",
    "\n"
   ]
  },
  {
   "cell_type": "code",
   "execution_count": 22,
   "id": "28fb8db6",
   "metadata": {
    "execution": {
     "iopub.execute_input": "2023-05-01T07:13:03.224912Z",
     "iopub.status.busy": "2023-05-01T07:13:03.223972Z",
     "iopub.status.idle": "2023-05-01T07:18:24.677141Z",
     "shell.execute_reply": "2023-05-01T07:18:24.675917Z",
     "shell.execute_reply.started": "2023-05-01T07:13:03.224848Z"
    }
   },
   "outputs": [],
   "source": [
    "data_dir = pathlib.Path('/kaggle/input/images/IMG').with_suffix('')\n",
    "\n",
    "NR = data_dir.glob('NR/*.*')\n",
    "AbNR = data_dir.glob('AbNR/*.*')\n",
    "\n",
    "data2 = []\n",
    "labels2 = []\n",
    "n=1\n",
    "\n",
    "for i in NR:   \n",
    "    \n",
    "    s = str(n)\n",
    "#     Path = r'C:\\Users\\RAPTOR\\Desktop\\Thesis\\CODE\\PRO_IMG\\Normal\\NR_'+s+'.jpeg'\n",
    "    im = PROCESSING(str(i))\n",
    "    \n",
    "#     cv2.imwrite(str(Path),im)\n",
    "#     cv2.waitKey(0)\n",
    "    n+=1\n",
    "    data2.append(im)\n",
    "    labels2.append(0)\n",
    "    \n",
    "n=1\n",
    "    \n",
    "for i in AbNR:   \n",
    "    s = str(n)\n",
    "#     Path = r'C:\\Users\\RAPTOR\\Desktop\\Thesis\\CODE\\PRO_IMG\\AbNormal\\AbNR_'+s+'.jpeg'\n",
    "    im = PROCESSING(str(i))\n",
    "    \n",
    "#     cv2.imwrite(str(Path),im)\n",
    "#     cv2.waitKey(0)\n",
    "    n+=1\n",
    "    data2.append(im)\n",
    "    labels2.append(1)\n",
    "    \n",
    "\n",
    "data2 = np.array(data2)\n",
    "labels2 = np.array(labels2)\n",
    "\n",
    "\n"
   ]
  },
  {
   "cell_type": "code",
   "execution_count": null,
   "id": "7094ce46",
   "metadata": {},
   "outputs": [],
   "source": []
  },
  {
   "cell_type": "code",
   "execution_count": 33,
   "id": "375b73d1",
   "metadata": {
    "execution": {
     "iopub.execute_input": "2023-05-01T07:29:42.746417Z",
     "iopub.status.busy": "2023-05-01T07:29:42.744808Z",
     "iopub.status.idle": "2023-05-01T07:29:42.771899Z",
     "shell.execute_reply": "2023-05-01T07:29:42.770817Z",
     "shell.execute_reply.started": "2023-05-01T07:29:42.746369Z"
    }
   },
   "outputs": [],
   "source": [
    "from sklearn.model_selection import train_test_split\n",
    "X_train, X_test, ytrain, ytest = train_test_split(data2, encode(labels2), test_size=0.15,\n",
    "                                                random_state=42)\n"
   ]
  },
  {
   "cell_type": "code",
   "execution_count": 44,
   "id": "551d6ee2",
   "metadata": {
    "execution": {
     "iopub.execute_input": "2023-05-01T07:36:24.366500Z",
     "iopub.status.busy": "2023-05-01T07:36:24.365757Z",
     "iopub.status.idle": "2023-05-01T07:36:24.610097Z",
     "shell.execute_reply": "2023-05-01T07:36:24.609170Z",
     "shell.execute_reply.started": "2023-05-01T07:36:24.366463Z"
    }
   },
   "outputs": [
    {
     "name": "stdout",
     "output_type": "stream",
     "text": [
      "Model: \"BASE_MODEL\"\n",
      "__________________________________________________________________________________________________\n",
      " Layer (type)                   Output Shape         Param #     Connected to                     \n",
      "==================================================================================================\n",
      " input_6 (InputLayer)           [(None, 512, 512, 1  0           []                               \n",
      "                                )]                                                                \n",
      "                                                                                                  \n",
      " conv2d_20 (Conv2D)             (None, 508, 508, 16  416         ['input_6[0][0]']                \n",
      "                                )                                                                 \n",
      "                                                                                                  \n",
      " batch_normalization_15 (BatchN  (None, 508, 508, 16  64         ['conv2d_20[0][0]']              \n",
      " ormalization)                  )                                                                 \n",
      "                                                                                                  \n",
      " activation_15 (Activation)     (None, 508, 508, 16  0           ['batch_normalization_15[0][0]'] \n",
      "                                )                                                                 \n",
      "                                                                                                  \n",
      " conv2d_21 (Conv2D)             (None, 254, 254, 32  4640        ['activation_15[0][0]']          \n",
      "                                )                                                                 \n",
      "                                                                                                  \n",
      " batch_normalization_16 (BatchN  (None, 254, 254, 32  128        ['conv2d_21[0][0]']              \n",
      " ormalization)                  )                                                                 \n",
      "                                                                                                  \n",
      " activation_16 (Activation)     (None, 254, 254, 32  0           ['batch_normalization_16[0][0]'] \n",
      "                                )                                                                 \n",
      "                                                                                                  \n",
      " conv2d_22 (Conv2D)             (None, 254, 254, 32  9248        ['activation_16[0][0]']          \n",
      "                                )                                                                 \n",
      "                                                                                                  \n",
      " batch_normalization_17 (BatchN  (None, 254, 254, 32  128        ['conv2d_22[0][0]']              \n",
      " ormalization)                  )                                                                 \n",
      "                                                                                                  \n",
      " conv2d_23 (Conv2D)             (None, 254, 254, 32  544         ['activation_15[0][0]']          \n",
      "                                )                                                                 \n",
      "                                                                                                  \n",
      " activation_17 (Activation)     (None, 254, 254, 32  0           ['batch_normalization_17[0][0]'] \n",
      "                                )                                                                 \n",
      "                                                                                                  \n",
      " add_5 (Add)                    (None, 254, 254, 32  0           ['conv2d_23[0][0]',              \n",
      "                                )                                 'activation_17[0][0]']          \n",
      "                                                                                                  \n",
      " average_pooling2d_5 (AveragePo  (None, 127, 127, 32  0          ['add_5[0][0]']                  \n",
      " oling2D)                       )                                                                 \n",
      "                                                                                                  \n",
      " flatten_5 (Flatten)            (None, 516128)       0           ['average_pooling2d_5[0][0]']    \n",
      "                                                                                                  \n",
      " dense_5 (Dense)                (None, 2)            1032258     ['flatten_5[0][0]']              \n",
      "                                                                                                  \n",
      "==================================================================================================\n",
      "Total params: 1,047,426\n",
      "Trainable params: 1,047,266\n",
      "Non-trainable params: 160\n",
      "__________________________________________________________________________________________________\n"
     ]
    }
   ],
   "source": [
    "\n",
    "# Build model.\n",
    "width = data2[0][0].shape[0]\n",
    "height = data2[0][1].shape[0]\n",
    "\n",
    "with strategy.scope():\n",
    "# with tf.device('/GPU:0'):\n",
    "    model2 = get_model(width, height)\n",
    "\n",
    "model2.summary()"
   ]
  },
  {
   "cell_type": "code",
   "execution_count": null,
   "id": "6d11ccbd",
   "metadata": {},
   "outputs": [],
   "source": []
  },
  {
   "cell_type": "code",
   "execution_count": 55,
   "id": "24f17033",
   "metadata": {
    "execution": {
     "iopub.execute_input": "2023-05-01T07:41:21.354249Z",
     "iopub.status.busy": "2023-05-01T07:41:21.353737Z",
     "iopub.status.idle": "2023-05-01T07:41:36.677663Z",
     "shell.execute_reply": "2023-05-01T07:41:36.676621Z",
     "shell.execute_reply.started": "2023-05-01T07:41:21.354195Z"
    }
   },
   "outputs": [
    {
     "name": "stdout",
     "output_type": "stream",
     "text": [
      "Epoch 1/10\n",
      "4/4 [==============================] - 7s 198ms/step - loss: 4.2153e-08 - acc: 1.0000 - precision_9: 1.0000 - recall_9: 1.0000\n",
      "Epoch 2/10\n",
      "4/4 [==============================] - 1s 142ms/step - loss: 1.3789e-08 - acc: 1.0000 - precision_9: 1.0000 - recall_9: 1.0000\n",
      "Epoch 3/10\n",
      "4/4 [==============================] - 1s 137ms/step - loss: 8.4164e-09 - acc: 1.0000 - precision_9: 1.0000 - recall_9: 1.0000\n",
      "Epoch 4/10\n",
      "4/4 [==============================] - 1s 137ms/step - loss: 3.9808e-09 - acc: 1.0000 - precision_9: 1.0000 - recall_9: 1.0000\n",
      "Epoch 5/10\n",
      "4/4 [==============================] - 2s 766ms/step - loss: 5.5537e-09 - acc: 1.0000 - precision_9: 1.0000 - recall_9: 1.0000 - val_loss: 0.3082 - val_acc: 0.9333 - val_precision_9: 0.9333 - val_recall_9: 0.9333\n",
      "Epoch 6/10\n",
      "4/4 [==============================] - 1s 162ms/step - loss: 3.6269e-09 - acc: 1.0000 - precision_9: 1.0000 - recall_9: 1.0000\n",
      "Epoch 7/10\n",
      "4/4 [==============================] - 1s 186ms/step - loss: 4.7915e-09 - acc: 1.0000 - precision_9: 1.0000 - recall_9: 1.0000\n",
      "Epoch 8/10\n",
      "4/4 [==============================] - 1s 141ms/step - loss: 5.5177e-09 - acc: 1.0000 - precision_9: 1.0000 - recall_9: 1.0000\n",
      "Epoch 9/10\n",
      "4/4 [==============================] - 1s 169ms/step - loss: 3.5957e-09 - acc: 1.0000 - precision_9: 1.0000 - recall_9: 1.0000\n",
      "Epoch 10/10\n",
      "4/4 [==============================] - 1s 266ms/step - loss: 6.2410e-09 - acc: 1.0000 - precision_9: 1.0000 - recall_9: 1.0000 - val_loss: 0.2402 - val_acc: 0.9333 - val_precision_9: 0.9333 - val_recall_9: 0.9333\n"
     ]
    },
    {
     "data": {
      "text/plain": [
       "<keras.callbacks.History at 0x7579428a9050>"
      ]
     },
     "execution_count": 55,
     "metadata": {},
     "output_type": "execute_result"
    }
   ],
   "source": [
    "# model.load_weights('model.h5')\n",
    "\n",
    "lr_schedule = tf.keras.optimizers.schedules.ExponentialDecay(\n",
    "    initial_learning_rate=1e-4,\n",
    "    decay_steps=10000,\n",
    "    decay_rate=0.9)\n",
    "\n",
    "with strategy.scope():\n",
    "\n",
    "    model2.compile(\n",
    "        loss=\"binary_crossentropy\",\n",
    "        optimizer=tf.keras.optimizers.Adam(learning_rate=1e-4),\n",
    "        metrics=['acc',tf.keras.metrics.Precision(),\n",
    "                          tf.keras.metrics.Recall()],\n",
    "    )\n",
    "\n",
    "# Define callbacks.\n",
    "checkpoint_cb = tf.keras.callbacks.ModelCheckpoint(\n",
    "    \"image_classification-2.h5\", save_best_only=True\n",
    ")\n",
    "\n",
    "early_stopping_cb = tf.keras.callbacks.EarlyStopping(monitor=\"acc\", patience=4)\n",
    "\n",
    "\n",
    "epochs = 10\n",
    "model2.fit(\n",
    "    x=X_train,\n",
    "    y=ytrain,\n",
    "    validation_split=0.1,\n",
    "    validation_freq=5,\n",
    "    epochs=epochs,\n",
    "    shuffle=True,\n",
    "    batch_size=128,\n",
    "    \n",
    "#     callbacks=[checkpoint_cb, early_stopping_cb],\n",
    ")"
   ]
  },
  {
   "cell_type": "code",
   "execution_count": null,
   "id": "747598a5",
   "metadata": {},
   "outputs": [],
   "source": []
  },
  {
   "cell_type": "code",
   "execution_count": 56,
   "id": "cd4b2552",
   "metadata": {
    "execution": {
     "iopub.execute_input": "2023-05-01T07:41:40.355187Z",
     "iopub.status.busy": "2023-05-01T07:41:40.354547Z",
     "iopub.status.idle": "2023-05-01T07:41:41.907059Z",
     "shell.execute_reply": "2023-05-01T07:41:41.905947Z",
     "shell.execute_reply.started": "2023-05-01T07:41:40.355148Z"
    }
   },
   "outputs": [
    {
     "name": "stdout",
     "output_type": "stream",
     "text": [
      "1/1 [==============================] - 1s 1s/step\n",
      "Model Classification report \n",
      "\n",
      "               precision    recall  f1-score   support\n",
      "\n",
      "           0       0.86      0.92      0.89        13\n",
      "           1       0.92      0.85      0.88        13\n",
      "\n",
      "   micro avg       0.88      0.88      0.88        26\n",
      "   macro avg       0.89      0.88      0.88        26\n",
      "weighted avg       0.89      0.88      0.88        26\n",
      " samples avg       0.88      0.88      0.88        26\n",
      "\n",
      "Model accuracy  88.46153846153845 %\n"
     ]
    }
   ],
   "source": [
    "pred = model2.predict(X_test).round()\n",
    "print('Model Classification report \\n\\n {}'.format(metrics.classification_report(ytest,pred)))\n",
    "print('Model accuracy  {} %'.format(metrics.accuracy_score(ytest,pred)*100))\n"
   ]
  },
  {
   "cell_type": "code",
   "execution_count": 57,
   "id": "616762c5",
   "metadata": {
    "execution": {
     "iopub.execute_input": "2023-05-01T07:41:50.504548Z",
     "iopub.status.busy": "2023-05-01T07:41:50.504067Z",
     "iopub.status.idle": "2023-05-01T07:41:51.224668Z",
     "shell.execute_reply": "2023-05-01T07:41:51.223557Z",
     "shell.execute_reply.started": "2023-05-01T07:41:50.504502Z"
    }
   },
   "outputs": [
    {
     "data": {
      "image/png": "[encoded data removed]",
      "text/plain": [
       "<Figure size 640x480 with 2 Axes>"
      ]
     },
     "metadata": {},
     "output_type": "display_data"
    }
   ],
   "source": [
    "import seaborn as sns\n",
    "class_names = ['NR','AbNR']  \n",
    "ax= plt.subplot()\n",
    "cm = metrics.confusion_matrix(ytest.argmax(axis=1), pred.argmax(axis=1))\n",
    "sns.heatmap(cm, annot=True, fmt='g', ax=ax);  #annot=True to annotate cells, ftm='g' to disable scientific notation\n",
    "# labels, title and ticks\n",
    "ax.set_xlabel('Predicted labels');ax.set_ylabel('True labels'); \n",
    "ax.set_title('Confusion Matrix'); \n",
    "ax.xaxis.set_ticklabels(class_names); ax.yaxis.set_ticklabels(class_names);\n"
   ]
  },
  {
   "cell_type": "code",
   "execution_count": 87,
   "id": "9bfc4611",
   "metadata": {
    "execution": {
     "iopub.execute_input": "2023-05-01T09:03:17.272658Z",
     "iopub.status.busy": "2023-05-01T09:03:17.271563Z",
     "iopub.status.idle": "2023-05-01T09:03:17.369935Z",
     "shell.execute_reply": "2023-05-01T09:03:17.368838Z",
     "shell.execute_reply.started": "2023-05-01T09:03:17.272573Z"
    }
   },
   "outputs": [],
   "source": [
    "model2.save('model2.h5')"
   ]
  },
  {
   "cell_type": "code",
   "execution_count": null,
   "id": "74356638",
   "metadata": {},
   "outputs": [],
   "source": []
  },
  {
   "cell_type": "code",
   "execution_count": null,
   "id": "81270b10",
   "metadata": {},
   "outputs": [],
   "source": []
  },
  {
   "cell_type": "code",
   "execution_count": null,
   "id": "c49700a5",
   "metadata": {},
   "outputs": [],
   "source": []
  },
  {
   "cell_type": "code",
   "execution_count": null,
   "id": "656490fc",
   "metadata": {},
   "outputs": [],
   "source": []
  },
  {
   "cell_type": "code",
   "execution_count": null,
   "id": "902d0665",
   "metadata": {},
   "outputs": [],
   "source": []
  },
  {
   "cell_type": "code",
   "execution_count": null,
   "id": "eb729f74",
   "metadata": {},
   "outputs": [],
   "source": []
  },
  {
   "cell_type": "code",
   "execution_count": null,
   "id": "5a222506",
   "metadata": {},
   "outputs": [],
   "source": []
  },
  {
   "cell_type": "code",
   "execution_count": null,
   "id": "3f8280d7",
   "metadata": {},
   "outputs": [],
   "source": []
  },
  {
   "cell_type": "code",
   "execution_count": null,
   "id": "6e194a55",
   "metadata": {},
   "outputs": [],
   "source": []
  },
  {
   "cell_type": "code",
   "execution_count": null,
   "id": "08c4bb38",
   "metadata": {},
   "outputs": [],
   "source": []
  },
  {
   "cell_type": "code",
   "execution_count": null,
   "id": "e66aed11",
   "metadata": {},
   "outputs": [],
   "source": []
  },
  {
   "cell_type": "code",
   "execution_count": 75,
   "id": "cff04839-3962-49c3-999f-0197c6d43d1a",
   "metadata": {
    "id": "00b6f894",
    "tags": []
   },
   "outputs": [],
   "source": [
    "\n",
    "\n",
    "# This function does the coefficient fusing according to the fusion method\n",
    "def fuseCoeff(cooef1, cooef2, method):\n",
    "\n",
    "    if (method == 'mean'):\n",
    "        cooef = (cooef1 + cooef2 ) / 3\n",
    "    # elif (method == 'min'):\n",
    "    #     cooef = np.minimum(cooef1,cooef2,cooef3)\n",
    "    # elif (method == 'max'):\n",
    "    #     cooef = np.maximum(cooef1,cooef2,cooef3)\n",
    "    # else:\n",
    "    #     cooef = []\n",
    "\n",
    "    return cooef\n",
    "\n",
    "\n",
    "def FUSION(I1,I2):\n",
    "\n",
    "    # Params\n",
    "    FUSION_METHOD = 'mean' # Can be 'min' || 'max || anything you choose according theory\n",
    "\n",
    "    # We need to have both images the same size\n",
    "    # I2 = cv2.resize(I2,I1.shape) # I do this just because i used two random images\n",
    "\n",
    "    ## Fusion algo\n",
    "\n",
    "    # First: Do wavelet transform on each image\n",
    "    wavelet = 'db1'\n",
    "    cooef1 = pywt.wavedec2(I1[:,:], wavelet)\n",
    "    cooef2 = pywt.wavedec2(I2[:,:], wavelet)\n",
    "    # cooef3 = pywt.wavedec2(I3[:,:], wavelet)\n",
    "\n",
    "    # Second: for each level in both image do the fusion according to the desire option\n",
    "    fusedCooef = []\n",
    "    for i in range(len(cooef1)-1):\n",
    "\n",
    "        # The first values in each decomposition is the apprximation values of the top level\n",
    "        if(i == 0):\n",
    "\n",
    "            fusedCooef.append(fuseCoeff(cooef1[0],cooef2[0],FUSION_METHOD))\n",
    "\n",
    "        else:\n",
    "\n",
    "            # For the rest of the levels we have tupels with 2 coeeficents\n",
    "            c1 = fuseCoeff(cooef1[i][0], cooef2[i][0],  FUSION_METHOD)\n",
    "            c2 = fuseCoeff(cooef1[i][1], cooef2[i][1],  FUSION_METHOD)\n",
    "            c3 = fuseCoeff(cooef1[i][2], cooef2[i][2], FUSION_METHOD)\n",
    "\n",
    "            # c3 = fuseCoeff(cooef1[i][2], cooef2[i][2], cooef3[i][2], FUSION_METHOD)\n",
    "\n",
    "            fusedCooef.append((c1,c2,c3))\n",
    "\n",
    "    # Third: After we fused the cooefficent we nned to transfor back to get the image\n",
    "    fusedImage = pywt.waverec2(fusedCooef, wavelet)\n",
    "\n",
    "    # Forth: normmalize values to be in uint8\n",
    "    fusedImage = np.multiply(np.divide(fusedImage - np.min(fusedImage),(np.max(fusedImage) - np.min(fusedImage))),255)\n",
    "    fusedImage = fusedImage.astype(np.uint8)\n",
    "\n",
    "    return fusedImage\n",
    "    \n",
    "\n"
   ]
  },
  {
   "cell_type": "code",
   "execution_count": null,
   "id": "075ae1a8-a2e5-40ee-b3a2-702f43618202",
   "metadata": {
    "id": "79ceeb56"
   },
   "outputs": [],
   "source": []
  },
  {
   "cell_type": "code",
   "execution_count": 85,
   "id": "91ff51ee-9c90-4fa6-889d-5373e9580f60",
   "metadata": {
    "id": "15d50999",
    "tags": []
   },
   "outputs": [],
   "source": [
    "def toimage(cleaned, mask):\n",
    "    r,c = cleaned.shape\n",
    "    cleaned = cleaned.astype('uint8')\n",
    "    for i in range(1,r):\n",
    "        for j in range(1,c):\n",
    "            if cleaned[i][j]==1:\n",
    "                cleaned[i][j]=255\n",
    "                \n",
    "    kernel = np.ones((1,1),np.uint8)\n",
    "    # cleaned = cv2.erode(cleaned,kernel,iterations = 1)\n",
    "    kernel = np.ones((1,1),np.uint8)\n",
    "    cleaned = cv2.morphologyEx(cleaned, cv2.MORPH_DILATE, kernel)\n",
    "    cleaned = cv2.bitwise_and(cleaned,cleaned,mask = mask)\n",
    "    \n",
    "    return cleaned\n",
    "\n",
    "def pre_process(img, NORMAL= True):\n",
    "    \n",
    "    # clahe = cv2.createCLAHE(clipLimit=1, tileGridSize=(3,3))\n",
    "    # im1 = clahe.apply(im1)\n",
    "\n",
    "    dst = cv2.adaptiveThreshold(img, 255, cv2.ADAPTIVE_THRESH_MEAN_C, cv2.THRESH_BINARY, 9, 2)\n",
    "    dst=cv2.threshold(dst, 100, 255, cv2.THRESH_OTSU )[1]\n",
    "    dst = cv2.medianBlur(dst,1)\n",
    "\n",
    "    kernel = cv2.getStructuringElement(cv2.MORPH_ELLIPSE,(1,1))\n",
    "    dst = cv2.morphologyEx(dst, cv2.MORPH_CLOSE, kernel)\n",
    "\n",
    "\n",
    "    dst = cv2.morphologyEx(dst, cv2.MORPH_CLOSE, kernel)\n",
    "    dst = 255 - dst\n",
    "\n",
    "    dst2 = cv2.morphologyEx(dst, cv2.MORPH_DILATE, kernel)\n",
    "\n",
    "\n",
    "    dst2 = dst > 0\n",
    "\n",
    "    if NORMAL:\n",
    "\n",
    "        cleaned = morphology.remove_small_objects(dst2, min_size=120) #For Normal = 120\n",
    "        cleaned = morphology.remove_small_holes(cleaned, 2)\n",
    "    \n",
    "    else:\n",
    "        \n",
    "        cleaned = morphology.remove_small_objects(dst2, min_size=40) #For Abnormal = 40\n",
    "        cleaned = morphology.remove_small_holes(cleaned, 2)\n",
    "        \n",
    "    return cleaned\n",
    "    \n",
    "    \n",
    "\n"
   ]
  },
  {
   "cell_type": "code",
   "execution_count": null,
   "id": "2e876683-410a-49a7-a761-11ae75cce33c",
   "metadata": {
    "id": "b4001b89-f5de-4a46-aba7-e3bd79c62c9d"
   },
   "outputs": [],
   "source": []
  },
  {
   "cell_type": "code",
   "execution_count": 86,
   "id": "ada49dac-a763-466e-9f48-dd1a271c6a37",
   "metadata": {
    "id": "1cf274de-d350-4920-b772-f0072affe8fa",
    "tags": []
   },
   "outputs": [],
   "source": [
    "def PROCESSING(path):\n",
    "    width = 512\n",
    "    height = 512\n",
    "    dim = (width, height)\n",
    "\n",
    "    img = cv2.imread(path)\n",
    "    \n",
    "    resized_image = cv2.resize(img, (width, height))\n",
    "    \n",
    "    image = resized_image.astype(np.float32) / 255.0\n",
    "\n",
    "    # Convert the image to grayscale\n",
    "    gray = cv2.cvtColor(image, cv2.COLOR_BGR2GRAY)\n",
    "\n",
    "    kernel = np.array([[0, -1, 0],\n",
    "                       [-1, 4,-1],\n",
    "                       [0, -1, 0]])\n",
    "    \n",
    "    laplacian = cv2.filter2D(src=gray, ddepth=-1, kernel=kernel)\n",
    "\n",
    "    # Convert the Laplacian result back to 3 channels\n",
    "    laplacian_3ch = cv2.cvtColor(laplacian, cv2.COLOR_GRAY2BGR)\n",
    "\n",
    "    # Add the Laplacian result to the original image to obtain the sharpened image\n",
    "    sharpened = cv2.add(image, laplacian_3ch)\n",
    "\n",
    "    # Convert the image back to uint8 format\n",
    "    sharpened = (sharpened * 255).clip(0, 255).astype(np.uint8)\n",
    "    \n",
    "    \n",
    "    im1 = img[:,:,1]\n",
    "    im1 = cv2.resize(im1,dim, interpolation = cv2.INTER_AREA).reshape(width,height)\n",
    "\n",
    "    clahe = cv2.createCLAHE(clipLimit=2, tileGridSize=(8,8))\n",
    "    enh = clahe.apply(im1)\n",
    "#     enh = cv2.cvtColor(enh, cv2.COLOR_GRAY2BGR)\n",
    "\n",
    "\n",
    "    ret,bin = cv2.threshold(im1,18,255,cv2.THRESH_BINARY)\n",
    "    kernel = np.ones((3,3),np.uint8)\n",
    "    mask = cv2.erode(bin,kernel,iterations = 1)\n",
    "\n",
    "    img = pre_process(im1) \n",
    "    img = toimage(img,mask)\n",
    "#     img = cv2.cvtColor(img, cv2.COLOR_GRAY2BGR)\n",
    "\n",
    "    \n",
    "    # batch = np.stack([img, enh], axis=2)\n",
    "    \n",
    "#     img = 255 - img\n",
    "\n",
    "#     fusedimg = FUSION(img,enh)\n",
    "    \n",
    "    return img#batch #img,enh#fusedimg\n",
    "\n",
    "\n"
   ]
  },
  {
   "cell_type": "code",
   "execution_count": null,
   "id": "efc1ff87",
   "metadata": {},
   "outputs": [],
   "source": []
  },
  {
   "cell_type": "code",
   "execution_count": 99,
   "id": "3ba5f2f0-e3c1-44a2-b5af-084964b83e5f",
   "metadata": {},
   "outputs": [],
   "source": [
    "data_dir = pathlib.Path('T1/IM').with_suffix('')\n",
    "\n",
    "NR = data_dir.glob('Nr- (4).png')\n",
    "Path = r'C:\\Users\\RAPTOR\\Desktop\\Thesis\\CODE\\IMG\\NR_1.jpeg'"
   ]
  },
  {
   "cell_type": "code",
   "execution_count": 100,
   "id": "e2f01f86-9507-48b2-8e04-905f9ed7c8a1",
   "metadata": {},
   "outputs": [
    {
     "name": "stdout",
     "output_type": "stream",
     "text": [
      "T1\\IM\\Nr- (4).png\n"
     ]
    }
   ],
   "source": [
    "for i in NR:   \n",
    "    print(i)\n",
    "    im = PROCESSING(str(i))\n",
    "    cv2.imwrite(str(Path),im)  "
   ]
  },
  {
   "cell_type": "code",
   "execution_count": null,
   "id": "6f45e635",
   "metadata": {},
   "outputs": [],
   "source": []
  },
  {
   "cell_type": "code",
   "execution_count": null,
   "id": "341fb31d",
   "metadata": {},
   "outputs": [],
   "source": []
  }
 ],
 "metadata": {
  "kernelspec": {
   "display_name": "Python 3 (ipykernel)",
   "language": "python",
   "name": "python3"
  },
  "language_info": {
   "codemirror_mode": {
    "name": "ipython",
    "version": 3
   },
   "file_extension": ".py",
   "mimetype": "text/x-python",
   "name": "python",
   "nbconvert_exporter": "python",
   "pygments_lexer": "ipython3",
   "version": "3.9.7"
  }
 },
 "nbformat": 4,
 "nbformat_minor": 5
}
