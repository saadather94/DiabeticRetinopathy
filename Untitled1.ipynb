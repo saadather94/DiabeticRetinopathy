{
 "cells": [
  {
   "cell_type": "code",
   "execution_count": 7,
   "id": "5cf988d0-9728-44b6-b437-5d569eac3f34",
   "metadata": {},
   "outputs": [],
   "source": [
    "import pandas as pd\n",
    "import shutil"
   ]
  },
  {
   "cell_type": "code",
   "execution_count": null,
   "id": "8a999c60-117a-41a3-acba-6ea76d4c2f36",
   "metadata": {},
   "outputs": [],
   "source": []
  },
  {
   "cell_type": "code",
   "execution_count": null,
   "id": "b9613fc1-2744-47a3-a0a4-0d7888502a07",
   "metadata": {},
   "outputs": [],
   "source": []
  },
  {
   "cell_type": "code",
   "execution_count": 23,
   "id": "2f9b6238-455f-4936-8338-4a22dfc4aca6",
   "metadata": {},
   "outputs": [],
   "source": [
    "df = pd.read_csv('APTOS/train.csv')\n"
   ]
  },
  {
   "cell_type": "code",
   "execution_count": 24,
   "id": "85755cee-267a-49ed-a984-d0a1696c4392",
   "metadata": {},
   "outputs": [
    {
     "data": {
      "text/html": [
       "<div>\n",
       "<style scoped>\n",
       "    .dataframe tbody tr th:only-of-type {\n",
       "        vertical-align: middle;\n",
       "    }\n",
       "\n",
       "    .dataframe tbody tr th {\n",
       "        vertical-align: top;\n",
       "    }\n",
       "\n",
       "    .dataframe thead th {\n",
       "        text-align: right;\n",
       "    }\n",
       "</style>\n",
       "<table border=\"1\" class=\"dataframe\">\n",
       "  <thead>\n",
       "    <tr style=\"text-align: right;\">\n",
       "      <th></th>\n",
       "      <th>id_code</th>\n",
       "      <th>diagnosis</th>\n",
       "    </tr>\n",
       "  </thead>\n",
       "  <tbody>\n",
       "    <tr>\n",
       "      <th>0</th>\n",
       "      <td>000c1434d8d7</td>\n",
       "      <td>2</td>\n",
       "    </tr>\n",
       "    <tr>\n",
       "      <th>1</th>\n",
       "      <td>001639a390f0</td>\n",
       "      <td>4</td>\n",
       "    </tr>\n",
       "    <tr>\n",
       "      <th>2</th>\n",
       "      <td>0024cdab0c1e</td>\n",
       "      <td>1</td>\n",
       "    </tr>\n",
       "    <tr>\n",
       "      <th>3</th>\n",
       "      <td>002c21358ce6</td>\n",
       "      <td>0</td>\n",
       "    </tr>\n",
       "    <tr>\n",
       "      <th>4</th>\n",
       "      <td>005b95c28852</td>\n",
       "      <td>0</td>\n",
       "    </tr>\n",
       "    <tr>\n",
       "      <th>...</th>\n",
       "      <td>...</td>\n",
       "      <td>...</td>\n",
       "    </tr>\n",
       "    <tr>\n",
       "      <th>3657</th>\n",
       "      <td>ffa47f6a7bf4</td>\n",
       "      <td>2</td>\n",
       "    </tr>\n",
       "    <tr>\n",
       "      <th>3658</th>\n",
       "      <td>ffc04fed30e6</td>\n",
       "      <td>0</td>\n",
       "    </tr>\n",
       "    <tr>\n",
       "      <th>3659</th>\n",
       "      <td>ffcf7b45f213</td>\n",
       "      <td>2</td>\n",
       "    </tr>\n",
       "    <tr>\n",
       "      <th>3660</th>\n",
       "      <td>ffd97f8cd5aa</td>\n",
       "      <td>0</td>\n",
       "    </tr>\n",
       "    <tr>\n",
       "      <th>3661</th>\n",
       "      <td>ffec9a18a3ce</td>\n",
       "      <td>2</td>\n",
       "    </tr>\n",
       "  </tbody>\n",
       "</table>\n",
       "<p>3662 rows × 2 columns</p>\n",
       "</div>"
      ],
      "text/plain": [
       "           id_code  diagnosis\n",
       "0     000c1434d8d7          2\n",
       "1     001639a390f0          4\n",
       "2     0024cdab0c1e          1\n",
       "3     002c21358ce6          0\n",
       "4     005b95c28852          0\n",
       "...            ...        ...\n",
       "3657  ffa47f6a7bf4          2\n",
       "3658  ffc04fed30e6          0\n",
       "3659  ffcf7b45f213          2\n",
       "3660  ffd97f8cd5aa          0\n",
       "3661  ffec9a18a3ce          2\n",
       "\n",
       "[3662 rows x 2 columns]"
      ]
     },
     "execution_count": 24,
     "metadata": {},
     "output_type": "execute_result"
    }
   ],
   "source": [
    "df"
   ]
  },
  {
   "cell_type": "code",
   "execution_count": 18,
   "id": "5be279dc-592a-4df4-9efa-5f7c84caad6e",
   "metadata": {},
   "outputs": [],
   "source": [
    "src_path = r\"C:\\Users\\RAPTOR\\Desktop\\Thesis\\CODE\\APTOS\\train_images\"\n",
    "dst_0 = r\"C:\\Users\\RAPTOR\\Desktop\\Thesis\\CODE\\APTOS\\APTOS2019\\NoDR\"\n",
    "dst_1 = r\"C:\\Users\\RAPTOR\\Desktop\\Thesis\\CODE\\APTOS\\APTOS2019\\MildDR\"\n",
    "dst_2 = r\"C:\\Users\\RAPTOR\\Desktop\\Thesis\\CODE\\APTOS\\APTOS2019\\ModDR\"\n",
    "dst_3 = r\"C:\\Users\\RAPTOR\\Desktop\\Thesis\\CODE\\APTOS\\APTOS2019\\SevDR\"\n",
    "dst_4 = r\"C:\\Users\\RAPTOR\\Desktop\\Thesis\\CODE\\APTOS\\APTOS2019\\PDR\"\n",
    "\n",
    "\n",
    "for row in df.itertuples(index=True, name='Pandas'):\n",
    " \n",
    "    new_scr = src_path+'\\\\'+str(row.id_code)+'.png'\n",
    "\n",
    "    if (row.diagnosis == 0):\n",
    "        new_dst_0 = dst_0+'\\\\'+str(row.id_code)+'.png'\n",
    "        shutil.move(new_scr, new_dst_0)\n",
    "        \n",
    "    if (row.diagnosis == 1):\n",
    "        new_dst_1 = dst_1+'\\\\'+str(row.id_code)+'.png'\n",
    "        shutil.move(new_scr, new_dst_1)\n",
    "        \n",
    "    if (row.diagnosis == 2):\n",
    "        new_dst_2 = dst_2+'\\\\'+str(row.id_code)+'.png'\n",
    "        shutil.move(new_scr, new_dst_2)\n",
    "\n",
    "    if (row.diagnosis == 3):\n",
    "        new_dst_3 = dst_3+'\\\\'+str(row.id_code)+'.png'\n",
    "        shutil.move(new_scr, new_dst_3)\n",
    "\n",
    "    if (row.diagnosis == 4):\n",
    "        new_dst_4 = dst_4+'\\\\'+str(row.id_code)+'.png'\n",
    "        shutil.move(new_scr, new_dst_4)\n",
    "        \n"
   ]
  },
  {
   "cell_type": "code",
   "execution_count": null,
   "id": "9a0f671f-c46b-4657-9621-112843cb9508",
   "metadata": {},
   "outputs": [],
   "source": []
  },
  {
   "cell_type": "code",
   "execution_count": null,
   "id": "272126d7-4e7e-4e23-a87e-13d93d18b86b",
   "metadata": {},
   "outputs": [],
   "source": []
  },
  {
   "cell_type": "code",
   "execution_count": null,
   "id": "51cb714b-a11a-4971-a395-1616a1234be9",
   "metadata": {},
   "outputs": [],
   "source": []
  },
  {
   "cell_type": "code",
   "execution_count": null,
   "id": "3572718d-e577-4a47-8261-7db94b6f84f0",
   "metadata": {},
   "outputs": [],
   "source": []
  },
  {
   "cell_type": "code",
   "execution_count": null,
   "id": "c95da882-1a44-4807-8423-b457f2d63076",
   "metadata": {},
   "outputs": [],
   "source": []
  },
  {
   "cell_type": "code",
   "execution_count": null,
   "id": "652838c3-a387-4a1c-990e-98972fda7208",
   "metadata": {},
   "outputs": [],
   "source": []
  },
  {
   "cell_type": "code",
   "execution_count": null,
   "id": "dd744f6a-9f35-44fe-be48-88a8c7fa8bde",
   "metadata": {},
   "outputs": [],
   "source": []
  },
  {
   "cell_type": "code",
   "execution_count": null,
   "id": "b3b201cb-011c-41a7-b366-a7ff58d32fe2",
   "metadata": {},
   "outputs": [],
   "source": [
    "\n"
   ]
  },
  {
   "cell_type": "code",
   "execution_count": null,
   "id": "748eab0c-8a37-48a7-bea0-380504b4b389",
   "metadata": {},
   "outputs": [],
   "source": []
  }
 ],
 "metadata": {
  "kernelspec": {
   "display_name": "Python 3 (ipykernel)",
   "language": "python",
   "name": "python3"
  },
  "language_info": {
   "codemirror_mode": {
    "name": "ipython",
    "version": 3
   },
   "file_extension": ".py",
   "mimetype": "text/x-python",
   "name": "python",
   "nbconvert_exporter": "python",
   "pygments_lexer": "ipython3",
   "version": "3.9.7"
  }
 },
 "nbformat": 4,
 "nbformat_minor": 5
}
