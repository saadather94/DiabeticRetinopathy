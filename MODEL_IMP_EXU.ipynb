{
  "cells": [
    {
      "cell_type": "code",
      "execution_count": null,
      "metadata": {
        "id": "b30a7247"
      },
      "outputs": [],
      "source": [
        "from matplotlib import pyplot as plt\n",
        "import cv2, numpy as np, pathlib, os, PIL, PIL.Image, glob\n",
        "import numpy as np\n",
        "from skimage import data\n",
        "from skimage import io, morphology\n",
        "import tensorflow as tf\n",
        "import time\n",
        "from PIL import Image\n",
        "import math\n",
        "import timeit\n",
        "import pywt\n",
        "from sklearn.metrics import accuracy_score as acc, auc, f1_score\n",
        "import warnings\n",
        "from sklearn import metrics\n",
        "\n",
        "width = 512\n",
        "height = 512\n",
        "dim = (width, height)\n",
        "sharpen = np.array([\n",
        "    [0, -1, 0],\n",
        "    [-1, 5, -1],\n",
        "    [0, -1, 0]\n",
        "])\n"
      ],
      "id": "b30a7247"
    },
    {
      "cell_type": "code",
      "execution_count": null,
      "metadata": {
        "colab": {
          "base_uri": "https://localhost:8080/"
        },
        "id": "6hQiBPltmmFM",
        "outputId": "afcd5405-4e31-4d09-919c-946c3b0b7c04"
      },
      "outputs": [
        {
          "name": "stdout",
          "output_type": "stream",
          "text": [
            "Mounted at /content/drive\n"
          ]
        }
      ],
      "source": [
        "from google.colab import drive\n",
        "drive.mount('/content/drive')"
      ],
      "id": "6hQiBPltmmFM"
    },
    {
      "cell_type": "code",
      "execution_count": null,
      "metadata": {
        "colab": {
          "base_uri": "https://localhost:8080/"
        },
        "id": "11342062",
        "outputId": "2bc0340d-63c3-4e98-8f93-17577467183c"
      },
      "outputs": [
        {
          "name": "stdout",
          "output_type": "stream",
          "text": [
            ": /physical_device:CPU:0\n",
            ": /physical_device:GPU:0\n"
          ]
        }
      ],
      "source": [
        "for device in tf.config.list_physical_devices():\n",
        "    print(\": {}\".format(device.name))\n"
      ],
      "id": "11342062"
    },
    {
      "cell_type": "code",
      "execution_count": null,
      "metadata": {
        "id": "d51e7a02"
      },
      "outputs": [],
      "source": [],
      "id": "d51e7a02"
    },
    {
      "cell_type": "code",
      "execution_count": null,
      "metadata": {
        "id": "18b7cdee"
      },
      "outputs": [],
      "source": [],
      "id": "18b7cdee"
    },
    {
      "cell_type": "code",
      "execution_count": null,
      "metadata": {
        "colab": {
          "base_uri": "https://localhost:8080/"
        },
        "id": "8099f82d",
        "outputId": "7bf23184-9b5b-464f-9d0b-cbbf9ce71ba2"
      },
      "outputs": [
        {
          "name": "stdout",
          "output_type": "stream",
          "text": [
            "DEVICES AVAILABLE: 1\n"
          ]
        }
      ],
      "source": [
        "strategy = tf.distribute.MirroredStrategy()\n",
        "print('DEVICES AVAILABLE: {}'.format(strategy.num_replicas_in_sync))"
      ],
      "id": "8099f82d"
    },
    {
      "cell_type": "code",
      "execution_count": null,
      "metadata": {
        "id": "33d0c3ba"
      },
      "outputs": [],
      "source": [],
      "id": "33d0c3ba"
    },
    {
      "cell_type": "code",
      "execution_count": null,
      "metadata": {
        "id": "8700372b"
      },
      "outputs": [],
      "source": [
        "def encode(labels):\n",
        "\n",
        "    from sklearn.preprocessing import OneHotEncoder\n",
        "    onehot_encoder = OneHotEncoder(sparse=False)\n",
        "    integer_encoded = labels.reshape(len(labels), 1)           #before labels_batch\n",
        "    label_encoded = onehot_encoder.fit_transform(integer_encoded)\n",
        "    return label_encoded\n"
      ],
      "id": "8700372b"
    },
    {
      "cell_type": "code",
      "execution_count": null,
      "metadata": {
        "id": "63656357"
      },
      "outputs": [],
      "source": [],
      "id": "63656357"
    },
    {
      "cell_type": "code",
      "execution_count": null,
      "metadata": {
        "id": "1b338bc8"
      },
      "outputs": [],
      "source": [],
      "id": "1b338bc8"
    },
    {
      "cell_type": "code",
      "execution_count": null,
      "metadata": {
        "id": "f8745790"
      },
      "outputs": [],
      "source": [
        "import tensorflow as tf\n",
        "\n",
        "# with strategy.scope():\n",
        "\n",
        "def get_model(width, height):\n",
        "\n",
        "    inputs = tf.keras.Input((width, height, 1))\n",
        "    conv1 = tf.keras.layers.Conv2D(filters=16, kernel_size=5, strides=1)(inputs)\n",
        "    BN1 = tf.keras.layers.BatchNormalization()(conv1)\n",
        "    relu1 = tf.keras.layers.Activation(activation='relu')(BN1)\n",
        "\n",
        "    conv2 = tf.keras.layers.Conv2D(filters=32, kernel_size=3, strides=2,padding='same')(relu1)\n",
        "    BN2 = tf.keras.layers.BatchNormalization()(conv2)\n",
        "    relu2 = tf.keras.layers.Activation(activation='relu')(BN2)\n",
        "\n",
        "    conv3 = tf.keras.layers.Conv2D(filters=32, kernel_size=3, strides=1,padding='same')(relu2)\n",
        "    BN3 = tf.keras.layers.BatchNormalization()(conv3)\n",
        "    relu3 = tf.keras.layers.Activation(activation='relu')(BN3)\n",
        "\n",
        "    skipconv = tf.keras.layers.Conv2D(filters=32, kernel_size=1, strides=2)(relu1)\n",
        "\n",
        "    Add = tf.keras.layers.Add()([skipconv,relu3])\n",
        "    AvgPool = tf.keras.layers.AveragePooling2D(pool_size=(2,2), strides=2)(Add)\n",
        "    FC = tf.keras.layers.Flatten()(AvgPool)\n",
        "\n",
        "    output = tf.keras.layers.Dense(2,activation='softmax')(FC)\n",
        "\n",
        "\n",
        "\n",
        "    model = tf.keras.Model(inputs, output,name='BASE_MODEL')\n",
        "\n",
        "    return model\n",
        "\n",
        "\n",
        "\n"
      ],
      "id": "f8745790"
    },
    {
      "cell_type": "code",
      "execution_count": null,
      "metadata": {
        "id": "00b6f894"
      },
      "outputs": [],
      "source": [
        "\n",
        "\n",
        "# This function does the coefficient fusing according to the fusion method\n",
        "def fuseCoeff(cooef1, cooef2, method):\n",
        "\n",
        "    if (method == 'mean'):\n",
        "        cooef = (cooef1 + cooef2 ) / 3\n",
        "    # elif (method == 'min'):\n",
        "    #     cooef = np.minimum(cooef1,cooef2,cooef3)\n",
        "    # elif (method == 'max'):\n",
        "    #     cooef = np.maximum(cooef1,cooef2,cooef3)\n",
        "    # else:\n",
        "    #     cooef = []\n",
        "\n",
        "    return cooef\n",
        "\n",
        "\n",
        "def FUSION(I1,I2):\n",
        "\n",
        "    # Params\n",
        "    FUSION_METHOD = 'mean' # Can be 'min' || 'max || anything you choose according theory\n",
        "\n",
        "    # We need to have both images the same size\n",
        "    # I2 = cv2.resize(I2,I1.shape) # I do this just because i used two random images\n",
        "\n",
        "    ## Fusion algo\n",
        "\n",
        "    # First: Do wavelet transform on each image\n",
        "    wavelet = 'db1'\n",
        "    cooef1 = pywt.wavedec2(I1[:,:], wavelet)\n",
        "    cooef2 = pywt.wavedec2(I2[:,:], wavelet)\n",
        "    # cooef3 = pywt.wavedec2(I3[:,:], wavelet)\n",
        "\n",
        "    # Second: for each level in both image do the fusion according to the desire option\n",
        "    fusedCooef = []\n",
        "    for i in range(len(cooef1)-1):\n",
        "\n",
        "        # The first values in each decomposition is the apprximation values of the top level\n",
        "        if(i == 0):\n",
        "\n",
        "            fusedCooef.append(fuseCoeff(cooef1[0],cooef2[0],FUSION_METHOD))\n",
        "\n",
        "        else:\n",
        "\n",
        "            # For the rest of the levels we have tupels with 2 coeeficents\n",
        "            c1 = fuseCoeff(cooef1[i][0], cooef2[i][0],  FUSION_METHOD)\n",
        "            c2 = fuseCoeff(cooef1[i][1], cooef2[i][1],  FUSION_METHOD)\n",
        "            c3 = fuseCoeff(cooef1[i][2], cooef2[i][2], FUSION_METHOD)\n",
        "\n",
        "            # c3 = fuseCoeff(cooef1[i][2], cooef2[i][2], cooef3[i][2], FUSION_METHOD)\n",
        "\n",
        "            fusedCooef.append((c1,c2,c3))\n",
        "\n",
        "    # Third: After we fused the cooefficent we nned to transfor back to get the image\n",
        "    fusedImage = pywt.waverec2(fusedCooef, wavelet)\n",
        "\n",
        "    # Forth: normmalize values to be in uint8\n",
        "    fusedImage = np.multiply(np.divide(fusedImage - np.min(fusedImage),(np.max(fusedImage) - np.min(fusedImage))),255)\n",
        "    fusedImage = fusedImage.astype(np.uint8)\n",
        "\n",
        "    return fusedImage\n",
        "\n",
        "\n"
      ],
      "id": "00b6f894"
    },
    {
      "cell_type": "code",
      "execution_count": null,
      "metadata": {
        "id": "79ceeb56"
      },
      "outputs": [],
      "source": [],
      "id": "79ceeb56"
    },
    {
      "cell_type": "code",
      "execution_count": null,
      "metadata": {
        "id": "15d50999"
      },
      "outputs": [],
      "source": [
        "def toimage(cleaned, mask):\n",
        "    r,c = cleaned.shape\n",
        "    cleaned = cleaned.astype('uint8')\n",
        "    for i in range(1,r):\n",
        "        for j in range(1,c):\n",
        "            if cleaned[i][j]==1:\n",
        "                cleaned[i][j]=255\n",
        "\n",
        "    kernel = np.ones((1,1),np.uint8)\n",
        "    cleaned = cv2.erode(cleaned,kernel,iterations = 1)\n",
        "    kernel = np.ones((1,1),np.uint8)\n",
        "    cleaned = cv2.morphologyEx(cleaned, cv2.MORPH_DILATE, kernel)\n",
        "    cleaned = cv2.bitwise_and(cleaned,cleaned,mask = mask)\n",
        "\n",
        "    return cleaned\n",
        "\n",
        "def pre_process(img, NORMAL= True):\n",
        "\n",
        "    # clahe = cv2.createCLAHE(clipLimit=1, tileGridSize=(3,3))\n",
        "    # im1 = clahe.apply(im1)\n",
        "\n",
        "    dst = cv2.adaptiveThreshold(img, 255, cv2.ADAPTIVE_THRESH_MEAN_C, cv2.THRESH_BINARY, 9, 2)\n",
        "    dst=cv2.threshold(dst, 100, 255, cv2.THRESH_OTSU )[1]\n",
        "    dst = cv2.medianBlur(dst,1)\n",
        "\n",
        "    kernel = cv2.getStructuringElement(cv2.MORPH_ELLIPSE,(1,1))\n",
        "    dst = cv2.morphologyEx(dst, cv2.MORPH_CLOSE, kernel)\n",
        "\n",
        "\n",
        "    dst = cv2.morphologyEx(dst, cv2.MORPH_CLOSE, kernel)\n",
        "    dst = 255 - dst\n",
        "\n",
        "    dst2 = cv2.morphologyEx(dst, cv2.MORPH_DILATE, kernel)\n",
        "\n",
        "\n",
        "    dst2 = dst > 0\n",
        "\n",
        "    if NORMAL:\n",
        "\n",
        "        cleaned = morphology.remove_small_objects(dst2, min_size=120) #For Normal = 120\n",
        "        cleaned = morphology.remove_small_holes(cleaned, 2)\n",
        "\n",
        "    else:\n",
        "\n",
        "        cleaned = morphology.remove_small_objects(dst2, min_size=40) #For Abnormal = 40\n",
        "        cleaned = morphology.remove_small_holes(cleaned, 2)\n",
        "\n",
        "    return cleaned\n",
        "\n",
        "\n",
        "\n"
      ],
      "id": "15d50999"
    },
    {
      "cell_type": "code",
      "execution_count": null,
      "metadata": {
        "id": "b4001b89-f5de-4a46-aba7-e3bd79c62c9d"
      },
      "outputs": [],
      "source": [],
      "id": "b4001b89-f5de-4a46-aba7-e3bd79c62c9d"
    },
    {
      "cell_type": "code",
      "execution_count": null,
      "metadata": {
        "id": "1cf274de-d350-4920-b772-f0072affe8fa"
      },
      "outputs": [],
      "source": [
        "def PROCESSING(path):\n",
        "\n",
        "    img = cv2.imread(path)\n",
        "    im1 = img[:,:,1]\n",
        "    im1 = cv2.resize(im1,dim, interpolation = cv2.INTER_AREA).reshape(width,height)\n",
        "\n",
        "    clahe = cv2.createCLAHE(clipLimit=2, tileGridSize=(8,8))\n",
        "    enh = clahe.apply(im1)\n",
        "\n",
        "    ret,bin = cv2.threshold(im1,18,255,cv2.THRESH_BINARY)\n",
        "    kernel = np.ones((3,3),np.uint8)\n",
        "    mask = cv2.erode(bin,kernel,iterations = 1)\n",
        "\n",
        "    img = pre_process(im1)\n",
        "    img = toimage(img,mask)\n",
        "\n",
        "    # fusedimg = FUSION(img,enh)\n",
        "\n",
        "\n",
        "    alpha = 0.9\n",
        "    fusedimg = alpha * enh + img\n",
        "\n",
        "    return fusedimg\n",
        "\n",
        "\n"
      ],
      "id": "1cf274de-d350-4920-b772-f0072affe8fa"
    },
    {
      "cell_type": "code",
      "execution_count": null,
      "metadata": {
        "id": "cf18180f-f862-4638-8d84-528fc74dbcde"
      },
      "outputs": [],
      "source": [
        "\n",
        "path = \"/content/drive/MyDrive/DR_DATASET/ABNOR/Ab (15).png\"\n",
        "\n",
        "a = PROCESSING(path)\n"
      ],
      "id": "cf18180f-f862-4638-8d84-528fc74dbcde"
    },
    {
      "cell_type": "code",
      "execution_count": null,
      "metadata": {
        "colab": {
          "base_uri": "https://localhost:8080/"
        },
        "id": "RaAEXIbUebAp",
        "outputId": "48003a00-5354-4626-ddcb-0c89a869d781"
      },
      "outputs": [
        {
          "data": {
            "text/plain": [
              "(512, 512)"
            ]
          },
          "execution_count": 28,
          "metadata": {},
          "output_type": "execute_result"
        }
      ],
      "source": [
        "a.shape"
      ],
      "id": "RaAEXIbUebAp"
    },
    {
      "cell_type": "code",
      "execution_count": null,
      "metadata": {
        "colab": {
          "base_uri": "https://localhost:8080/",
          "height": 529
        },
        "id": "Y3kpa9mOeJHP",
        "outputId": "90eaf2b9-e739-4883-8293-ba8a41aeb983"
      },
      "outputs": [
        {
          "data": {
            "image/png": "[encoded data removed]",
            "text/plain": [
              "<PIL.Image.Image image mode=L size=512x512>"
            ]
          },
          "metadata": {},
          "output_type": "display_data"
        }
      ],
      "source": [
        "from google.colab.patches import cv2_imshow\n",
        "# d = np.concatenate((a,b,c),axis=1)\n",
        "cv2_imshow(a)"
      ],
      "id": "Y3kpa9mOeJHP"
    },
    {
      "cell_type": "code",
      "execution_count": null,
      "metadata": {
        "id": "kE5GbuwWeJjR"
      },
      "outputs": [],
      "source": [],
      "id": "kE5GbuwWeJjR"
    },
    {
      "cell_type": "code",
      "execution_count": null,
      "metadata": {
        "id": "28e842b6-27c0-407d-99e8-77fe2573650a"
      },
      "outputs": [],
      "source": [
        "data_dir = pathlib.Path('/content/drive/MyDrive/IMG_EXU_SET').with_suffix('')\n",
        "data_dir2 = pathlib.Path('/content/drive/MyDrive/IMG_EXU_SET/AbNR').with_suffix('')\n",
        "\n",
        "\n",
        "NR = data_dir.glob('NR/*.*')\n",
        "ABNOR = data_dir.glob('ABNOR/*.*')\n",
        "\n",
        "EX = data_dir2.glob('EX/*.*')\n",
        "NO_EX =data_dir2.glob('NO_EX/*.*')\n",
        "\n",
        "\n",
        "data = []\n",
        "labels = []\n",
        "\n",
        "data_ex = []\n",
        "labels_ex = []\n",
        "\n",
        "\n",
        "\n",
        "for i in NR:\n",
        "\n",
        "    im1 = PROCESSING(str(i))\n",
        "    data.append(im1)\n",
        "    labels.append(0)\n",
        "\n",
        "for i in ABNOR:\n",
        "\n",
        "    im1 = PROCESSING(str(i))\n",
        "    data.append(im1)\n",
        "    labels.append(1)\n",
        "\n",
        "\n",
        "data = np.array(data)\n",
        "labels = np.array(labels)\n",
        "\n",
        "\n",
        "\n",
        "for i in NO_EX:\n",
        "\n",
        "    im1 = PROCESSING(str(i))\n",
        "    data_ex.append(im1)\n",
        "    labels_ex.append(0)\n",
        "\n",
        "\n",
        "for i in EX:\n",
        "\n",
        "    im1 = PROCESSING(str(i))\n",
        "    data_ex.append(im1)\n",
        "    labels_ex.append(1)\n",
        "\n",
        "\n",
        "data_ex = np.array(data_ex)\n",
        "labels_ex = np.array(labels_ex)\n",
        "\n",
        "\n"
      ],
      "id": "28e842b6-27c0-407d-99e8-77fe2573650a"
    },
    {
      "cell_type": "code",
      "execution_count": null,
      "metadata": {
        "id": "3a8d385a-5aca-4c89-9308-58a741b481e1"
      },
      "outputs": [],
      "source": [],
      "id": "3a8d385a-5aca-4c89-9308-58a741b481e1"
    },
    {
      "cell_type": "code",
      "execution_count": null,
      "metadata": {
        "colab": {
          "base_uri": "https://localhost:8080/"
        },
        "id": "1c0942b5-6a31-4409-a23c-e5dd4e335286",
        "outputId": "343bb052-92df-4fd8-829e-3c111288817b"
      },
      "outputs": [
        {
          "name": "stderr",
          "output_type": "stream",
          "text": [
            "/usr/local/lib/python3.10/dist-packages/sklearn/preprocessing/_encoders.py:868: FutureWarning: `sparse` was renamed to `sparse_output` in version 1.2 and will be removed in 1.4. `sparse_output` is ignored unless you leave `sparse` to its default value.\n",
            "  warnings.warn(\n",
            "/usr/local/lib/python3.10/dist-packages/sklearn/preprocessing/_encoders.py:868: FutureWarning: `sparse` was renamed to `sparse_output` in version 1.2 and will be removed in 1.4. `sparse_output` is ignored unless you leave `sparse` to its default value.\n",
            "  warnings.warn(\n"
          ]
        }
      ],
      "source": [
        "from sklearn.model_selection import train_test_split\n",
        "X_train, X_test, ytrain, ytest = train_test_split(data, encode(labels), test_size=0.15,\n",
        "                                                random_state=42)\n",
        "\n",
        "\n",
        "X_train_ex, X_test_ex, ytrain_ex, ytest_ex = train_test_split(data_ex, encode(labels_ex), test_size=0.15,\n",
        "                                                random_state=32)\n"
      ],
      "id": "1c0942b5-6a31-4409-a23c-e5dd4e335286"
    },
    {
      "cell_type": "code",
      "execution_count": null,
      "metadata": {
        "id": "71e51886-7895-42e1-bcfb-7bef62014828"
      },
      "outputs": [],
      "source": [],
      "id": "71e51886-7895-42e1-bcfb-7bef62014828"
    },
    {
      "cell_type": "code",
      "execution_count": null,
      "metadata": {
        "id": "7ef2822c-36f4-4ba7-a829-ef0cf8f2a64a"
      },
      "outputs": [],
      "source": [],
      "id": "7ef2822c-36f4-4ba7-a829-ef0cf8f2a64a"
    },
    {
      "cell_type": "code",
      "execution_count": null,
      "metadata": {
        "id": "28fb8db6"
      },
      "outputs": [],
      "source": [
        "data_dir = pathlib.Path('/content/drive/MyDrive/IMG_EXU_SET/').with_suffix('')\n",
        "\n",
        "NR = data_dir.glob('NR/*.*')\n",
        "EX = data_dir.glob('AbNR/EX*.*')\n",
        "NO_EX = data_dir.glob('AbNR/NO_EX*.*')\n",
        "\n",
        "data_ = []\n",
        "labels_ = []\n",
        "labels_ex_ = []\n",
        "\n",
        "n=1\n",
        "\n",
        "for i in NR:\n",
        "\n",
        "    im = PROCESSING(str(i))\n",
        "    data_.append(im)\n",
        "    labels_.append(0)\n",
        "    labels_ex_.append(0)\n",
        "\n",
        "\n",
        "for i in EX:\n",
        "\n",
        "    im = PROCESSING(str(i))\n",
        "    data_.append(im)\n",
        "    labels_.append(1)\n",
        "    labels_ex_.append(1)\n",
        "\n",
        "\n",
        "for i in NO_EX:\n",
        "\n",
        "    im = PROCESSING(str(i))\n",
        "    data_.append(im)\n",
        "    labels_.append(1)\n",
        "    labels_ex_.append(0)\n",
        "\n",
        "\n",
        "# data_ = np.array(data_)\n",
        "# labels_ = np.array(labels_)\n",
        "# labels_ex_ = np.array(labels_ex_)\n",
        "\n",
        "\n"
      ],
      "id": "28fb8db6"
    },
    {
      "cell_type": "code",
      "execution_count": null,
      "metadata": {
        "id": "7094ce46"
      },
      "outputs": [],
      "source": [],
      "id": "7094ce46"
    },
    {
      "cell_type": "code",
      "execution_count": null,
      "metadata": {
        "id": "375b73d1"
      },
      "outputs": [],
      "source": [
        "from sklearn.model_selection import train_test_split\n",
        "X_train, X_test, ytrain, ytest = train_test_split(data_, encode(labels_), test_size=0.15,\n",
        "                                                random_state=42)\n",
        "\n",
        "\n",
        "X_train_ex, X_test_ex, ytrain_ex, ytest_ex = train_test_split(data_, encode(labels_ex_), test_size=0.15,\n",
        "                                                random_state=32)\n"
      ],
      "id": "375b73d1"
    },
    {
      "cell_type": "code",
      "execution_count": null,
      "metadata": {
        "id": "ZqE06huRuayQ"
      },
      "outputs": [],
      "source": [],
      "id": "ZqE06huRuayQ"
    },
    {
      "cell_type": "code",
      "execution_count": null,
      "metadata": {
        "colab": {
          "base_uri": "https://localhost:8080/"
        },
        "id": "551d6ee2",
        "outputId": "6dbbe3aa-d9c3-4117-d1e5-74b8607642b1"
      },
      "outputs": [
        {
          "name": "stdout",
          "output_type": "stream",
          "text": [
            "Model: \"BASE_MODEL\"\n",
            "__________________________________________________________________________________________________\n",
            " Layer (type)                   Output Shape         Param #     Connected to                     \n",
            "==================================================================================================\n",
            " input_2 (InputLayer)           [(None, 512, 512, 1  0           []                               \n",
            "                                )]                                                                \n",
            "                                                                                                  \n",
            " conv2d_4 (Conv2D)              (None, 508, 508, 16  416         ['input_2[0][0]']                \n",
            "                                )                                                                 \n",
            "                                                                                                  \n",
            " batch_normalization_3 (BatchNo  (None, 508, 508, 16  64         ['conv2d_4[0][0]']               \n",
            " rmalization)                   )                                                                 \n",
            "                                                                                                  \n",
            " activation_3 (Activation)      (None, 508, 508, 16  0           ['batch_normalization_3[0][0]']  \n",
            "                                )                                                                 \n",
            "                                                                                                  \n",
            " conv2d_5 (Conv2D)              (None, 254, 254, 32  4640        ['activation_3[0][0]']           \n",
            "                                )                                                                 \n",
            "                                                                                                  \n",
            " batch_normalization_4 (BatchNo  (None, 254, 254, 32  128        ['conv2d_5[0][0]']               \n",
            " rmalization)                   )                                                                 \n",
            "                                                                                                  \n",
            " activation_4 (Activation)      (None, 254, 254, 32  0           ['batch_normalization_4[0][0]']  \n",
            "                                )                                                                 \n",
            "                                                                                                  \n",
            " conv2d_6 (Conv2D)              (None, 254, 254, 32  9248        ['activation_4[0][0]']           \n",
            "                                )                                                                 \n",
            "                                                                                                  \n",
            " batch_normalization_5 (BatchNo  (None, 254, 254, 32  128        ['conv2d_6[0][0]']               \n",
            " rmalization)                   )                                                                 \n",
            "                                                                                                  \n",
            " conv2d_7 (Conv2D)              (None, 254, 254, 32  544         ['activation_3[0][0]']           \n",
            "                                )                                                                 \n",
            "                                                                                                  \n",
            " activation_5 (Activation)      (None, 254, 254, 32  0           ['batch_normalization_5[0][0]']  \n",
            "                                )                                                                 \n",
            "                                                                                                  \n",
            " add_1 (Add)                    (None, 254, 254, 32  0           ['conv2d_7[0][0]',               \n",
            "                                )                                 'activation_5[0][0]']           \n",
            "                                                                                                  \n",
            " average_pooling2d_1 (AveragePo  (None, 127, 127, 32  0          ['add_1[0][0]']                  \n",
            " oling2D)                       )                                                                 \n",
            "                                                                                                  \n",
            " flatten_1 (Flatten)            (None, 516128)       0           ['average_pooling2d_1[0][0]']    \n",
            "                                                                                                  \n",
            " dense_1 (Dense)                (None, 2)            1032258     ['flatten_1[0][0]']              \n",
            "                                                                                                  \n",
            "==================================================================================================\n",
            "Total params: 1,047,426\n",
            "Trainable params: 1,047,266\n",
            "Non-trainable params: 160\n",
            "__________________________________________________________________________________________________\n"
          ]
        }
      ],
      "source": [
        "\n",
        "# Build model.\n",
        "width = data_ex[0][0].shape[0]\n",
        "height = data_ex[0][1].shape[0]\n",
        "\n",
        "with strategy.scope():\n",
        "# with tf.device('/GPU:0'):\n",
        "    model2 = get_model(width, height)\n",
        "\n",
        "model2.summary()"
      ],
      "id": "551d6ee2"
    },
    {
      "cell_type": "code",
      "execution_count": null,
      "metadata": {
        "id": "6d11ccbd"
      },
      "outputs": [],
      "source": [
        "  from google.colab.patches import cv2_imshow\n",
        "cv2_imshow(X_train_ex[20])\n"
      ],
      "id": "6d11ccbd"
    },
    {
      "cell_type": "code",
      "execution_count": null,
      "metadata": {
        "colab": {
          "base_uri": "https://localhost:8080/"
        },
        "id": "24f17033",
        "outputId": "6d4085d2-e0c4-49e9-ab0c-fa5083fea0c5"
      },
      "outputs": [
        {
          "name": "stdout",
          "output_type": "stream",
          "text": [
            "Epoch 1/12\n",
            "4/4 [==============================] - 7s 272ms/step - loss: 0.3538 - acc: 0.9298 - precision_28: 0.9298 - recall_28: 0.9298\n",
            "Epoch 2/12\n",
            "4/4 [==============================] - 1s 274ms/step - loss: 0.0787 - acc: 0.9825 - precision_28: 0.9825 - recall_28: 0.9825\n",
            "Epoch 3/12\n",
            "4/4 [==============================] - 1s 275ms/step - loss: 0.0066 - acc: 1.0000 - precision_28: 1.0000 - recall_28: 1.0000\n",
            "Epoch 4/12\n",
            "4/4 [==============================] - 1s 272ms/step - loss: 0.0239 - acc: 1.0000 - precision_28: 1.0000 - recall_28: 1.0000\n",
            "Epoch 5/12\n",
            "4/4 [==============================] - 2s 504ms/step - loss: 0.0016 - acc: 1.0000 - precision_28: 1.0000 - recall_28: 1.0000 - val_loss: 0.0011 - val_acc: 1.0000 - val_precision_28: 1.0000 - val_recall_28: 1.0000\n",
            "Epoch 6/12\n",
            "4/4 [==============================] - 1s 279ms/step - loss: 2.7787e-04 - acc: 1.0000 - precision_28: 1.0000 - recall_28: 1.0000\n",
            "Epoch 7/12\n",
            "4/4 [==============================] - 1s 283ms/step - loss: 6.6623e-04 - acc: 1.0000 - precision_28: 1.0000 - recall_28: 1.0000\n",
            "Epoch 8/12\n",
            "4/4 [==============================] - 1s 277ms/step - loss: 0.0012 - acc: 1.0000 - precision_28: 1.0000 - recall_28: 1.0000\n",
            "Epoch 9/12\n",
            "4/4 [==============================] - 1s 277ms/step - loss: 6.7299e-04 - acc: 1.0000 - precision_28: 1.0000 - recall_28: 1.0000\n",
            "Epoch 10/12\n",
            "4/4 [==============================] - 1s 316ms/step - loss: 2.0930e-04 - acc: 1.0000 - precision_28: 1.0000 - recall_28: 1.0000 - val_loss: 1.5755e-04 - val_acc: 1.0000 - val_precision_28: 1.0000 - val_recall_28: 1.0000\n",
            "Epoch 11/12\n",
            "4/4 [==============================] - 1s 279ms/step - loss: 1.4695e-04 - acc: 1.0000 - precision_28: 1.0000 - recall_28: 1.0000\n",
            "Epoch 12/12\n",
            "4/4 [==============================] - 1s 279ms/step - loss: 1.3581e-04 - acc: 1.0000 - precision_28: 1.0000 - recall_28: 1.0000\n"
          ]
        },
        {
          "data": {
            "text/plain": [
              "<keras.callbacks.History at 0x7f3ae7982740>"
            ]
          },
          "execution_count": 106,
          "metadata": {},
          "output_type": "execute_result"
        }
      ],
      "source": [
        "model2.load_weights('/content/Process_model2.h5')\n",
        "\n",
        "lr_schedule = tf.keras.optimizers.schedules.ExponentialDecay(\n",
        "    initial_learning_rate=1e-4,\n",
        "    decay_steps=10000,\n",
        "    decay_rate=0.9)\n",
        "\n",
        "with strategy.scope():\n",
        "\n",
        "\n",
        "\n",
        "# with tf.device('/GPU:0'):\n",
        "\n",
        "  model2.compile(\n",
        "      loss=\"binary_crossentropy\",\n",
        "      optimizer=tf.keras.optimizers.Adam(lr_schedule),\n",
        "      metrics=['acc',tf.keras.metrics.Precision(),\n",
        "                        tf.keras.metrics.Recall()],\n",
        "  )\n",
        "\n",
        "# Define callbacks.\n",
        "checkpoint_cb = tf.keras.callbacks.ModelCheckpoint(\n",
        "    \"image_classification-2.h5\", save_best_only=True\n",
        ")\n",
        "\n",
        "early_stopping_cb = tf.keras.callbacks.EarlyStopping(monitor=\"acc\", patience=4)\n",
        "\n",
        "\n",
        "epochs = 12\n",
        "\n",
        "model2.fit(\n",
        "    x=X_train_ex,\n",
        "    y=ytrain_ex,\n",
        "    validation_split=0.1,\n",
        "    validation_freq=5,\n",
        "    epochs=epochs,\n",
        "    shuffle=True,\n",
        "    batch_size=32,\n",
        "\n",
        "#     callbacks=[checkpoint_cb, early_stopping_cb],\n",
        ")"
      ],
      "id": "24f17033"
    },
    {
      "cell_type": "code",
      "execution_count": null,
      "metadata": {
        "id": "747598a5"
      },
      "outputs": [],
      "source": [],
      "id": "747598a5"
    },
    {
      "cell_type": "code",
      "execution_count": null,
      "metadata": {
        "colab": {
          "base_uri": "https://localhost:8080/"
        },
        "id": "cd4b2552",
        "outputId": "628b1a2f-157c-4ed0-df77-e81d561790ee"
      },
      "outputs": [
        {
          "name": "stdout",
          "output_type": "stream",
          "text": [
            "1/1 [==============================] - 0s 226ms/step\n",
            "Model Classification report \n",
            "\n",
            "               precision    recall  f1-score   support\n",
            "\n",
            "           0       0.88      0.78      0.82         9\n",
            "           1       0.87      0.93      0.90        14\n",
            "\n",
            "   micro avg       0.87      0.87      0.87        23\n",
            "   macro avg       0.87      0.85      0.86        23\n",
            "weighted avg       0.87      0.87      0.87        23\n",
            " samples avg       0.87      0.87      0.87        23\n",
            "\n",
            "Model accuracy  86.95652173913044 %\n"
          ]
        }
      ],
      "source": [
        "# model2.load_weights('Process_model2.h5')\n",
        "pred = model2.predict(X_test_ex).round()\n",
        "print('Model Classification report \\n\\n {}'.format(metrics.classification_report(ytest_ex,pred)))\n",
        "print('Model accuracy  {} %'.format(metrics.accuracy_score(ytest_ex,pred)*100))\n"
      ],
      "id": "cd4b2552"
    },
    {
      "cell_type": "code",
      "execution_count": null,
      "metadata": {
        "colab": {
          "base_uri": "https://localhost:8080/",
          "height": 472
        },
        "id": "616762c5",
        "outputId": "55e709d3-a01f-4e63-c8ea-981fd845cce1"
      },
      "outputs": [
        {
          "data": {
            "image/png": "[encoded data removed]",
            "text/plain": [
              "<Figure size 640x480 with 2 Axes>"
            ]
          },
          "metadata": {},
          "output_type": "display_data"
        }
      ],
      "source": [
        "import seaborn as sns\n",
        "class_names = ['NR','AbNR']\n",
        "ax= plt.subplot()\n",
        "cm = metrics.confusion_matrix(ytest_ex.argmax(axis=1), pred.argmax(axis=1))\n",
        "sns.heatmap(cm, annot=True, fmt='g', ax=ax);  #annot=True to annotate cells, ftm='g' to disable scientific notation\n",
        "# labels, title and ticks\n",
        "ax.set_xlabel('Predicted labels');ax.set_ylabel('True labels');\n",
        "ax.set_title('Confusion Matrix');\n",
        "ax.xaxis.set_ticklabels(class_names); ax.yaxis.set_ticklabels(class_names);\n"
      ],
      "id": "616762c5"
    },
    {
      "cell_type": "code",
      "execution_count": null,
      "metadata": {
        "id": "9bfc4611"
      },
      "outputs": [],
      "source": [
        "model2.save('Process_model2.h5')"
      ],
      "id": "9bfc4611"
    },
    {
      "cell_type": "code",
      "execution_count": null,
      "metadata": {
        "id": "74356638"
      },
      "outputs": [],
      "source": [],
      "id": "74356638"
    },
    {
      "cell_type": "code",
      "execution_count": null,
      "metadata": {
        "colab": {
          "base_uri": "https://localhost:8080/"
        },
        "id": "81270b10",
        "outputId": "3fab4baa-24b6-412b-860a-a6e3048af056"
      },
      "outputs": [
        {
          "name": "stdout",
          "output_type": "stream",
          "text": [
            "Model: \"BASE_MODEL\"\n",
            "__________________________________________________________________________________________________\n",
            " Layer (type)                   Output Shape         Param #     Connected to                     \n",
            "==================================================================================================\n",
            " input_3 (InputLayer)           [(None, 512, 512, 1  0           []                               \n",
            "                                )]                                                                \n",
            "                                                                                                  \n",
            " conv2d_8 (Conv2D)              (None, 508, 508, 16  416         ['input_3[0][0]']                \n",
            "                                )                                                                 \n",
            "                                                                                                  \n",
            " batch_normalization_6 (BatchNo  (None, 508, 508, 16  64         ['conv2d_8[0][0]']               \n",
            " rmalization)                   )                                                                 \n",
            "                                                                                                  \n",
            " activation_6 (Activation)      (None, 508, 508, 16  0           ['batch_normalization_6[0][0]']  \n",
            "                                )                                                                 \n",
            "                                                                                                  \n",
            " conv2d_9 (Conv2D)              (None, 254, 254, 32  4640        ['activation_6[0][0]']           \n",
            "                                )                                                                 \n",
            "                                                                                                  \n",
            " batch_normalization_7 (BatchNo  (None, 254, 254, 32  128        ['conv2d_9[0][0]']               \n",
            " rmalization)                   )                                                                 \n",
            "                                                                                                  \n",
            " activation_7 (Activation)      (None, 254, 254, 32  0           ['batch_normalization_7[0][0]']  \n",
            "                                )                                                                 \n",
            "                                                                                                  \n",
            " conv2d_10 (Conv2D)             (None, 254, 254, 32  9248        ['activation_7[0][0]']           \n",
            "                                )                                                                 \n",
            "                                                                                                  \n",
            " batch_normalization_8 (BatchNo  (None, 254, 254, 32  128        ['conv2d_10[0][0]']              \n",
            " rmalization)                   )                                                                 \n",
            "                                                                                                  \n",
            " conv2d_11 (Conv2D)             (None, 254, 254, 32  544         ['activation_6[0][0]']           \n",
            "                                )                                                                 \n",
            "                                                                                                  \n",
            " activation_8 (Activation)      (None, 254, 254, 32  0           ['batch_normalization_8[0][0]']  \n",
            "                                )                                                                 \n",
            "                                                                                                  \n",
            " add_2 (Add)                    (None, 254, 254, 32  0           ['conv2d_11[0][0]',              \n",
            "                                )                                 'activation_8[0][0]']           \n",
            "                                                                                                  \n",
            " average_pooling2d_2 (AveragePo  (None, 127, 127, 32  0          ['add_2[0][0]']                  \n",
            " oling2D)                       )                                                                 \n",
            "                                                                                                  \n",
            " flatten_2 (Flatten)            (None, 516128)       0           ['average_pooling2d_2[0][0]']    \n",
            "                                                                                                  \n",
            " dense_2 (Dense)                (None, 2)            1032258     ['flatten_2[0][0]']              \n",
            "                                                                                                  \n",
            "==================================================================================================\n",
            "Total params: 1,047,426\n",
            "Trainable params: 1,047,266\n",
            "Non-trainable params: 160\n",
            "__________________________________________________________________________________________________\n"
          ]
        }
      ],
      "source": [
        "\n",
        "# Build model.\n",
        "width = data[0][0].shape[0]\n",
        "height = data[0][1].shape[0]\n",
        "\n",
        "with strategy.scope():\n",
        "# with tf.device('/GPU:0'):\n",
        "    model1 = get_model(width, height)\n",
        "\n",
        "model1.summary()"
      ],
      "id": "81270b10"
    },
    {
      "cell_type": "code",
      "execution_count": null,
      "metadata": {
        "id": "c49700a5"
      },
      "outputs": [],
      "source": [],
      "id": "c49700a5"
    },
    {
      "cell_type": "code",
      "execution_count": null,
      "metadata": {
        "colab": {
          "base_uri": "https://localhost:8080/"
        },
        "id": "mHOrHOBjLYuu",
        "outputId": "2d297aef-1f71-444e-de0f-15ed978ce77a"
      },
      "outputs": [
        {
          "name": "stdout",
          "output_type": "stream",
          "text": [
            "Epoch 1/15\n",
            "5/5 [==============================] - 5s 269ms/step - loss: 0.0110 - acc: 1.0000 - precision_35: 1.0000 - recall_35: 1.0000\n",
            "Epoch 2/15\n",
            "5/5 [==============================] - 1s 262ms/step - loss: 0.0288 - acc: 1.0000 - precision_35: 1.0000 - recall_35: 1.0000\n",
            "Epoch 3/15\n",
            "5/5 [==============================] - 1s 267ms/step - loss: 0.0282 - acc: 1.0000 - precision_35: 1.0000 - recall_35: 1.0000\n",
            "Epoch 4/15\n",
            "5/5 [==============================] - 1s 267ms/step - loss: 0.0133 - acc: 1.0000 - precision_35: 1.0000 - recall_35: 1.0000\n",
            "Epoch 5/15\n",
            "5/5 [==============================] - 2s 398ms/step - loss: 4.1706e-04 - acc: 1.0000 - precision_35: 1.0000 - recall_35: 1.0000 - val_loss: 0.7235 - val_acc: 0.8125 - val_precision_35: 0.8125 - val_recall_35: 0.8125\n",
            "Epoch 6/15\n",
            "5/5 [==============================] - 1s 267ms/step - loss: 0.0071 - acc: 1.0000 - precision_35: 1.0000 - recall_35: 1.0000\n",
            "Epoch 7/15\n",
            "5/5 [==============================] - 1s 265ms/step - loss: 2.1670e-04 - acc: 1.0000 - precision_35: 1.0000 - recall_35: 1.0000\n",
            "Epoch 8/15\n",
            "5/5 [==============================] - 1s 266ms/step - loss: 0.0025 - acc: 1.0000 - precision_35: 1.0000 - recall_35: 1.0000\n",
            "Epoch 9/15\n",
            "5/5 [==============================] - 1s 268ms/step - loss: 2.2056e-04 - acc: 1.0000 - precision_35: 1.0000 - recall_35: 1.0000\n",
            "Epoch 10/15\n",
            "5/5 [==============================] - 2s 299ms/step - loss: 3.8479e-05 - acc: 1.0000 - precision_35: 1.0000 - recall_35: 1.0000 - val_loss: 0.2132 - val_acc: 1.0000 - val_precision_35: 1.0000 - val_recall_35: 1.0000\n",
            "Epoch 11/15\n",
            "5/5 [==============================] - 1s 268ms/step - loss: 1.5118e-05 - acc: 1.0000 - precision_35: 1.0000 - recall_35: 1.0000\n",
            "Epoch 12/15\n",
            "5/5 [==============================] - 1s 272ms/step - loss: 7.1086e-06 - acc: 1.0000 - precision_35: 1.0000 - recall_35: 1.0000\n",
            "Epoch 13/15\n",
            "5/5 [==============================] - 1s 276ms/step - loss: 8.2810e-06 - acc: 1.0000 - precision_35: 1.0000 - recall_35: 1.0000\n",
            "Epoch 14/15\n",
            "5/5 [==============================] - 1s 276ms/step - loss: 7.0814e-06 - acc: 1.0000 - precision_35: 1.0000 - recall_35: 1.0000\n",
            "Epoch 15/15\n",
            "5/5 [==============================] - 2s 300ms/step - loss: 6.1242e-06 - acc: 1.0000 - precision_35: 1.0000 - recall_35: 1.0000 - val_loss: 0.1555 - val_acc: 1.0000 - val_precision_35: 1.0000 - val_recall_35: 1.0000\n"
          ]
        },
        {
          "data": {
            "text/plain": [
              "<keras.callbacks.History at 0x7f3a70103520>"
            ]
          },
          "execution_count": 126,
          "metadata": {},
          "output_type": "execute_result"
        }
      ],
      "source": [
        "# model1.load_weights('No_Process_model1.h5')\n",
        "\n",
        "lr_schedule = tf.keras.optimizers.schedules.ExponentialDecay(\n",
        "    initial_learning_rate=1e-4,\n",
        "    decay_steps=10000,\n",
        "    decay_rate=0.9)\n",
        "\n",
        "with strategy.scope():\n",
        "\n",
        "\n",
        "\n",
        "# with tf.device('/GPU:0'):\n",
        "\n",
        "  model1.compile(\n",
        "      loss=\"binary_crossentropy\",\n",
        "      optimizer=tf.keras.optimizers.Adam(lr_schedule),\n",
        "      metrics=['acc',tf.keras.metrics.Precision(),\n",
        "                        tf.keras.metrics.Recall()],\n",
        "  )\n",
        "\n",
        "# Define callbacks.\n",
        "checkpoint_cb = tf.keras.callbacks.ModelCheckpoint(\n",
        "    \"image_classification-2.h5\", save_best_only=True\n",
        ")\n",
        "\n",
        "early_stopping_cb = tf.keras.callbacks.EarlyStopping(monitor=\"acc\", patience=4)\n",
        "\n",
        "\n",
        "epochs = 15\n",
        "\n",
        "model1.fit(\n",
        "    x=X_train,\n",
        "    y=ytrain,\n",
        "    validation_split=0.1,\n",
        "    validation_freq=5,\n",
        "    epochs=epochs,\n",
        "    shuffle=True,\n",
        "    batch_size=32,\n",
        "\n",
        "#     callbacks=[checkpoint_cb, early_stopping_cb],\n",
        ")"
      ],
      "id": "mHOrHOBjLYuu"
    },
    {
      "cell_type": "code",
      "execution_count": null,
      "metadata": {
        "id": "B6vIBGIzLYuw"
      },
      "outputs": [],
      "source": [],
      "id": "B6vIBGIzLYuw"
    },
    {
      "cell_type": "code",
      "execution_count": null,
      "metadata": {
        "colab": {
          "base_uri": "https://localhost:8080/"
        },
        "id": "XMxPa9D4LYux",
        "outputId": "2f61b437-3dd0-4451-b634-106e157ba079"
      },
      "outputs": [
        {
          "name": "stdout",
          "output_type": "stream",
          "text": [
            "1/1 [==============================] - 0s 72ms/step\n",
            "Model Classification report \n",
            "\n",
            "               precision    recall  f1-score   support\n",
            "\n",
            "           0       0.93      0.93      0.93        14\n",
            "           1       0.93      0.93      0.93        14\n",
            "\n",
            "   micro avg       0.93      0.93      0.93        28\n",
            "   macro avg       0.93      0.93      0.93        28\n",
            "weighted avg       0.93      0.93      0.93        28\n",
            " samples avg       0.93      0.93      0.93        28\n",
            "\n",
            "Model accuracy  92.85714285714286 %\n"
          ]
        }
      ],
      "source": [
        "# model2.load_weights('Process_model1.h5')\n",
        "pred = model1.predict(X_test).round()\n",
        "print('Model Classification report \\n\\n {}'.format(metrics.classification_report(ytest,pred)))\n",
        "print('Model accuracy  {} %'.format(metrics.accuracy_score(ytest,pred)*100))\n"
      ],
      "id": "XMxPa9D4LYux"
    },
    {
      "cell_type": "code",
      "execution_count": null,
      "metadata": {
        "colab": {
          "base_uri": "https://localhost:8080/",
          "height": 472
        },
        "id": "fBCtyG48LYuy",
        "outputId": "d2aaf783-5ca8-4928-b581-5740e2725497"
      },
      "outputs": [
        {
          "data": {
            "image/png": "[encoded data removed]",
            "text/plain": [
              "<Figure size 640x480 with 2 Axes>"
            ]
          },
          "metadata": {},
          "output_type": "display_data"
        }
      ],
      "source": [
        "import seaborn as sns\n",
        "class_names = ['NR','AbNR']\n",
        "ax= plt.subplot()\n",
        "cm = metrics.confusion_matrix(ytest.argmax(axis=1), pred.argmax(axis=1))\n",
        "sns.heatmap(cm, annot=True, fmt='g', ax=ax);  #annot=True to annotate cells, ftm='g' to disable scientific notation\n",
        "# labels, title and ticks\n",
        "ax.set_xlabel('Predicted labels');ax.set_ylabel('True labels');\n",
        "ax.set_title('Confusion Matrix');\n",
        "ax.xaxis.set_ticklabels(class_names); ax.yaxis.set_ticklabels(class_names);\n"
      ],
      "id": "fBCtyG48LYuy"
    },
    {
      "cell_type": "code",
      "execution_count": null,
      "metadata": {
        "id": "656490fc"
      },
      "outputs": [],
      "source": [
        "model1.save_weights('Process_model1.h5')"
      ],
      "id": "656490fc"
    },
    {
      "cell_type": "code",
      "execution_count": null,
      "metadata": {
        "id": "92b7286b-06be-4231-9996-8cabf9894653"
      },
      "outputs": [],
      "source": [],
      "id": "92b7286b-06be-4231-9996-8cabf9894653"
    },
    {
      "cell_type": "code",
      "execution_count": null,
      "metadata": {
        "id": "0f3029b3-a41c-42ef-9659-33ed4585d662"
      },
      "outputs": [],
      "source": [],
      "id": "0f3029b3-a41c-42ef-9659-33ed4585d662"
    },
    {
      "cell_type": "code",
      "execution_count": null,
      "metadata": {
        "id": "806facc4-8bc0-45a7-bdde-d53f763193f0"
      },
      "outputs": [],
      "source": [
        "model1 = get_model(512, 512)\n",
        "model1.load_weights('Process_model1.h5')\n",
        "\n",
        "model2 = get_model(512, 512)\n",
        "model2.load_weights('Process_model2.h5')\n"
      ],
      "id": "806facc4-8bc0-45a7-bdde-d53f763193f0"
    },
    {
      "cell_type": "code",
      "execution_count": null,
      "metadata": {
        "id": "4c439d13-8ccf-470c-9bb3-cc511d5c672e"
      },
      "outputs": [],
      "source": [],
      "id": "4c439d13-8ccf-470c-9bb3-cc511d5c672e"
    },
    {
      "cell_type": "code",
      "execution_count": null,
      "metadata": {
        "id": "902d0665"
      },
      "outputs": [],
      "source": [],
      "id": "902d0665"
    },
    {
      "cell_type": "code",
      "execution_count": null,
      "metadata": {
        "id": "eb729f74"
      },
      "outputs": [],
      "source": [
        "data_dir = pathlib.Path('IMG_EXU_SET').with_suffix('')\n",
        "# data_dir2 = pathlib.Path('IMG_EXU_SET/AbNR').with_suffix('')\n",
        "\n",
        "\n",
        "NR = data_dir.glob('NR/*.*')\n",
        "# ABNOR = data_dir.glob('ABNOR/*.*')\n",
        "\n",
        "EX = data_dir.glob('AbNR/EX/*.*')\n",
        "NO_EX =data_dir.glob('AbNR/NO_EX/*.*')\n",
        "\n",
        "# data_ex_2 = []\n",
        "data_2 = []\n",
        "labels_2 = []\n",
        "labels_ex_2 = []\n",
        "\n",
        "\n",
        "\n",
        "for i in NR:\n",
        "\n",
        "    im = PROCESSING(str(i))\n",
        "    data_2.append(im)\n",
        "    labels_2.append(0)\n",
        "    labels_ex_2.append(0)\n",
        "\n",
        "\n",
        "for i in EX:\n",
        "\n",
        "    im = PROCESSING(str(i))\n",
        "    data_2.append(im)\n",
        "    labels_2.append(1) #For abnormal\n",
        "    labels_ex_2.append(1) #For abnormal with Exudate\n",
        "\n",
        "for i in NO_EX:\n",
        "\n",
        "    im = PROCESSING(str(i))\n",
        "    data_2.append(im)\n",
        "    labels_2.append(1)\n",
        "    labels_ex_2.append(0)\n",
        "\n",
        "\n",
        "# data_ex = np.array(data_ex)\n",
        "labels_ex_2 = encode(np.array(labels_ex_2))\n",
        "data_2 = np.array(data_2)\n",
        "labels_2 = encode(np.array(labels_2))\n",
        "\n",
        "\n"
      ],
      "id": "eb729f74"
    },
    {
      "cell_type": "code",
      "execution_count": null,
      "metadata": {
        "id": "c6e846f4-e514-4bff-8716-9b3454a53ab6"
      },
      "outputs": [],
      "source": [
        "model1 = get_model(512, 512)\n",
        "model1.load_weights('Process_model1.h5')\n",
        "\n",
        "model2 = get_model(512, 512)\n",
        "model2.load_weights('Process_model2.h5')\n"
      ],
      "id": "c6e846f4-e514-4bff-8716-9b3454a53ab6"
    },
    {
      "cell_type": "code",
      "execution_count": null,
      "metadata": {
        "id": "bc0c6f6d-4e10-4e23-bbff-cb9d9d103903"
      },
      "outputs": [],
      "source": [],
      "id": "bc0c6f6d-4e10-4e23-bbff-cb9d9d103903"
    },
    {
      "cell_type": "code",
      "execution_count": null,
      "metadata": {
        "id": "860b3823-71ad-4d7b-b5ae-8d4bd3cd4c9c"
      },
      "outputs": [],
      "source": [
        "from sklearn.model_selection import train_test_split\n",
        "X_train, X_test, ytrain, ytest = train_test_split(data_2, labels_2, test_size=0.15,\n",
        "                                                random_state=38)\n",
        "\n",
        "\n",
        "# X_train_ex, X_test_ex, ytrain_ex, ytest_ex = train_test_split(data_, encode(labels_ex_), test_size=0.15,\n",
        "#                                                 random_state=32)\n"
      ],
      "id": "860b3823-71ad-4d7b-b5ae-8d4bd3cd4c9c"
    },
    {
      "cell_type": "code",
      "execution_count": null,
      "metadata": {
        "id": "d2b98756-e8df-4bf5-8cca-757ec3732f70",
        "outputId": "20413a88-1a5c-4e23-ef84-ef00ef589f61"
      },
      "outputs": [
        {
          "data": {
            "text/plain": [
              "228"
            ]
          },
          "execution_count": 30,
          "metadata": {},
          "output_type": "execute_result"
        }
      ],
      "source": [
        "data_2.shape[0]"
      ],
      "id": "d2b98756-e8df-4bf5-8cca-757ec3732f70"
    },
    {
      "cell_type": "code",
      "execution_count": null,
      "metadata": {
        "id": "7382a1ef-e346-4060-b4f6-fe760af5e2a8",
        "outputId": "24613757-fc94-44cd-ac63-9923e8efa992"
      },
      "outputs": [
        {
          "name": "stdout",
          "output_type": "stream",
          "text": [
            "1/1 [==============================] - 0s 98ms/step\n"
          ]
        },
        {
          "data": {
            "text/plain": [
              "1.0"
            ]
          },
          "execution_count": 24,
          "metadata": {},
          "output_type": "execute_result"
        }
      ],
      "source": [
        "pred1 = model1.predict(X_test[35].reshape(1,512,512)).round()\n",
        "\n",
        "\n",
        "metrics.accuracy_score(ytest[35].reshape(1,2),pred1)"
      ],
      "id": "7382a1ef-e346-4060-b4f6-fe760af5e2a8"
    },
    {
      "cell_type": "code",
      "execution_count": null,
      "metadata": {
        "id": "5a222506",
        "outputId": "c00b852e-3674-4a75-ffef-8bec633b3013"
      },
      "outputs": [
        {
          "name": "stdout",
          "output_type": "stream",
          "text": [
            "1/1 [==============================] - 0s 92ms/step\n",
            "1/1 [==============================] - 0s 75ms/step\n",
            "1/1 [==============================] - 0s 73ms/step\n",
            "1/1 [==============================] - 0s 73ms/step\n",
            "1/1 [==============================] - 0s 70ms/step\n",
            "1/1 [==============================] - 0s 81ms/step\n",
            "1/1 [==============================] - 0s 74ms/step\n",
            "1/1 [==============================] - 0s 78ms/step\n",
            "1/1 [==============================] - 0s 78ms/step\n",
            "1/1 [==============================] - 0s 74ms/step\n",
            "1/1 [==============================] - 0s 65ms/step\n",
            "1/1 [==============================] - 0s 79ms/step\n",
            "1/1 [==============================] - 0s 82ms/step\n",
            "1/1 [==============================] - 0s 63ms/step\n",
            "1/1 [==============================] - 0s 64ms/step\n",
            "1/1 [==============================] - 0s 80ms/step\n",
            "1/1 [==============================] - 0s 82ms/step\n",
            "1/1 [==============================] - 0s 74ms/step\n",
            "1/1 [==============================] - 0s 81ms/step\n",
            "1/1 [==============================] - 0s 73ms/step\n",
            "1/1 [==============================] - 0s 77ms/step\n",
            "1/1 [==============================] - 0s 64ms/step\n",
            "1/1 [==============================] - 0s 80ms/step\n",
            "1/1 [==============================] - 0s 77ms/step\n",
            "1/1 [==============================] - 0s 65ms/step\n",
            "1/1 [==============================] - 0s 74ms/step\n",
            "1/1 [==============================] - 0s 74ms/step\n",
            "1/1 [==============================] - 0s 73ms/step\n",
            "1/1 [==============================] - 0s 76ms/step\n",
            "1/1 [==============================] - 0s 78ms/step\n",
            "1/1 [==============================] - 0s 62ms/step\n",
            "1/1 [==============================] - 0s 82ms/step\n",
            "1/1 [==============================] - 0s 65ms/step\n",
            "1/1 [==============================] - 0s 81ms/step\n",
            "1/1 [==============================] - 0s 81ms/step\n",
            "1/1 [==============================] - 0s 76ms/step\n",
            "1/1 [==============================] - 0s 75ms/step\n",
            "1/1 [==============================] - 0s 78ms/step\n",
            "1/1 [==============================] - 0s 63ms/step\n",
            "1/1 [==============================] - 0s 79ms/step\n",
            "1/1 [==============================] - 0s 80ms/step\n",
            "1/1 [==============================] - 0s 80ms/step\n",
            "1/1 [==============================] - 0s 82ms/step\n",
            "1/1 [==============================] - 0s 63ms/step\n",
            "1/1 [==============================] - 0s 70ms/step\n",
            "1/1 [==============================] - 0s 81ms/step\n",
            "1/1 [==============================] - 0s 82ms/step\n",
            "1/1 [==============================] - 0s 81ms/step\n",
            "1/1 [==============================] - 0s 82ms/step\n",
            "1/1 [==============================] - 0s 82ms/step\n",
            "1/1 [==============================] - 0s 81ms/step\n",
            "1/1 [==============================] - 0s 81ms/step\n",
            "1/1 [==============================] - 0s 81ms/step\n",
            "1/1 [==============================] - 0s 78ms/step\n",
            "1/1 [==============================] - 0s 77ms/step\n",
            "1/1 [==============================] - 0s 82ms/step\n",
            "1/1 [==============================] - 0s 82ms/step\n",
            "1/1 [==============================] - 0s 79ms/step\n"
          ]
        }
      ],
      "source": [
        "Normal = [[1.,0.]]\n",
        "NotNormal = [[0.,1.]]\n",
        "Exudate = [[0.,1.]]\n",
        "NoExudate = [[1.,0.]]\n",
        "\n",
        "acc1 = []\n",
        "acc2 = []\n",
        "accu =[]\n",
        "\n",
        "for i in range(X_test.shape[0]):\n",
        "\n",
        "    pred1 = model1.predict(X_test[i].reshape(1,512,512)).round()\n",
        "    acc1.append(metrics.accuracy_score(ytest[i].reshape(1,2),pred1))\n",
        "\n",
        "    if (pred1 == Normal).all():\n",
        "        accu.append(metrics.accuracy_score(ytest[i].reshape(1,2),pred1) )\n",
        "\n",
        "\n",
        "    if (pred1 != Normal).all():\n",
        "        pred2 = model2.predict(X_test[i].reshape(1,512,512)).round()\n",
        "        acc2.append(metrics.accuracy_score(ytest[i].reshape(1,2),pred2))\n",
        "\n",
        "        accu.append(metrics.accuracy_score(ytest[i].reshape(1,2),pred2))\n",
        "\n",
        "\n",
        "\n"
      ],
      "id": "5a222506"
    },
    {
      "cell_type": "code",
      "execution_count": null,
      "metadata": {
        "id": "6e194a55"
      },
      "outputs": [],
      "source": [
        "from statistics import mean\n",
        "print('Model1 acc: ',mean(acc1))\n",
        "print('Model2 acc: ',mean(acc2))\n",
        "m = (mean(acc2) + mean(acc1))/2\n",
        "print('Overall Model acc: ',m)"
      ],
      "id": "6e194a55"
    },
    {
      "cell_type": "code",
      "execution_count": null,
      "metadata": {
        "id": "08c4bb38"
      },
      "outputs": [],
      "source": [],
      "id": "08c4bb38"
    },
    {
      "cell_type": "code",
      "execution_count": null,
      "metadata": {
        "id": "e66aed11"
      },
      "outputs": [],
      "source": [
        "print('Model acc: ',mean(accu))"
      ],
      "id": "e66aed11"
    },
    {
      "cell_type": "code",
      "execution_count": null,
      "metadata": {
        "id": "efc1ff87"
      },
      "outputs": [],
      "source": [],
      "id": "efc1ff87"
    },
    {
      "cell_type": "code",
      "execution_count": null,
      "metadata": {
        "colab": {
          "background_save": true
        },
        "id": "6f45e635",
        "outputId": "597332be-bb49-4665-a9ec-73f7c929430f"
      },
      "outputs": [
        {
          "name": "stderr",
          "output_type": "stream",
          "text": [
            "/usr/local/lib/python3.10/dist-packages/sklearn/preprocessing/_encoders.py:868: FutureWarning: `sparse` was renamed to `sparse_output` in version 1.2 and will be removed in 1.4. `sparse_output` is ignored unless you leave `sparse` to its default value.\n",
            "  warnings.warn(\n",
            "/usr/local/lib/python3.10/dist-packages/sklearn/preprocessing/_encoders.py:868: FutureWarning: `sparse` was renamed to `sparse_output` in version 1.2 and will be removed in 1.4. `sparse_output` is ignored unless you leave `sparse` to its default value.\n",
            "  warnings.warn(\n"
          ]
        }
      ],
      "source": [
        "data_dir = pathlib.Path('/content/drive/MyDrive/SUSTECH/').with_suffix('')\n",
        "# data_dir2 = pathlib.Path('IMG_EXU_SET/AbNR').with_suffix('')\n",
        "\n",
        "\n",
        "NR = data_dir.glob('Normal/*.*')\n",
        "# ABNOR = data_dir.glob('ABNOR/*.*')\n",
        "\n",
        "EX = data_dir.glob('Exudates/*.*')\n",
        "# NO_EX =data_dir.glob('AbNR/NO_EX/*.*')\n",
        "\n",
        "# data_ex_2 = []\n",
        "data_3 = []\n",
        "labels_3 = []\n",
        "labels_ex_3 = []\n",
        "\n",
        "\n",
        "\n",
        "for i in NR:\n",
        "\n",
        "    im = PROCESSING(str(i))\n",
        "    data_3.append(im)\n",
        "    labels_3.append(0)\n",
        "    labels_ex_3.append(0)\n",
        "\n",
        "\n",
        "for i in EX:\n",
        "\n",
        "    im = PROCESSING(str(i))\n",
        "    data_3.append(im)\n",
        "    labels_3.append(1) #For abnormal\n",
        "    labels_ex_3.append(1) #For abnormal with Exudate\n",
        "\n",
        "# for i in NO_EX:\n",
        "\n",
        "#     im = PROCESSING(str(i))\n",
        "#     data_2.append(im)\n",
        "#     labels_2.append(1)\n",
        "#     labels_ex_2.append(0)\n",
        "\n",
        "\n",
        "# data_ex = np.array(data_ex)\n",
        "labels_ex_3 = encode(np.array(labels_ex_3))\n",
        "data_3 = np.array(data_3)\n",
        "labels_3 = encode(np.array(labels_3))\n",
        "\n",
        "\n"
      ],
      "id": "6f45e635"
    },
    {
      "cell_type": "code",
      "execution_count": null,
      "metadata": {
        "id": "gWiYaudua5S6"
      },
      "outputs": [],
      "source": [
        "\n",
        "\n",
        "# Build model.\n",
        "width = 512\n",
        "height = 512\n",
        "\n",
        "model1 = get_model(width, height)\n"
      ],
      "id": "gWiYaudua5S6"
    },
    {
      "cell_type": "code",
      "execution_count": null,
      "metadata": {
        "id": "2TK3K4gza6I5"
      },
      "outputs": [],
      "source": [
        "from sklearn.model_selection import train_test_split\n",
        "X_train, X_test, ytrain, ytest = train_test_split(data_3, labels_3, test_size=0.15,\n",
        "                                                random_state=38)\n"
      ],
      "id": "2TK3K4gza6I5"
    },
    {
      "cell_type": "code",
      "execution_count": null,
      "metadata": {
        "colab": {
          "base_uri": "https://localhost:8080/"
        },
        "id": "V4u7aMZNa6Kr",
        "outputId": "5396ea9c-d594-4dbf-c4e5-5e889689bb03"
      },
      "outputs": [
        {
          "output_type": "stream",
          "name": "stdout",
          "text": [
            "3/3 [==============================] - 0s 85ms/step\n",
            "Model Classification report \n",
            "\n",
            "               precision    recall  f1-score   support\n",
            "\n",
            "           0       0.82      0.96      0.88        47\n",
            "           1       0.95      0.78      0.86        46\n",
            "\n",
            "   micro avg       0.87      0.87      0.87        93\n",
            "   macro avg       0.88      0.87      0.87        93\n",
            "weighted avg       0.88      0.87      0.87        93\n",
            " samples avg       0.87      0.87      0.87        93\n",
            "\n",
            "Model accuracy  87.09677419354838 %\n"
          ]
        }
      ],
      "source": [
        "model1.load_weights('Process_model1.h5')\n",
        "pred = model1.predict(X_test).round()\n",
        "print('Model Classification report \\n\\n {}'.format(metrics.classification_report(ytest,pred)))\n",
        "print('Model accuracy  {} %'.format(metrics.accuracy_score(ytest,pred)*100))\n"
      ],
      "id": "V4u7aMZNa6Kr"
    },
    {
      "cell_type": "code",
      "execution_count": null,
      "metadata": {
        "id": "x3NWbWB6a6OF"
      },
      "outputs": [],
      "source": [],
      "id": "x3NWbWB6a6OF"
    },
    {
      "cell_type": "code",
      "execution_count": null,
      "metadata": {
        "id": "O-UQmXg3a49c"
      },
      "outputs": [],
      "source": [],
      "id": "O-UQmXg3a49c"
    },
    {
      "cell_type": "code",
      "execution_count": null,
      "metadata": {
        "id": "xSPgabCoa2lW"
      },
      "outputs": [],
      "source": [],
      "id": "xSPgabCoa2lW"
    },
    {
      "cell_type": "code",
      "execution_count": null,
      "metadata": {
        "id": "341fb31d"
      },
      "outputs": [],
      "source": [],
      "id": "341fb31d"
    }
  ],
  "metadata": {
    "accelerator": "GPU",
    "colab": {
      "provenance": []
    },
    "kernelspec": {
      "display_name": "Python 3",
      "name": "python3"
    },
    "language_info": {
      "codemirror_mode": {
        "name": "ipython",
        "version": 3
      },
      "file_extension": ".py",
      "mimetype": "text/x-python",
      "name": "python",
      "nbconvert_exporter": "python",
      "pygments_lexer": "ipython3",
      "version": "3.9.7"
    }
  },
  "nbformat": 4,
  "nbformat_minor": 5
}